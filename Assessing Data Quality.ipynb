{
 "cells": [
  {
   "cell_type": "code",
   "execution_count": null,
   "id": "26c7393c-3a3f-4224-8c88-10aa58310351",
   "metadata": {},
   "outputs": [],
   "source": [
    "import pandas as pd"
   ]
  },
  {
   "cell_type": "code",
   "execution_count": null,
   "id": "dcc71d80-c6e5-41fa-bdd2-8a9c1c129cc7",
   "metadata": {},
   "outputs": [],
   "source": [
    "# Create a Pandas dataframe called trees that contains the contents of the Excel file\n",
    "trees = pd.read_excel(\"camden_trees.xlsx\")"
   ]
  },
  {
   "cell_type": "code",
   "execution_count": null,
   "id": "34c737a4-0666-450f-8db3-b14fd2c2fec5",
   "metadata": {},
   "outputs": [],
   "source": [
    "# Display the first few rows\n",
    "trees.head()"
   ]
  },
  {
   "cell_type": "code",
   "execution_count": null,
   "id": "9e7f1cf1-4e79-4cdd-a6b8-0a41c16cb153",
   "metadata": {},
   "outputs": [],
   "source": [
    "# Get the number of rows and columns\n",
    "trees.shape"
   ]
  },
  {
   "cell_type": "code",
   "execution_count": null,
   "id": "be4badda-f1c9-481c-a274-8251330cbc5a",
   "metadata": {},
   "outputs": [],
   "source": [
    "# Get a list of all the columns in the dataframe\n",
    "trees.columns"
   ]
  },
  {
   "cell_type": "code",
   "execution_count": null,
   "id": "f5b603ef-9ce1-4667-a672-5a86fe9daf1a",
   "metadata": {},
   "outputs": [],
   "source": [
    "# List the data types of each column\n",
    "trees.dtypes"
   ]
  },
  {
   "cell_type": "code",
   "execution_count": null,
   "id": "a12780eb-bcb5-4955-bc9b-28439ee81d22",
   "metadata": {},
   "outputs": [],
   "source": [
    "# Create a Pandas dataframe called trees that contains the contents of the csv file\n",
    "\n",
    "trees_env=pd.read_csv(\"trees_environmental.csv\")"
   ]
  },
  {
   "cell_type": "code",
   "execution_count": null,
   "id": "a757a003",
   "metadata": {},
   "outputs": [],
   "source": [
    "trees_env.dtypes"
   ]
  },
  {
   "cell_type": "code",
   "execution_count": null,
   "id": "4d6e254d-a3df-4004-b262-004923fdbf9a",
   "metadata": {},
   "outputs": [],
   "source": [
    "# Display the first few rows\n",
    "\n",
    "trees_env.head()"
   ]
  },
  {
   "cell_type": "code",
   "execution_count": null,
   "id": "66c23391-628f-4612-936b-7f55c561fd1b",
   "metadata": {},
   "outputs": [],
   "source": [
    "# Get the number of rows and columns\n",
    "\n",
    "\n",
    "trees_env.shape"
   ]
  },
  {
   "cell_type": "code",
   "execution_count": null,
   "id": "2ccce95e-0aec-4b3b-a961-5356606c2d60",
   "metadata": {},
   "outputs": [],
   "source": [
    "# Get a list of all the columns in the dataframe\n",
    "\n",
    "trees_env.columns"
   ]
  },
  {
   "cell_type": "code",
   "execution_count": null,
   "id": "b32a0236-40fc-44d8-a0b1-d2afb3baba19",
   "metadata": {},
   "outputs": [],
   "source": [
    "# List the data types of each column\n",
    "\n",
    "trees_env.dtypes"
   ]
  },
  {
   "cell_type": "markdown",
   "id": "35e2a8fe-944e-4ef0-b944-0a536f699455",
   "metadata": {},
   "source": [
    "<hr/>"
   ]
  },
  {
   "cell_type": "code",
   "execution_count": null,
   "id": "9d3eef7b-123a-4e3d-8d19-5808becb2d35",
   "metadata": {},
   "outputs": [],
   "source": [
    "# Create a Pandas dataframe called trees that contains the contents of the json file\n",
    " \n",
    "trees_names=pd.read_json(\"trees_name.json\")"
   ]
  },
  {
   "cell_type": "code",
   "execution_count": null,
   "id": "5d05c25c-b462-481b-b8ca-485f4b5a6cec",
   "metadata": {},
   "outputs": [],
   "source": [
    "# Display the first few rows\n",
    " \n",
    "trees_names.head()"
   ]
  },
  {
   "cell_type": "code",
   "execution_count": null,
   "id": "d6b7cc1e-1ec9-4a5e-a526-23143c0702f7",
   "metadata": {},
   "outputs": [],
   "source": [
    "# Get the number of rows and columns\n",
    " \n",
    "trees_names.shape"
   ]
  },
  {
   "cell_type": "code",
   "execution_count": null,
   "id": "f349e0ba-c2d0-469b-9f16-530394e85446",
   "metadata": {},
   "outputs": [],
   "source": [
    "# Get a list of all the columns in the dataframe\n",
    " \n",
    "trees_names.columns"
   ]
  },
  {
   "cell_type": "code",
   "execution_count": null,
   "id": "aa722c8d-db42-4d95-85cc-eb3d87bcdc5a",
   "metadata": {},
   "outputs": [],
   "source": [
    "# List the data types of each column\n",
    " \n",
    "trees_names.dtypes"
   ]
  },
  {
   "cell_type": "markdown",
   "id": "17473375-5a50-4709-9d87-8ba11c738dc9",
   "metadata": {},
   "source": [
    "<hr/>"
   ]
  },
  {
   "cell_type": "code",
   "execution_count": null,
   "id": "3a4a0915-8d0e-45a2-a919-6b9fd49160da",
   "metadata": {},
   "outputs": [],
   "source": [
    "# List of values in Site Name column and their counts     \n",
    "\n",
    "trees[\"Site Name\"].value_counts()"
   ]
  },
  {
   "cell_type": "markdown",
   "id": "9117ae6f-8ecb-429f-9e1e-84931d1291c2",
   "metadata": {},
   "source": [
    "Site Name is **qualitative nominal**."
   ]
  },
  {
   "cell_type": "code",
   "execution_count": null,
   "id": "6e6cb4e3",
   "metadata": {},
   "outputs": [],
   "source": [
    "#Contract Area -> qualitative nominal\n",
    "#Scientific Name -> qualitative nominal\n",
    "#Ward Code  ->  qualitative nominal\n",
    "# Ward Name  -> qualitative nominal\n",
    "#location -> qualitative nominal"
   ]
  },
  {
   "cell_type": "code",
   "execution_count": null,
   "id": "30f79dcc-0c78-407e-9479-131db91b2400",
   "metadata": {},
   "outputs": [],
   "source": [
    "trees[\"Contract Area\"].value_counts()"
   ]
  },
  {
   "cell_type": "code",
   "execution_count": null,
   "id": "d6f2c622",
   "metadata": {},
   "outputs": [],
   "source": [
    "trees[\"Scientific Name\"].value_counts()"
   ]
  },
  {
   "cell_type": "code",
   "execution_count": null,
   "id": "90a2c62b-fb2c-492d-a529-06cc6066802d",
   "metadata": {},
   "outputs": [],
   "source": [
    "trees[\"Ward Code\"].value_counts()"
   ]
  },
  {
   "cell_type": "code",
   "execution_count": null,
   "id": "1f38b812-f955-481d-8964-55ce58be0290",
   "metadata": {},
   "outputs": [],
   "source": [
    "trees[\"Ward Name\"].value_counts()"
   ]
  },
  {
   "cell_type": "code",
   "execution_count": null,
   "id": "128fc054-89ec-494f-b651-2e01a5e95442",
   "metadata": {},
   "outputs": [],
   "source": [
    "trees[\"Location\"].value_counts()"
   ]
  },
  {
   "cell_type": "markdown",
   "id": "098f1891-aa39-4304-9845-13cf7041d27f",
   "metadata": {},
   "source": [
    "<hr/>"
   ]
  },
  {
   "cell_type": "code",
   "execution_count": null,
   "id": "e5e26703",
   "metadata": {
    "scrolled": true
   },
   "outputs": [],
   "source": [
    "trees.info()"
   ]
  },
  {
   "cell_type": "markdown",
   "id": "465382c1",
   "metadata": {},
   "source": [
    "Numeric columns are:\n",
    "\n",
    "Number Of Trees ----> continous(int & nan)\n",
    "Height   ----------->continous (float & nan)\n",
    "Spread   ----------->continous (float & nan)\n",
    "Diameter ----------->continous (float & nan)\n",
    "Easting   ----------> Discrete\n",
    "Northing  ----------> Discrete \n",
    "Longitude ----------> continous (float & nan)\n",
    "Latitude -----------> continous (float & nan)\n"
   ]
  },
  {
   "cell_type": "code",
   "execution_count": null,
   "id": "0f449063-a7c5-4526-a057-fd20bd17ba6f",
   "metadata": {
    "scrolled": true
   },
   "outputs": [],
   "source": [
    "# Get the descriptive stats for the numeric columns\n",
    " \n",
    "trees.describe()\n"
   ]
  },
  {
   "cell_type": "code",
   "execution_count": null,
   "id": "9b793f70-5799-4eb0-aa11-4cb38f86baba",
   "metadata": {},
   "outputs": [],
   "source": [
    "# Remind ourselves of the data types\n",
    "# TODO \n",
    "trees.dtypes"
   ]
  },
  {
   "cell_type": "code",
   "execution_count": null,
   "id": "9e10d319",
   "metadata": {
    "scrolled": true
   },
   "outputs": [],
   "source": [
    "trees['Number Of Trees'].unique()"
   ]
  },
  {
   "cell_type": "code",
   "execution_count": null,
   "id": "e0d9c5ea",
   "metadata": {
    "scrolled": true
   },
   "outputs": [],
   "source": [
    "trees['Height In Metres'].unique()"
   ]
  },
  {
   "cell_type": "code",
   "execution_count": null,
   "id": "0c057ed0",
   "metadata": {
    "scrolled": true
   },
   "outputs": [],
   "source": [
    "trees['Spread In Metres'].unique()"
   ]
  },
  {
   "cell_type": "code",
   "execution_count": null,
   "id": "a3b17ad7",
   "metadata": {},
   "outputs": [],
   "source": [
    "trees['Diameter In Centimetres At Breast Height'].unique()"
   ]
  },
  {
   "cell_type": "code",
   "execution_count": 137,
   "id": "4cc06141",
   "metadata": {
    "scrolled": true
   },
   "outputs": [
    {
     "data": {
      "text/plain": [
       "array([527305., 529923.,      0., ..., 527733., 524398., 525944.])"
      ]
     },
     "execution_count": 137,
     "metadata": {},
     "output_type": "execute_result"
    }
   ],
   "source": [
    "trees['Easting'].unique()"
   ]
  },
  {
   "cell_type": "code",
   "execution_count": null,
   "id": "d5f19a27",
   "metadata": {
    "scrolled": true
   },
   "outputs": [],
   "source": [
    "trees['Northing'].unique()"
   ]
  },
  {
   "cell_type": "code",
   "execution_count": null,
   "id": "83656f5f",
   "metadata": {
    "scrolled": true
   },
   "outputs": [],
   "source": [
    "trees['Longitude'].unique()"
   ]
  },
  {
   "cell_type": "code",
   "execution_count": null,
   "id": "ec1a98d6",
   "metadata": {
    "scrolled": true
   },
   "outputs": [],
   "source": [
    "trees['Latitude'].unique()"
   ]
  },
  {
   "cell_type": "markdown",
   "id": "27c930e8-f1f0-45d1-851a-ac41f43fbdcd",
   "metadata": {},
   "source": [
    "\n",
    "<hr/>"
   ]
  },
  {
   "cell_type": "markdown",
   "id": "4ee2e405-e35f-49d7-bcd6-00c12d31fa8d",
   "metadata": {},
   "source": [
    "Numeric columns are:\n",
    "\n",
    "Number Of Trees ----> continous(int & nan)\n",
    "Height   ----------->continous (float & nan)\n",
    "Spread   ----------->continous (float & nan)\n",
    "Diameter ----------->continous (float & nan)\n",
    "Easting   ----------> Discrete\n",
    "Northing  ----------> Discrete \n",
    "Longitude ----------> continous (float & nan)\n",
    "Latitude -----------> continous (float & nan)\n"
   ]
  },
  {
   "cell_type": "markdown",
   "id": "1757e1d2",
   "metadata": {},
   "source": [
    "columns with string type:\n",
    "Identifier \n",
    "Maturity\n",
    "Physiological Condition\n",
    "Tree Set To Be Removed\n",
    "Removal Reason"
   ]
  },
  {
   "cell_type": "code",
   "execution_count": null,
   "id": "16a09476",
   "metadata": {
    "scrolled": false
   },
   "outputs": [],
   "source": [
    "trees_env['Removal Reason'].value_counts()"
   ]
  },
  {
   "cell_type": "markdown",
   "id": "f1f0f612",
   "metadata": {},
   "source": [
    "        Removal reason - nominal"
   ]
  },
  {
   "cell_type": "code",
   "execution_count": null,
   "id": "f6f91bbb",
   "metadata": {
    "scrolled": true
   },
   "outputs": [],
   "source": [
    "trees_env['Tree Set To Be Removed'].value_counts()"
   ]
  },
  {
   "cell_type": "markdown",
   "id": "fa1b4adf",
   "metadata": {},
   "source": [
    "       Tree Set To Be Removed - binary"
   ]
  },
  {
   "cell_type": "code",
   "execution_count": null,
   "id": "2da53207",
   "metadata": {
    "scrolled": true
   },
   "outputs": [],
   "source": [
    "trees_env['Physiological Condition'].value_counts()"
   ]
  },
  {
   "cell_type": "markdown",
   "id": "143ecd43",
   "metadata": {},
   "source": [
    "          Physiological Condition - nominal"
   ]
  },
  {
   "cell_type": "code",
   "execution_count": null,
   "id": "0a670825",
   "metadata": {
    "scrolled": true
   },
   "outputs": [],
   "source": [
    "trees_env['Identifier'].value_counts()"
   ]
  },
  {
   "cell_type": "markdown",
   "id": "04e80f5b",
   "metadata": {},
   "source": [
    "          Identifier     - nominal"
   ]
  },
  {
   "cell_type": "code",
   "execution_count": 147,
   "id": "26d6cdcb",
   "metadata": {},
   "outputs": [
    {
     "data": {
      "text/plain": [
       "Mature            10225\n",
       "Middle aged        7779\n",
       "Juvenile           4393\n",
       "Not Applicable      377\n",
       "Over Mature         191\n",
       "Veteran              41\n",
       "Name: Maturity, dtype: int64"
      ]
     },
     "execution_count": 147,
     "metadata": {},
     "output_type": "execute_result"
    }
   ],
   "source": [
    "trees_env['Maturity'].value_counts()"
   ]
  },
  {
   "cell_type": "markdown",
   "id": "5b39a671",
   "metadata": {},
   "source": [
    "        Maturity"
   ]
  },
  {
   "cell_type": "markdown",
   "id": "fa84e8d1-57aa-483b-bb38-e54a07e6aff8",
   "metadata": {},
   "source": [
    "<hr/>"
   ]
  },
  {
   "cell_type": "markdown",
   "id": "a3878c07",
   "metadata": {},
   "source": [
    "numeric columns\n",
    "Capital Asset Value For Amenity Trees\n",
    "Carbon Storage In Kilograms\n",
    "Gross Carbon Sequestration Per Year In Kilograms\n",
    "Pollution Removal Per Year In Grams"
   ]
  },
  {
   "cell_type": "code",
   "execution_count": null,
   "id": "557440a5",
   "metadata": {},
   "outputs": [],
   "source": [
    "# Get the descriptive stats for all numeric columns\n",
    " \n",
    "trees_env.describe()"
   ]
  },
  {
   "cell_type": "code",
   "execution_count": null,
   "id": "d0f77821-130d-4f5d-b92e-0ce89e6b3bcd",
   "metadata": {
    "scrolled": true
   },
   "outputs": [],
   "source": [
    "# Remind ourselves of the data types\n",
    " \n",
    "trees_env.dtypes"
   ]
  },
  {
   "cell_type": "code",
   "execution_count": 156,
   "id": "20d9ddc5-3be9-4836-bc1a-5974d9b6b6b8",
   "metadata": {
    "scrolled": true
   },
   "outputs": [
    {
     "data": {
      "text/plain": [
       "array([  5.7,   nan, 215.2, ...,   8. , 399.9,  60.1])"
      ]
     },
     "execution_count": 156,
     "metadata": {},
     "output_type": "execute_result"
    }
   ],
   "source": [
    "trees_env['Pollution Removal Per Year In Grams'].unique()"
   ]
  },
  {
   "cell_type": "code",
   "execution_count": null,
   "id": "0ac2cda7-cc1c-4a51-935e-033958ee9072",
   "metadata": {
    "scrolled": false
   },
   "outputs": [],
   "source": [
    "trees_env['Gross Carbon Sequestration Per Year In Kilograms'].unique()"
   ]
  },
  {
   "cell_type": "code",
   "execution_count": null,
   "id": "5503930d-debf-40d0-b845-e00adc7ac40b",
   "metadata": {
    "scrolled": true
   },
   "outputs": [],
   "source": [
    "trees_env['Carbon Storage In Kilograms'].unique()"
   ]
  },
  {
   "cell_type": "code",
   "execution_count": null,
   "id": "2a1ad19d-b9d9-4752-a876-c39121829f22",
   "metadata": {
    "scrolled": true
   },
   "outputs": [],
   "source": [
    "trees_env['Capital Asset Value For Amenity Trees'].unique()"
   ]
  },
  {
   "cell_type": "markdown",
   "id": "6d550cf1-defa-4c65-9fcf-7d334a0c8899",
   "metadata": {},
   "source": [
    "<hr/>"
   ]
  },
  {
   "cell_type": "markdown",
   "id": "1467aacd-ee75-46c9-b1d9-753c78869723",
   "metadata": {},
   "source": [
    "Capital Asset Value For Amenity Trees ------------- continous(float)\n",
    "Carbon Storage In Kilograms ----------------------- continuous(float &nan)\n",
    "Gross Carbon Sequestration Per Year In Kilograms--- continous(float & nan)\n",
    "Pollution Removal Per Year In Grams ---------------continous(float & nan)"
   ]
  },
  {
   "cell_type": "code",
   "execution_count": null,
   "id": "0c83c5e3-e84a-4e29-a05c-2c10b7d5dfb0",
   "metadata": {},
   "outputs": [],
   "source": [
    "trees_names.dtypes"
   ]
  },
  {
   "cell_type": "code",
   "execution_count": null,
   "id": "35938f1c",
   "metadata": {
    "scrolled": true
   },
   "outputs": [],
   "source": [
    "trees_names['Common Name'].value_counts()"
   ]
  },
  {
   "cell_type": "markdown",
   "id": "c17073af",
   "metadata": {},
   "source": [
    "nominal"
   ]
  },
  {
   "cell_type": "code",
   "execution_count": 158,
   "id": "ca5c98b7-a9c5-4ece-bb76-ed03a804525e",
   "metadata": {},
   "outputs": [
    {
     "data": {
      "text/plain": [
       "Cupressocyparis leylandii                             2\n",
       "Larix decidua                                         2\n",
       "Salix fragilis                                        2\n",
       "Alnus cordata                                         2\n",
       "Populus nigra                                         2\n",
       "                                                     ..\n",
       "Pyrus salicifolia 'Pendula'                           1\n",
       "Chamaecyparis lawsoniana 'unid                        1\n",
       "Platanus x hispanica Tremonia                         1\n",
       "Vacant Tree Pit (planned: Gymnocladus dioicus)        1\n",
       "Vacant Tree Pit (planned: Liquidambar styraciflua)    1\n",
       "Name: Scientific Name, Length: 560, dtype: int64"
      ]
     },
     "execution_count": 158,
     "metadata": {},
     "output_type": "execute_result"
    }
   ],
   "source": [
    "trees_names['Scientific Name'].value_counts()"
   ]
  },
  {
   "cell_type": "markdown",
   "id": "58738030",
   "metadata": {},
   "source": [
    "nominal"
   ]
  },
  {
   "cell_type": "code",
   "execution_count": null,
   "id": "0bd1e712-9211-44f8-a22c-fb1df46c1961",
   "metadata": {},
   "outputs": [],
   "source": [
    "# Percentage of null values\n",
    "trees.isnull().mean()*100"
   ]
  },
  {
   "cell_type": "code",
   "execution_count": null,
   "id": "afbf5093-5716-440a-8f89-eeb6a5d66662",
   "metadata": {},
   "outputs": [],
   "source": [
    "# Number of null values\n",
    "trees.isnull().sum()"
   ]
  },
  {
   "cell_type": "code",
   "execution_count": null,
   "id": "cde99d54-297d-41d8-954d-94ba2e08a2c5",
   "metadata": {},
   "outputs": [],
   "source": [
    "# Percentage of zero values\n",
    "trees.isin([0]).mean()*100"
   ]
  },
  {
   "cell_type": "code",
   "execution_count": null,
   "id": "d0947b5d-8978-46d8-8d57-252d29c25ca8",
   "metadata": {},
   "outputs": [],
   "source": [
    "# Number of zero values\n",
    "trees.isin([0]).sum()"
   ]
  },
  {
   "cell_type": "code",
   "execution_count": null,
   "id": "de03ea2b-8ea2-48ff-b620-d9fd16290c7b",
   "metadata": {},
   "outputs": [],
   "source": [
    "# Percentage of null and zero values\n",
    "(trees.isnull().sum() + trees.isin([0]).sum())/trees.shape[0]"
   ]
  },
  {
   "cell_type": "code",
   "execution_count": null,
   "id": "f43e38e0-00c6-4ebd-9899-8f91557becb7",
   "metadata": {},
   "outputs": [],
   "source": [
    "# Number of null and zero values\n",
    "(trees.isnull().sum() + trees.isin([0]).sum())"
   ]
  },
  {
   "cell_type": "code",
   "execution_count": null,
   "id": "45971fda-0b80-4652-bc63-ed8baeaad087",
   "metadata": {},
   "outputs": [],
   "source": [
    "# Percentage of null values\n",
    " \n",
    "\n",
    "trees_env.isnull().mean()*100"
   ]
  },
  {
   "cell_type": "code",
   "execution_count": null,
   "id": "35471141-aca6-453d-afc8-babde8975f14",
   "metadata": {},
   "outputs": [],
   "source": [
    "# Number of null values\n",
    " \n",
    "trees_env.isnull().sum()"
   ]
  },
  {
   "cell_type": "code",
   "execution_count": null,
   "id": "333f86d0-8443-48b5-ba17-6bb91cfd1190",
   "metadata": {},
   "outputs": [],
   "source": [
    "# Percentage of zero values\n",
    " \n",
    "trees_env.isin([0]).mean()*100"
   ]
  },
  {
   "cell_type": "code",
   "execution_count": null,
   "id": "809d3c20-113f-4665-b18d-cbdaa07b613c",
   "metadata": {},
   "outputs": [],
   "source": [
    "# Number of zero values\n",
    " \n",
    "trees_env.isin([0]).sum()"
   ]
  },
  {
   "cell_type": "code",
   "execution_count": null,
   "id": "bbada47a-e7aa-43be-bfca-624feda60cb7",
   "metadata": {},
   "outputs": [],
   "source": [
    "# Percentage of null and zero values\n",
    " \n",
    "(trees_env.isnull().sum()+trees_env.isin([0]).sum())/trees_env.shape[0]"
   ]
  },
  {
   "cell_type": "code",
   "execution_count": null,
   "id": "27dcd851-d4a3-4014-9167-9330c033738d",
   "metadata": {},
   "outputs": [],
   "source": [
    "# Number of null and zero values\n",
    " \n",
    "trees_env.isnull().sum()+trees_env.isin([0]).sum()"
   ]
  },
  {
   "cell_type": "markdown",
   "id": "cc5e09d4-fc27-454c-8462-f918e46a241e",
   "metadata": {},
   "source": [
    "<hr/>"
   ]
  },
  {
   "cell_type": "code",
   "execution_count": null,
   "id": "b881b1d4-661d-46f6-943a-a5037f98facb",
   "metadata": {},
   "outputs": [],
   "source": [
    "#percentage of null\n",
    "\n",
    "trees_names.isnull().mean()*100"
   ]
  },
  {
   "cell_type": "code",
   "execution_count": null,
   "id": "76c4b171",
   "metadata": {},
   "outputs": [],
   "source": [
    "#sum of null\n",
    "trees_names.isnull().sum()"
   ]
  },
  {
   "cell_type": "code",
   "execution_count": null,
   "id": "93147d01",
   "metadata": {},
   "outputs": [],
   "source": [
    "#percentage of zero\n",
    "trees_names.isin([0]).mean()*100"
   ]
  },
  {
   "cell_type": "code",
   "execution_count": null,
   "id": "fffb33c8",
   "metadata": {},
   "outputs": [],
   "source": [
    "#sum of zero\n",
    "trees_names.isin([0]).sum()"
   ]
  },
  {
   "cell_type": "code",
   "execution_count": null,
   "id": "c43ce5ff",
   "metadata": {},
   "outputs": [],
   "source": [
    "#percentage of zero and null\n",
    "\n",
    "(trees_names.isnull().sum()+trees_names.isin([0]).sum() )/trees_names.shape[0]"
   ]
  },
  {
   "cell_type": "code",
   "execution_count": null,
   "id": "2b045e6c",
   "metadata": {},
   "outputs": [],
   "source": [
    "# removal reason column has to be deleted           "
   ]
  },
  {
   "cell_type": "markdown",
   "id": "a4094437-06e3-4376-9c94-14e30a910c36",
   "metadata": {},
   "source": [
    "tree dataset:\n",
    " %1.7-% 1.8 null values in 5 columns:\n",
    " Inspection Date -Inspection Due Date-Height In Metres-Spread In Metres \n",
    " -Diameter In Centimetres At Breast Height\n",
    " ************************************\n",
    " %1.1 zero values in 2 columns \n",
    " Spread In Metres-Diameter In Centimetres At Breast Height\n",
    " \n",
    " Environmental Dataset:\n",
    " %99 removal reason null\n",
    " 3 columns with %12.2\n",
    " 1 column with %1.18 zero\n",
    " ************************************\n",
    "Common Names Dataset :\n",
    "%4 common name null\n",
    "no zero values\n",
    "******************************\n",
    "Removal reason column from the enviromental data set need to be removed\n",
    "\n"
   ]
  },
  {
   "cell_type": "code",
   "execution_count": null,
   "id": "71f12688",
   "metadata": {},
   "outputs": [],
   "source": [
    "import matplotlib.pyplot as plt\n"
   ]
  },
  {
   "cell_type": "code",
   "execution_count": null,
   "id": "3eaf78f3",
   "metadata": {},
   "outputs": [],
   "source": [
    "trees.describe()"
   ]
  },
  {
   "cell_type": "code",
   "execution_count": 168,
   "id": "ecaa87b9-9558-4fd6-8383-3a8046d26a5c",
   "metadata": {},
   "outputs": [
    {
     "data": {
      "image/png": "[encoded data removed]",
      "text/plain": [
       "<Figure size 432x288 with 1 Axes>"
      ]
     },
     "metadata": {
      "needs_background": "light"
     },
     "output_type": "display_data"
    }
   ],
   "source": [
    "# Use a boxplot to find the outliers\n",
    "# TODO\n",
    "trees_box_plot= trees.boxplot(column='Height In Metres')\n",
    "trees_box_plot.plot()\n",
    "plt.show()"
   ]
  },
  {
   "cell_type": "code",
   "execution_count": null,
   "id": "7a614957-0a50-41f2-bebd-ca48e3660674",
   "metadata": {},
   "outputs": [],
   "source": [
    "# Select the crazy outlier rows\n",
    " \n",
    "mask=trees['Height In Metres']>60\n",
    "trees[mask]"
   ]
  },
  {
   "cell_type": "markdown",
   "id": "c3e7ff2b-b69c-4095-a20d-bd6d2df1e68a",
   "metadata": {},
   "source": [
    "<hr/>"
   ]
  },
  {
   "cell_type": "code",
   "execution_count": null,
   "id": "ce6760cf-78d0-465d-b4a3-f199596983fa",
   "metadata": {},
   "outputs": [],
   "source": [
    "# Use a boxplot to find the outliers\n",
    "# TODO\n",
    "spread_box=trees.boxplot(column='Spread In Metres')\n",
    "spread_box.plot()\n",
    "plt.show()"
   ]
  },
  {
   "cell_type": "code",
   "execution_count": null,
   "id": "6ab3697f-02f9-4e35-acd7-520ac7a1aa83",
   "metadata": {},
   "outputs": [],
   "source": [
    "# Select the crazy outlier rows (if any)\n",
    "# TODO\n",
    "spread_mask=trees['Spread In Metres']>40\n",
    "trees[spread_mask]"
   ]
  },
  {
   "cell_type": "markdown",
   "id": "70810045-0b5e-4dfe-bba1-fe6b0c2ea8d0",
   "metadata": {},
   "source": [
    "<hr/>"
   ]
  },
  {
   "cell_type": "code",
   "execution_count": null,
   "id": "03fa285e",
   "metadata": {},
   "outputs": [],
   "source": [
    "trees['Diameter In Centimetres At Breast Height'].describe()"
   ]
  },
  {
   "cell_type": "code",
   "execution_count": null,
   "id": "29a22189",
   "metadata": {},
   "outputs": [],
   "source": [
    "#diameter no outliers"
   ]
  },
  {
   "cell_type": "code",
   "execution_count": null,
   "id": "f09b82f0-44c7-4b2c-b7d6-7b1059f8e424",
   "metadata": {},
   "outputs": [],
   "source": [
    "# Use a boxplot to find the outliers\n",
    "# TODO\n",
    "diameter_box= trees.boxplot(column='Diameter In Centimetres At Breast Height')\n",
    "diameter_box.plot()\n",
    "plt.show()"
   ]
  },
  {
   "cell_type": "markdown",
   "id": "bd36393a-8904-4be8-affe-1a99e5d4e69f",
   "metadata": {},
   "source": [
    "outliers\n",
    "\n",
    "2 trees with height 96.0 & 127.0 \n",
    "1 tree with spread 88.0 \n",
    "no outliers for diameter"
   ]
  },
  {
   "cell_type": "code",
   "execution_count": null,
   "id": "a40454f4-03e9-43b3-a0d8-6fcb756ba90b",
   "metadata": {
    "scrolled": true
   },
   "outputs": [],
   "source": [
    "# Find out if we have any duplicates\n",
    " \n",
    "trees['Identifier'].value_counts()"
   ]
  },
  {
   "cell_type": "code",
   "execution_count": null,
   "id": "a62ad0b0",
   "metadata": {
    "scrolled": true
   },
   "outputs": [],
   "source": [
    "# series of value counts\n",
    "x=trees['Identifier'].value_counts()\n",
    "#series of duplicate\n",
    "x=x[x>1]\n",
    "x"
   ]
  },
  {
   "cell_type": "code",
   "execution_count": null,
   "id": "3d2fbdbf-c839-4e84-ad7c-add0f4fa31ef",
   "metadata": {
    "scrolled": true
   },
   "outputs": [],
   "source": [
    "# Select the rows that are duplicated\n",
    " \n",
    "# filter column based on the x series\n",
    "y=trees['Identifier'].isin(x[x>1].index)\n",
    "trees[y]"
   ]
  },
  {
   "cell_type": "markdown",
   "id": "7aaa910b-ccc4-4f78-80cd-467b683fe2e1",
   "metadata": {},
   "source": [
    "\n",
    "we have few ID duplicated but giving the size of the data the duplicated rows are not a problem"
   ]
  },
  {
   "cell_type": "markdown",
   "id": "d0f41ea4-112c-4ea9-96a5-ca76e4b972b3",
   "metadata": {},
   "source": [
    "<hr/>"
   ]
  },
  {
   "cell_type": "code",
   "execution_count": null,
   "id": "913c1d69-b105-44aa-be2f-73b537313c6e",
   "metadata": {},
   "outputs": [],
   "source": [
    "# Make a copy of the trees\n",
    "geotrees = trees.copy()"
   ]
  },
  {
   "cell_type": "code",
   "execution_count": null,
   "id": "3a9b5bf6-bda3-472f-9796-060023cff4e8",
   "metadata": {},
   "outputs": [],
   "source": [
    "# Remove null Eastings\n",
    " \n",
    "mask_eastings=geotrees['Easting'].isnull()"
   ]
  },
  {
   "cell_type": "code",
   "execution_count": null,
   "id": "5a0967d3",
   "metadata": {},
   "outputs": [],
   "source": [
    "df=geotrees['Easting'].dropna()"
   ]
  },
  {
   "cell_type": "code",
   "execution_count": null,
   "id": "435a0386",
   "metadata": {},
   "outputs": [],
   "source": [
    "geotrees['Easting'].isnull().value_counts()"
   ]
  },
  {
   "cell_type": "code",
   "execution_count": null,
   "id": "7f77324a-f2e4-4d69-a0fe-1d71757c6f6e",
   "metadata": {},
   "outputs": [],
   "source": [
    "# Remove 0 Eastings.  \n",
    "  \n",
    "zero_mask=geotrees['Easting'].isin([0])\n",
    "geotrees['Easting'].isin([0]).value_counts()"
   ]
  },
  {
   "cell_type": "code",
   "execution_count": null,
   "id": "841eca5e",
   "metadata": {},
   "outputs": [],
   "source": [
    "geotrees =geotrees[geotrees.Easting !=0]\n",
    "geotrees['Easting'].isin([0]).value_counts()"
   ]
  },
  {
   "cell_type": "code",
   "execution_count": null,
   "id": "40ccb789-0cab-4218-9caa-e7e08b2b71ae",
   "metadata": {},
   "outputs": [],
   "source": [
    "# Remove null Northings\n",
    " \n",
    "geotrees['Northing'].isnull().sum()"
   ]
  },
  {
   "cell_type": "code",
   "execution_count": null,
   "id": "c77858c5-99e7-4f1f-affa-bd2370b9aed8",
   "metadata": {},
   "outputs": [],
   "source": [
    "# Remove 0 Northings.  \n",
    " \n",
    "geotrees['Northing'].isin([0]).value_counts()"
   ]
  },
  {
   "cell_type": "code",
   "execution_count": null,
   "id": "616a5473-5d71-486a-9ea0-c401fc7f4428",
   "metadata": {},
   "outputs": [],
   "source": [
    "# Confirm how many rows we have\n",
    " \n",
    "geotrees[['Northing','Easting']].count()"
   ]
  },
  {
   "cell_type": "markdown",
   "id": "a63dbcfc-e781-4812-9a10-1cf5be028dae",
   "metadata": {},
   "source": [
    "<hr/>"
   ]
  },
  {
   "cell_type": "code",
   "execution_count": 181,
   "id": "b51e227f-bd09-4064-9f60-be766962646d",
   "metadata": {},
   "outputs": [
    {
     "data": {
      "text/plain": [
       "<AxesSubplot:xlabel='Easting', ylabel='Northing'>"
      ]
     },
     "execution_count": 181,
     "metadata": {},
     "output_type": "execute_result"
    },
    {
     "data": {
      "image/png": "[encoded data removed]",
      "text/plain": [
       "<Figure size 432x288 with 1 Axes>"
      ]
     },
     "metadata": {
      "needs_background": "light"
     },
     "output_type": "display_data"
    }
   ],
   "source": [
    "# Plot the trees on a map\n",
    " \n",
    "geotrees.plot( x='Easting',y='Northing',kind='scatter')"
   ]
  },
  {
   "cell_type": "code",
   "execution_count": 182,
   "id": "4b992a8f-d5be-4adb-a383-4f8e5505b2ed",
   "metadata": {
    "scrolled": true
   },
   "outputs": [
    {
     "data": {
      "text/html": [
       "<div>\n",
       "<style scoped>\n",
       "    .dataframe tbody tr th:only-of-type {\n",
       "        vertical-align: middle;\n",
       "    }\n",
       "\n",
       "    .dataframe tbody tr th {\n",
       "        vertical-align: top;\n",
       "    }\n",
       "\n",
       "    .dataframe thead th {\n",
       "        text-align: right;\n",
       "    }\n",
       "</style>\n",
       "<table border=\"1\" class=\"dataframe\">\n",
       "  <thead>\n",
       "    <tr style=\"text-align: right;\">\n",
       "      <th></th>\n",
       "      <th>Identifier</th>\n",
       "      <th>Number Of Trees</th>\n",
       "      <th>Site Name</th>\n",
       "      <th>Contract Area</th>\n",
       "      <th>Scientific Name</th>\n",
       "      <th>Inspection Date</th>\n",
       "      <th>Inspection Due Date</th>\n",
       "      <th>Height In Metres</th>\n",
       "      <th>Spread In Metres</th>\n",
       "      <th>Diameter In Centimetres At Breast Height</th>\n",
       "      <th>Ward Code</th>\n",
       "      <th>Ward Name</th>\n",
       "      <th>Easting</th>\n",
       "      <th>Northing</th>\n",
       "      <th>Longitude</th>\n",
       "      <th>Latitude</th>\n",
       "      <th>Location</th>\n",
       "    </tr>\n",
       "  </thead>\n",
       "  <tbody>\n",
       "    <tr>\n",
       "      <th>78</th>\n",
       "      <td>00044991</td>\n",
       "      <td>1.0</td>\n",
       "      <td>Bells Hill Estate</td>\n",
       "      <td>Housing</td>\n",
       "      <td>Fraxinus excelsior</td>\n",
       "      <td>2017-04-28</td>\n",
       "      <td>2020/2021</td>\n",
       "      <td>20.0</td>\n",
       "      <td>10.0</td>\n",
       "      <td>49.0</td>\n",
       "      <td>NaN</td>\n",
       "      <td>NaN</td>\n",
       "      <td>523883.0</td>\n",
       "      <td>196179.0</td>\n",
       "      <td>-0.210713</td>\n",
       "      <td>51.650765</td>\n",
       "      <td>(51.650765, -0.210713)</td>\n",
       "    </tr>\n",
       "    <tr>\n",
       "      <th>298</th>\n",
       "      <td>00045000</td>\n",
       "      <td>1.0</td>\n",
       "      <td>Estate 167 Furzehill Road</td>\n",
       "      <td>Housing</td>\n",
       "      <td>Pinus sylvestris</td>\n",
       "      <td>2017-04-28</td>\n",
       "      <td>2020/2021</td>\n",
       "      <td>10.0</td>\n",
       "      <td>3.0</td>\n",
       "      <td>41.0</td>\n",
       "      <td>NaN</td>\n",
       "      <td>NaN</td>\n",
       "      <td>520367.0</td>\n",
       "      <td>195595.0</td>\n",
       "      <td>-0.261719</td>\n",
       "      <td>51.646283</td>\n",
       "      <td>(51.646283, -0.261719)</td>\n",
       "    </tr>\n",
       "    <tr>\n",
       "      <th>660</th>\n",
       "      <td>00044992</td>\n",
       "      <td>1.0</td>\n",
       "      <td>Bells Hill Estate</td>\n",
       "      <td>Housing</td>\n",
       "      <td>Crataegus monogyna</td>\n",
       "      <td>2017-04-28</td>\n",
       "      <td>2020/2021</td>\n",
       "      <td>4.0</td>\n",
       "      <td>4.0</td>\n",
       "      <td>7.0</td>\n",
       "      <td>NaN</td>\n",
       "      <td>NaN</td>\n",
       "      <td>523875.0</td>\n",
       "      <td>196170.0</td>\n",
       "      <td>-0.210830</td>\n",
       "      <td>51.650690</td>\n",
       "      <td>(51.65069, -0.21083)</td>\n",
       "    </tr>\n",
       "    <tr>\n",
       "      <th>1526</th>\n",
       "      <td>00044995</td>\n",
       "      <td>1.0</td>\n",
       "      <td>Bells Hill Estate</td>\n",
       "      <td>Housing</td>\n",
       "      <td>Fraxinus excelsior</td>\n",
       "      <td>2017-04-28</td>\n",
       "      <td>2020/2021</td>\n",
       "      <td>18.0</td>\n",
       "      <td>12.0</td>\n",
       "      <td>54.0</td>\n",
       "      <td>NaN</td>\n",
       "      <td>NaN</td>\n",
       "      <td>523936.0</td>\n",
       "      <td>196127.0</td>\n",
       "      <td>-0.209969</td>\n",
       "      <td>51.650287</td>\n",
       "      <td>(51.650287, -0.209969)</td>\n",
       "    </tr>\n",
       "    <tr>\n",
       "      <th>5392</th>\n",
       "      <td>00044990</td>\n",
       "      <td>1.0</td>\n",
       "      <td>Bells Hill Estate</td>\n",
       "      <td>Housing</td>\n",
       "      <td>Aesculus hippocastanum</td>\n",
       "      <td>2017-04-28</td>\n",
       "      <td>2020/2021</td>\n",
       "      <td>22.0</td>\n",
       "      <td>12.0</td>\n",
       "      <td>67.0</td>\n",
       "      <td>NaN</td>\n",
       "      <td>NaN</td>\n",
       "      <td>523889.0</td>\n",
       "      <td>196188.0</td>\n",
       "      <td>-0.210618</td>\n",
       "      <td>51.650843</td>\n",
       "      <td>(51.650843, -0.210618)</td>\n",
       "    </tr>\n",
       "    <tr>\n",
       "      <th>18069</th>\n",
       "      <td>00044993</td>\n",
       "      <td>1.0</td>\n",
       "      <td>Bells Hill Estate</td>\n",
       "      <td>Housing</td>\n",
       "      <td>Tilia cordata</td>\n",
       "      <td>2017-04-28</td>\n",
       "      <td>2020/2021</td>\n",
       "      <td>23.0</td>\n",
       "      <td>14.0</td>\n",
       "      <td>89.0</td>\n",
       "      <td>NaN</td>\n",
       "      <td>NaN</td>\n",
       "      <td>523867.0</td>\n",
       "      <td>196159.0</td>\n",
       "      <td>-0.210957</td>\n",
       "      <td>51.650590</td>\n",
       "      <td>(51.65059, -0.210957)</td>\n",
       "    </tr>\n",
       "    <tr>\n",
       "      <th>18078</th>\n",
       "      <td>00044601</td>\n",
       "      <td>1.0</td>\n",
       "      <td>Bells Hill Estate</td>\n",
       "      <td>Housing</td>\n",
       "      <td>Tilia cordata</td>\n",
       "      <td>2017-04-28</td>\n",
       "      <td>2020/2021</td>\n",
       "      <td>21.0</td>\n",
       "      <td>12.0</td>\n",
       "      <td>56.0</td>\n",
       "      <td>NaN</td>\n",
       "      <td>NaN</td>\n",
       "      <td>523905.0</td>\n",
       "      <td>196174.0</td>\n",
       "      <td>-0.210394</td>\n",
       "      <td>51.650719</td>\n",
       "      <td>(51.650719, -0.210394)</td>\n",
       "    </tr>\n",
       "    <tr>\n",
       "      <th>19532</th>\n",
       "      <td>00044988</td>\n",
       "      <td>1.0</td>\n",
       "      <td>Bells Hill Estate</td>\n",
       "      <td>Housing</td>\n",
       "      <td>Tilia cordata</td>\n",
       "      <td>2017-04-28</td>\n",
       "      <td>2020/2021</td>\n",
       "      <td>21.0</td>\n",
       "      <td>12.0</td>\n",
       "      <td>65.0</td>\n",
       "      <td>NaN</td>\n",
       "      <td>NaN</td>\n",
       "      <td>523909.0</td>\n",
       "      <td>196169.0</td>\n",
       "      <td>-0.210340</td>\n",
       "      <td>51.650676</td>\n",
       "      <td>(51.650676, -0.21034)</td>\n",
       "    </tr>\n",
       "  </tbody>\n",
       "</table>\n",
       "</div>"
      ],
      "text/plain": [
       "      Identifier  Number Of Trees                  Site Name Contract Area  \\\n",
       "78      00044991              1.0          Bells Hill Estate       Housing   \n",
       "298     00045000              1.0  Estate 167 Furzehill Road       Housing   \n",
       "660     00044992              1.0          Bells Hill Estate       Housing   \n",
       "1526    00044995              1.0          Bells Hill Estate       Housing   \n",
       "5392    00044990              1.0          Bells Hill Estate       Housing   \n",
       "18069   00044993              1.0          Bells Hill Estate       Housing   \n",
       "18078   00044601              1.0          Bells Hill Estate       Housing   \n",
       "19532   00044988              1.0          Bells Hill Estate       Housing   \n",
       "\n",
       "              Scientific Name Inspection Date Inspection Due Date  \\\n",
       "78         Fraxinus excelsior      2017-04-28           2020/2021   \n",
       "298          Pinus sylvestris      2017-04-28           2020/2021   \n",
       "660        Crataegus monogyna      2017-04-28           2020/2021   \n",
       "1526       Fraxinus excelsior      2017-04-28           2020/2021   \n",
       "5392   Aesculus hippocastanum      2017-04-28           2020/2021   \n",
       "18069           Tilia cordata      2017-04-28           2020/2021   \n",
       "18078           Tilia cordata      2017-04-28           2020/2021   \n",
       "19532           Tilia cordata      2017-04-28           2020/2021   \n",
       "\n",
       "       Height In Metres  Spread In Metres  \\\n",
       "78                 20.0              10.0   \n",
       "298                10.0               3.0   \n",
       "660                 4.0               4.0   \n",
       "1526               18.0              12.0   \n",
       "5392               22.0              12.0   \n",
       "18069              23.0              14.0   \n",
       "18078              21.0              12.0   \n",
       "19532              21.0              12.0   \n",
       "\n",
       "       Diameter In Centimetres At Breast Height Ward Code Ward Name   Easting  \\\n",
       "78                                         49.0       NaN       NaN  523883.0   \n",
       "298                                        41.0       NaN       NaN  520367.0   \n",
       "660                                         7.0       NaN       NaN  523875.0   \n",
       "1526                                       54.0       NaN       NaN  523936.0   \n",
       "5392                                       67.0       NaN       NaN  523889.0   \n",
       "18069                                      89.0       NaN       NaN  523867.0   \n",
       "18078                                      56.0       NaN       NaN  523905.0   \n",
       "19532                                      65.0       NaN       NaN  523909.0   \n",
       "\n",
       "       Northing  Longitude   Latitude                Location  \n",
       "78     196179.0  -0.210713  51.650765  (51.650765, -0.210713)  \n",
       "298    195595.0  -0.261719  51.646283  (51.646283, -0.261719)  \n",
       "660    196170.0  -0.210830  51.650690    (51.65069, -0.21083)  \n",
       "1526   196127.0  -0.209969  51.650287  (51.650287, -0.209969)  \n",
       "5392   196188.0  -0.210618  51.650843  (51.650843, -0.210618)  \n",
       "18069  196159.0  -0.210957  51.650590   (51.65059, -0.210957)  \n",
       "18078  196174.0  -0.210394  51.650719  (51.650719, -0.210394)  \n",
       "19532  196169.0  -0.210340  51.650676   (51.650676, -0.21034)  "
      ]
     },
     "execution_count": 182,
     "metadata": {},
     "output_type": "execute_result"
    }
   ],
   "source": [
    "# Select the outlier rows\n",
    " \n",
    "out_rows= geotrees['Northing']>194000\n",
    "geotrees[out_rows]"
   ]
  },
  {
   "cell_type": "code",
   "execution_count": 183,
   "id": "0270dae9-9bcf-4b63-95cf-13b7c5184424",
   "metadata": {
    "scrolled": true
   },
   "outputs": [
    {
     "data": {
      "text/plain": [
       "Identifier                                  8\n",
       "Number Of Trees                             8\n",
       "Site Name                                   8\n",
       "Contract Area                               8\n",
       "Scientific Name                             8\n",
       "Inspection Date                             8\n",
       "Inspection Due Date                         8\n",
       "Height In Metres                            8\n",
       "Spread In Metres                            8\n",
       "Diameter In Centimetres At Breast Height    8\n",
       "Ward Code                                   0\n",
       "Ward Name                                   0\n",
       "Easting                                     8\n",
       "Northing                                    8\n",
       "Longitude                                   8\n",
       "Latitude                                    8\n",
       "Location                                    8\n",
       "dtype: int64"
      ]
     },
     "execution_count": 183,
     "metadata": {},
     "output_type": "execute_result"
    }
   ],
   "source": [
    "# Confirm how many rows we have\n",
    "\n",
    "geotrees[out_rows].count()"
   ]
  },
  {
   "cell_type": "markdown",
   "id": "ee3f0cff-17bb-4f75-a92c-876c56e230c5",
   "metadata": {},
   "source": [
    " we do have 8 trees outside the borough"
   ]
  },
  {
   "cell_type": "code",
   "execution_count": null,
   "id": "ec5e5506-1c6f-4f33-92d1-420ea57b6da5",
   "metadata": {},
   "outputs": [],
   "source": [
    "# Find trees that don't have matching environmental data\n",
    " \n",
    "mask= trees['Identifier'].isin(trees_env['Identifier'])"
   ]
  },
  {
   "cell_type": "code",
   "execution_count": null,
   "id": "36cabc0b-2d67-4a8d-8d85-6d3d3b40acfb",
   "metadata": {},
   "outputs": [],
   "source": [
    "# Confirm how many rows we have\n",
    " \n",
    "trees[mask].count()"
   ]
  },
  {
   "cell_type": "code",
   "execution_count": null,
   "id": "17727576-c7c3-487a-87d1-d27d326f661c",
   "metadata": {},
   "outputs": [],
   "source": [
    "# Find environmental data that doesn't have matching tree data\n",
    " \n",
    "env_mask=~trees_env['Identifier'].isin(trees['Identifier'])"
   ]
  },
  {
   "cell_type": "code",
   "execution_count": null,
   "id": "7c562a4f-6a70-4e53-8dc5-c2ebd3a1417f",
   "metadata": {},
   "outputs": [],
   "source": [
    "# Confirm how many rows we have\n",
    " \n",
    "trees_env[env_mask].count()"
   ]
  },
  {
   "cell_type": "code",
   "execution_count": null,
   "id": "f66f9bfd-6bfc-4faf-946e-d5d8f6cbb4b6",
   "metadata": {},
   "outputs": [],
   "source": [
    "# Find trees with scientific names that don't have matching common names data\n",
    " \n",
    "\n",
    "names_mask=~ trees['Scientific Name'].isin(trees_names['Scientific Name'])"
   ]
  },
  {
   "cell_type": "code",
   "execution_count": null,
   "id": "183f5951-2c4e-486a-beb9-68abc8be8674",
   "metadata": {},
   "outputs": [],
   "source": [
    "# Confirm how many rows we have\n",
    " \n",
    "\n",
    "trees[names_mask].count()"
   ]
  },
  {
   "cell_type": "markdown",
   "id": "663f0130-1aee-4590-b6d3-ddc531035415",
   "metadata": {},
   "source": [
    "<hr/>\n",
    "\n",
    "-we do have 23 trees in trees data set with no matching Id in enviromental data set\n",
    "-the enviromental data set match the trees dataset\n",
    "-there are 76 mismatch Scientific Name\n"
   ]
  },
  {
   "cell_type": "markdown",
   "id": "ecb4c78f-147a-4cb7-b646-1de2d365c5e5",
   "metadata": {},
   "source": [
    "# END OF NOTEBOOK"
   ]
  },
  {
   "cell_type": "code",
   "execution_count": null,
   "id": "23027640-3750-4ea5-9057-e81626698bdb",
   "metadata": {},
   "outputs": [],
   "source": []
  }
 ],
 "metadata": {
  "kernelspec": {
   "display_name": "Python 3 (ipykernel)",
   "language": "python",
   "name": "python3"
  },
  "language_info": {
   "codemirror_mode": {
    "name": "ipython",
    "version": 3
   },
   "file_extension": ".py",
   "mimetype": "text/x-python",
   "name": "python",
   "nbconvert_exporter": "python",
   "pygments_lexer": "ipython3",
   "version": "3.9.13"
  }
 },
 "nbformat": 4,
 "nbformat_minor": 5
}
