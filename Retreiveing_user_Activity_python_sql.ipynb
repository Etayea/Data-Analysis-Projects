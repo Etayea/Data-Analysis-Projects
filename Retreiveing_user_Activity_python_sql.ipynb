{
 "cells": [
  {
   "cell_type": "code",
   "execution_count": 2,
   "metadata": {
    "id": "9hSzBlJZCLNC"
   },
   "outputs": [],
   "source": [
    "# Import Libraries\n",
    "import numpy as np\n",
    "import pandas as pd\n",
    "import sqlite3"
   ]
  },
  {
   "cell_type": "code",
   "execution_count": 3,
   "metadata": {
    "colab": {
     "base_uri": "https://localhost:8080/",
     "height": 35
    },
    "id": "ZXFtkDnUCLNH",
    "outputId": "4d4593ca-00b4-4e6d-f69d-d88d5a93aeee",
    "scrolled": true
   },
   "outputs": [
    {
     "data": {
      "application/vnd.google.colaboratory.intrinsic+json": {
       "type": "string"
      },
      "text/plain": [
       "'Connected: @chatdata.db'"
      ]
     },
     "execution_count": 3,
     "metadata": {},
     "output_type": "execute_result"
    }
   ],
   "source": [
    " \n",
    "con = sqlite3.connect('chatdata.db')\n",
    "\n",
    "# loads sql magic\n",
    "%load_ext sql\n",
    "\n",
    "# connects sql magic command to the correct db\n",
    "%sql sqlite:///chatdata.db "
   ]
  },
  {
   "cell_type": "code",
   "execution_count": 4,
   "metadata": {
    "colab": {
     "base_uri": "https://localhost:8080/"
    },
    "id": "jhAsQyNaCLNI",
    "outputId": "b9de816e-7b99-4c4a-b19f-bbf4444bc958"
   },
   "outputs": [
    {
     "name": "stdout",
     "output_type": "stream",
     "text": [
      " * sqlite:///chatdata.db\n",
      "Done.\n"
     ]
    },
    {
     "data": {
      "text/plain": [
       "[]"
      ]
     },
     "execution_count": 4,
     "metadata": {},
     "output_type": "execute_result"
    }
   ],
   "source": [
    "%%sql\n",
    "DROP TABLE IF EXISTS 'queries'"
   ]
  },
  {
   "cell_type": "code",
   "execution_count": null,
   "metadata": {
    "id": "DM35oo0XOCaX"
   },
   "outputs": [],
   "source": [
    "from google.colab import files\n",
    "uploaded= files.upload()"
   ]
  },
  {
   "cell_type": "code",
   "execution_count": 5,
   "metadata": {
    "colab": {
     "base_uri": "https://localhost:8080/",
     "height": 206
    },
    "id": "dQy9EyD4CLNQ",
    "outputId": "fe1b03c8-e9f6-42b9-d7b6-6768f5847c11"
   },
   "outputs": [
    {
     "data": {
      "text/html": [
       "\n",
       "  <div id=\"df-0306d40b-d3a5-4c80-8e95-9477b18760b6\">\n",
       "    <div class=\"colab-df-container\">\n",
       "      <div>\n",
       "<style scoped>\n",
       "    .dataframe tbody tr th:only-of-type {\n",
       "        vertical-align: middle;\n",
       "    }\n",
       "\n",
       "    .dataframe tbody tr th {\n",
       "        vertical-align: top;\n",
       "    }\n",
       "\n",
       "    .dataframe thead th {\n",
       "        text-align: right;\n",
       "    }\n",
       "</style>\n",
       "<table border=\"1\" class=\"dataframe\">\n",
       "  <thead>\n",
       "    <tr style=\"text-align: right;\">\n",
       "      <th></th>\n",
       "      <th>Id</th>\n",
       "      <th>PostId</th>\n",
       "      <th>Score</th>\n",
       "      <th>Text</th>\n",
       "      <th>CreationDate</th>\n",
       "      <th>UserId</th>\n",
       "    </tr>\n",
       "  </thead>\n",
       "  <tbody>\n",
       "    <tr>\n",
       "      <th>0</th>\n",
       "      <td>723182</td>\n",
       "      <td>385124</td>\n",
       "      <td>0</td>\n",
       "      <td>@BenBolker I don't understand. The fit cannot ...</td>\n",
       "      <td>2019-01-01 00:06:39</td>\n",
       "      <td>78575</td>\n",
       "    </tr>\n",
       "    <tr>\n",
       "      <th>1</th>\n",
       "      <td>723183</td>\n",
       "      <td>385124</td>\n",
       "      <td>3</td>\n",
       "      <td>You can't add *less* than (`-min(y)`), but you...</td>\n",
       "      <td>2019-01-01 00:09:22</td>\n",
       "      <td>2126</td>\n",
       "    </tr>\n",
       "    <tr>\n",
       "      <th>2</th>\n",
       "      <td>723186</td>\n",
       "      <td>385137</td>\n",
       "      <td>0</td>\n",
       "      <td>nice. If you felt like doing the work it would...</td>\n",
       "      <td>2019-01-01 00:32:11</td>\n",
       "      <td>2126</td>\n",
       "    </tr>\n",
       "    <tr>\n",
       "      <th>3</th>\n",
       "      <td>723187</td>\n",
       "      <td>385137</td>\n",
       "      <td>0</td>\n",
       "      <td>i.e. `emdbook::curve3d(-sum(dnbinom(y,mu=mu,si...</td>\n",
       "      <td>2019-01-01 00:40:36</td>\n",
       "      <td>2126</td>\n",
       "    </tr>\n",
       "    <tr>\n",
       "      <th>4</th>\n",
       "      <td>723188</td>\n",
       "      <td>385134</td>\n",
       "      <td>0</td>\n",
       "      <td>Don't you mean \"so variance should be $\\sigma^...</td>\n",
       "      <td>2019-01-01 00:41:28</td>\n",
       "      <td>112141</td>\n",
       "    </tr>\n",
       "  </tbody>\n",
       "</table>\n",
       "</div>\n",
       "      <button class=\"colab-df-convert\" onclick=\"convertToInteractive('df-0306d40b-d3a5-4c80-8e95-9477b18760b6')\"\n",
       "              title=\"Convert this dataframe to an interactive table.\"\n",
       "              style=\"display:none;\">\n",
       "        \n",
       "  <svg xmlns=\"http://www.w3.org/2000/svg\" height=\"24px\"viewBox=\"0 0 24 24\"\n",
       "       width=\"24px\">\n",
       "    <path d=\"M0 0h24v24H0V0z\" fill=\"none\"/>\n",
       "    <path d=\"M18.56 5.44l.94 2.06.94-2.06 2.06-.94-2.06-.94-.94-2.06-.94 2.06-2.06.94zm-11 1L8.5 8.5l.94-2.06 2.06-.94-2.06-.94L8.5 2.5l-.94 2.06-2.06.94zm10 10l.94 2.06.94-2.06 2.06-.94-2.06-.94-.94-2.06-.94 2.06-2.06.94z\"/><path d=\"M17.41 7.96l-1.37-1.37c-.4-.4-.92-.59-1.43-.59-.52 0-1.04.2-1.43.59L10.3 9.45l-7.72 7.72c-.78.78-.78 2.05 0 2.83L4 21.41c.39.39.9.59 1.41.59.51 0 1.02-.2 1.41-.59l7.78-7.78 2.81-2.81c.8-.78.8-2.07 0-2.86zM5.41 20L4 18.59l7.72-7.72 1.47 1.35L5.41 20z\"/>\n",
       "  </svg>\n",
       "      </button>\n",
       "      \n",
       "  <style>\n",
       "    .colab-df-container {\n",
       "      display:flex;\n",
       "      flex-wrap:wrap;\n",
       "      gap: 12px;\n",
       "    }\n",
       "\n",
       "    .colab-df-convert {\n",
       "      background-color: #E8F0FE;\n",
       "      border: none;\n",
       "      border-radius: 50%;\n",
       "      cursor: pointer;\n",
       "      display: none;\n",
       "      fill: #1967D2;\n",
       "      height: 32px;\n",
       "      padding: 0 0 0 0;\n",
       "      width: 32px;\n",
       "    }\n",
       "\n",
       "    .colab-df-convert:hover {\n",
       "      background-color: #E2EBFA;\n",
       "      box-shadow: 0px 1px 2px rgba(60, 64, 67, 0.3), 0px 1px 3px 1px rgba(60, 64, 67, 0.15);\n",
       "      fill: #174EA6;\n",
       "    }\n",
       "\n",
       "    [theme=dark] .colab-df-convert {\n",
       "      background-color: #3B4455;\n",
       "      fill: #D2E3FC;\n",
       "    }\n",
       "\n",
       "    [theme=dark] .colab-df-convert:hover {\n",
       "      background-color: #434B5C;\n",
       "      box-shadow: 0px 1px 3px 1px rgba(0, 0, 0, 0.15);\n",
       "      filter: drop-shadow(0px 1px 2px rgba(0, 0, 0, 0.3));\n",
       "      fill: #FFFFFF;\n",
       "    }\n",
       "  </style>\n",
       "\n",
       "      <script>\n",
       "        const buttonEl =\n",
       "          document.querySelector('#df-0306d40b-d3a5-4c80-8e95-9477b18760b6 button.colab-df-convert');\n",
       "        buttonEl.style.display =\n",
       "          google.colab.kernel.accessAllowed ? 'block' : 'none';\n",
       "\n",
       "        async function convertToInteractive(key) {\n",
       "          const element = document.querySelector('#df-0306d40b-d3a5-4c80-8e95-9477b18760b6');\n",
       "          const dataTable =\n",
       "            await google.colab.kernel.invokeFunction('convertToInteractive',\n",
       "                                                     [key], {});\n",
       "          if (!dataTable) return;\n",
       "\n",
       "          const docLinkHtml = 'Like what you see? Visit the ' +\n",
       "            '<a target=\"_blank\" href=https://colab.research.google.com/notebooks/data_table.ipynb>data table notebook</a>'\n",
       "            + ' to learn more about interactive tables.';\n",
       "          element.innerHTML = '';\n",
       "          dataTable['output_type'] = 'display_data';\n",
       "          await google.colab.output.renderOutput(dataTable, element);\n",
       "          const docLink = document.createElement('div');\n",
       "          docLink.innerHTML = docLinkHtml;\n",
       "          element.appendChild(docLink);\n",
       "        }\n",
       "      </script>\n",
       "    </div>\n",
       "  </div>\n",
       "  "
      ],
      "text/plain": [
       "       Id  PostId  Score                                               Text  \\\n",
       "0  723182  385124      0  @BenBolker I don't understand. The fit cannot ...   \n",
       "1  723183  385124      3  You can't add *less* than (`-min(y)`), but you...   \n",
       "2  723186  385137      0  nice. If you felt like doing the work it would...   \n",
       "3  723187  385137      0  i.e. `emdbook::curve3d(-sum(dnbinom(y,mu=mu,si...   \n",
       "4  723188  385134      0  Don't you mean \"so variance should be $\\sigma^...   \n",
       "\n",
       "          CreationDate  UserId  \n",
       "0  2019-01-01 00:06:39   78575  \n",
       "1  2019-01-01 00:09:22    2126  \n",
       "2  2019-01-01 00:32:11    2126  \n",
       "3  2019-01-01 00:40:36    2126  \n",
       "4  2019-01-01 00:41:28  112141  "
      ]
     },
     "execution_count": 5,
     "metadata": {},
     "output_type": "execute_result"
    }
   ],
   "source": [
    "comments = pd.read_csv(\"comments.csv\")\n",
    "comments.head()"
   ]
  },
  {
   "cell_type": "code",
   "execution_count": 6,
   "metadata": {
    "colab": {
     "base_uri": "https://localhost:8080/",
     "height": 206
    },
    "id": "Xsb179lqCLNT",
    "outputId": "957ffe6a-c0ac-4c0a-812f-c1b03cce6e91"
   },
   "outputs": [
    {
     "data": {
      "text/html": [
       "\n",
       "  <div id=\"df-b9cd83e9-56ac-4101-ac74-feb1feca0195\">\n",
       "    <div class=\"colab-df-container\">\n",
       "      <div>\n",
       "<style scoped>\n",
       "    .dataframe tbody tr th:only-of-type {\n",
       "        vertical-align: middle;\n",
       "    }\n",
       "\n",
       "    .dataframe tbody tr th {\n",
       "        vertical-align: top;\n",
       "    }\n",
       "\n",
       "    .dataframe thead th {\n",
       "        text-align: right;\n",
       "    }\n",
       "</style>\n",
       "<table border=\"1\" class=\"dataframe\">\n",
       "  <thead>\n",
       "    <tr style=\"text-align: right;\">\n",
       "      <th></th>\n",
       "      <th>Id</th>\n",
       "      <th>PostId</th>\n",
       "      <th>Score</th>\n",
       "      <th>Text</th>\n",
       "      <th>CreationDate</th>\n",
       "      <th>UserId</th>\n",
       "    </tr>\n",
       "  </thead>\n",
       "  <tbody>\n",
       "    <tr>\n",
       "      <th>0</th>\n",
       "      <td>723182</td>\n",
       "      <td>385124</td>\n",
       "      <td>0</td>\n",
       "      <td>@BenBolker I don't understand. The fit cannot ...</td>\n",
       "      <td>2019-01-01 00:06:39</td>\n",
       "      <td>78575</td>\n",
       "    </tr>\n",
       "    <tr>\n",
       "      <th>1</th>\n",
       "      <td>723183</td>\n",
       "      <td>385124</td>\n",
       "      <td>3</td>\n",
       "      <td>You can't add *less* than (`-min(y)`), but you...</td>\n",
       "      <td>2019-01-01 00:09:22</td>\n",
       "      <td>2126</td>\n",
       "    </tr>\n",
       "    <tr>\n",
       "      <th>2</th>\n",
       "      <td>723186</td>\n",
       "      <td>385137</td>\n",
       "      <td>0</td>\n",
       "      <td>nice. If you felt like doing the work it would...</td>\n",
       "      <td>2019-01-01 00:32:11</td>\n",
       "      <td>2126</td>\n",
       "    </tr>\n",
       "    <tr>\n",
       "      <th>3</th>\n",
       "      <td>723187</td>\n",
       "      <td>385137</td>\n",
       "      <td>0</td>\n",
       "      <td>i.e. `emdbook::curve3d(-sum(dnbinom(y,mu=mu,si...</td>\n",
       "      <td>2019-01-01 00:40:36</td>\n",
       "      <td>2126</td>\n",
       "    </tr>\n",
       "    <tr>\n",
       "      <th>4</th>\n",
       "      <td>723188</td>\n",
       "      <td>385134</td>\n",
       "      <td>0</td>\n",
       "      <td>Don't you mean \"so variance should be $\\sigma^...</td>\n",
       "      <td>2019-01-01 00:41:28</td>\n",
       "      <td>112141</td>\n",
       "    </tr>\n",
       "  </tbody>\n",
       "</table>\n",
       "</div>\n",
       "      <button class=\"colab-df-convert\" onclick=\"convertToInteractive('df-b9cd83e9-56ac-4101-ac74-feb1feca0195')\"\n",
       "              title=\"Convert this dataframe to an interactive table.\"\n",
       "              style=\"display:none;\">\n",
       "        \n",
       "  <svg xmlns=\"http://www.w3.org/2000/svg\" height=\"24px\"viewBox=\"0 0 24 24\"\n",
       "       width=\"24px\">\n",
       "    <path d=\"M0 0h24v24H0V0z\" fill=\"none\"/>\n",
       "    <path d=\"M18.56 5.44l.94 2.06.94-2.06 2.06-.94-2.06-.94-.94-2.06-.94 2.06-2.06.94zm-11 1L8.5 8.5l.94-2.06 2.06-.94-2.06-.94L8.5 2.5l-.94 2.06-2.06.94zm10 10l.94 2.06.94-2.06 2.06-.94-2.06-.94-.94-2.06-.94 2.06-2.06.94z\"/><path d=\"M17.41 7.96l-1.37-1.37c-.4-.4-.92-.59-1.43-.59-.52 0-1.04.2-1.43.59L10.3 9.45l-7.72 7.72c-.78.78-.78 2.05 0 2.83L4 21.41c.39.39.9.59 1.41.59.51 0 1.02-.2 1.41-.59l7.78-7.78 2.81-2.81c.8-.78.8-2.07 0-2.86zM5.41 20L4 18.59l7.72-7.72 1.47 1.35L5.41 20z\"/>\n",
       "  </svg>\n",
       "      </button>\n",
       "      \n",
       "  <style>\n",
       "    .colab-df-container {\n",
       "      display:flex;\n",
       "      flex-wrap:wrap;\n",
       "      gap: 12px;\n",
       "    }\n",
       "\n",
       "    .colab-df-convert {\n",
       "      background-color: #E8F0FE;\n",
       "      border: none;\n",
       "      border-radius: 50%;\n",
       "      cursor: pointer;\n",
       "      display: none;\n",
       "      fill: #1967D2;\n",
       "      height: 32px;\n",
       "      padding: 0 0 0 0;\n",
       "      width: 32px;\n",
       "    }\n",
       "\n",
       "    .colab-df-convert:hover {\n",
       "      background-color: #E2EBFA;\n",
       "      box-shadow: 0px 1px 2px rgba(60, 64, 67, 0.3), 0px 1px 3px 1px rgba(60, 64, 67, 0.15);\n",
       "      fill: #174EA6;\n",
       "    }\n",
       "\n",
       "    [theme=dark] .colab-df-convert {\n",
       "      background-color: #3B4455;\n",
       "      fill: #D2E3FC;\n",
       "    }\n",
       "\n",
       "    [theme=dark] .colab-df-convert:hover {\n",
       "      background-color: #434B5C;\n",
       "      box-shadow: 0px 1px 3px 1px rgba(0, 0, 0, 0.15);\n",
       "      filter: drop-shadow(0px 1px 2px rgba(0, 0, 0, 0.3));\n",
       "      fill: #FFFFFF;\n",
       "    }\n",
       "  </style>\n",
       "\n",
       "      <script>\n",
       "        const buttonEl =\n",
       "          document.querySelector('#df-b9cd83e9-56ac-4101-ac74-feb1feca0195 button.colab-df-convert');\n",
       "        buttonEl.style.display =\n",
       "          google.colab.kernel.accessAllowed ? 'block' : 'none';\n",
       "\n",
       "        async function convertToInteractive(key) {\n",
       "          const element = document.querySelector('#df-b9cd83e9-56ac-4101-ac74-feb1feca0195');\n",
       "          const dataTable =\n",
       "            await google.colab.kernel.invokeFunction('convertToInteractive',\n",
       "                                                     [key], {});\n",
       "          if (!dataTable) return;\n",
       "\n",
       "          const docLinkHtml = 'Like what you see? Visit the ' +\n",
       "            '<a target=\"_blank\" href=https://colab.research.google.com/notebooks/data_table.ipynb>data table notebook</a>'\n",
       "            + ' to learn more about interactive tables.';\n",
       "          element.innerHTML = '';\n",
       "          dataTable['output_type'] = 'display_data';\n",
       "          await google.colab.output.renderOutput(dataTable, element);\n",
       "          const docLink = document.createElement('div');\n",
       "          docLink.innerHTML = docLinkHtml;\n",
       "          element.appendChild(docLink);\n",
       "        }\n",
       "      </script>\n",
       "    </div>\n",
       "  </div>\n",
       "  "
      ],
      "text/plain": [
       "       Id  PostId  Score                                               Text  \\\n",
       "0  723182  385124      0  @BenBolker I don't understand. The fit cannot ...   \n",
       "1  723183  385124      3  You can't add *less* than (`-min(y)`), but you...   \n",
       "2  723186  385137      0  nice. If you felt like doing the work it would...   \n",
       "3  723187  385137      0  i.e. `emdbook::curve3d(-sum(dnbinom(y,mu=mu,si...   \n",
       "4  723188  385134      0  Don't you mean \"so variance should be $\\sigma^...   \n",
       "\n",
       "          CreationDate  UserId  \n",
       "0  2019-01-01 00:06:39   78575  \n",
       "1  2019-01-01 00:09:22    2126  \n",
       "2  2019-01-01 00:32:11    2126  \n",
       "3  2019-01-01 00:40:36    2126  \n",
       "4  2019-01-01 00:41:28  112141  "
      ]
     },
     "execution_count": 6,
     "metadata": {},
     "output_type": "execute_result"
    }
   ],
   "source": [
    "# load comments into sqlite\n",
    "comments.to_sql('comments', con, if_exists='replace', index=False)\n",
    "\n",
    "# read back in to prove that it worked\n",
    "sql = 'SELECT * FROM comments'\n",
    "comments = pd.read_sql(sql, con)\n",
    "comments.head()"
   ]
  },
  {
   "cell_type": "code",
   "execution_count": null,
   "metadata": {
    "id": "NDllvPuGCLNX"
   },
   "outputs": [],
   "source": [
    " \n",
    "posts = pd.read_csv('posts.csv')\n",
    "posts.to_sql('posts',con,if_exists='replace',index=False)\n",
    "sql='SELECT * FROM posts'\n",
    "posts=pd.read_sql(sql,con)\n",
    "posts.head()"
   ]
  },
  {
   "cell_type": "code",
   "execution_count": 8,
   "metadata": {
    "colab": {
     "base_uri": "https://localhost:8080/",
     "height": 354
    },
    "id": "RO4tkQKfCLNa",
    "outputId": "508e9e86-4672-4947-ffb2-68f50049777e"
   },
   "outputs": [
    {
     "data": {
      "text/html": [
       "\n",
       "  <div id=\"df-dbb21df4-4236-4545-bf60-07b2e5a6e7d6\">\n",
       "    <div class=\"colab-df-container\">\n",
       "      <div>\n",
       "<style scoped>\n",
       "    .dataframe tbody tr th:only-of-type {\n",
       "        vertical-align: middle;\n",
       "    }\n",
       "\n",
       "    .dataframe tbody tr th {\n",
       "        vertical-align: top;\n",
       "    }\n",
       "\n",
       "    .dataframe thead th {\n",
       "        text-align: right;\n",
       "    }\n",
       "</style>\n",
       "<table border=\"1\" class=\"dataframe\">\n",
       "  <thead>\n",
       "    <tr style=\"text-align: right;\">\n",
       "      <th></th>\n",
       "      <th>Id</th>\n",
       "      <th>Reputation</th>\n",
       "      <th>CreationDate</th>\n",
       "      <th>DisplayName</th>\n",
       "      <th>LastAccessDate</th>\n",
       "      <th>WebsiteUrl</th>\n",
       "      <th>Location</th>\n",
       "      <th>AboutMe</th>\n",
       "      <th>Views</th>\n",
       "      <th>UpVotes</th>\n",
       "      <th>DownVotes</th>\n",
       "      <th>ProfileImageUrl</th>\n",
       "      <th>AccountId</th>\n",
       "    </tr>\n",
       "  </thead>\n",
       "  <tbody>\n",
       "    <tr>\n",
       "      <th>0</th>\n",
       "      <td>157607</td>\n",
       "      <td>31</td>\n",
       "      <td>2017-04-17 14:50:42</td>\n",
       "      <td>user157607</td>\n",
       "      <td>2019-07-23 16:44:08</td>\n",
       "      <td>None</td>\n",
       "      <td>None</td>\n",
       "      <td>None</td>\n",
       "      <td>0</td>\n",
       "      <td>0</td>\n",
       "      <td>0</td>\n",
       "      <td>https://www.gravatar.com/avatar/2efb161849efa4...</td>\n",
       "      <td>10705183</td>\n",
       "    </tr>\n",
       "    <tr>\n",
       "      <th>1</th>\n",
       "      <td>157656</td>\n",
       "      <td>101</td>\n",
       "      <td>2017-04-17 20:08:20</td>\n",
       "      <td>user102859</td>\n",
       "      <td>2019-06-26 13:42:13</td>\n",
       "      <td>None</td>\n",
       "      <td>None</td>\n",
       "      <td>None</td>\n",
       "      <td>3</td>\n",
       "      <td>0</td>\n",
       "      <td>0</td>\n",
       "      <td>https://i.stack.imgur.com/eY4ka.jpg?s=128&amp;g=1</td>\n",
       "      <td>10567606</td>\n",
       "    </tr>\n",
       "    <tr>\n",
       "      <th>2</th>\n",
       "      <td>157704</td>\n",
       "      <td>133</td>\n",
       "      <td>2017-04-18 05:10:47</td>\n",
       "      <td>jupiar</td>\n",
       "      <td>2019-11-25 13:32:27</td>\n",
       "      <td>None</td>\n",
       "      <td>Shanghai, China</td>\n",
       "      <td>&lt;p&gt;Originally from the U.K, I have an Undergra...</td>\n",
       "      <td>1</td>\n",
       "      <td>1</td>\n",
       "      <td>0</td>\n",
       "      <td>https://www.gravatar.com/avatar/720e20205122c5...</td>\n",
       "      <td>9501631</td>\n",
       "    </tr>\n",
       "    <tr>\n",
       "      <th>3</th>\n",
       "      <td>157709</td>\n",
       "      <td>155</td>\n",
       "      <td>2017-04-18 06:39:18</td>\n",
       "      <td>farmer</td>\n",
       "      <td>2019-02-17 19:44:24</td>\n",
       "      <td>None</td>\n",
       "      <td>None</td>\n",
       "      <td>None</td>\n",
       "      <td>16</td>\n",
       "      <td>0</td>\n",
       "      <td>0</td>\n",
       "      <td>https://www.gravatar.com/avatar/0f8c4bde3d8f25...</td>\n",
       "      <td>10709837</td>\n",
       "    </tr>\n",
       "    <tr>\n",
       "      <th>4</th>\n",
       "      <td>157755</td>\n",
       "      <td>101</td>\n",
       "      <td>2017-04-18 12:56:17</td>\n",
       "      <td>Miki P</td>\n",
       "      <td>2019-08-12 17:02:21</td>\n",
       "      <td>None</td>\n",
       "      <td>None</td>\n",
       "      <td>None</td>\n",
       "      <td>1</td>\n",
       "      <td>9</td>\n",
       "      <td>0</td>\n",
       "      <td>https://www.gravatar.com/avatar/af088558cd81c5...</td>\n",
       "      <td>7969290</td>\n",
       "    </tr>\n",
       "  </tbody>\n",
       "</table>\n",
       "</div>\n",
       "      <button class=\"colab-df-convert\" onclick=\"convertToInteractive('df-dbb21df4-4236-4545-bf60-07b2e5a6e7d6')\"\n",
       "              title=\"Convert this dataframe to an interactive table.\"\n",
       "              style=\"display:none;\">\n",
       "        \n",
       "  <svg xmlns=\"http://www.w3.org/2000/svg\" height=\"24px\"viewBox=\"0 0 24 24\"\n",
       "       width=\"24px\">\n",
       "    <path d=\"M0 0h24v24H0V0z\" fill=\"none\"/>\n",
       "    <path d=\"M18.56 5.44l.94 2.06.94-2.06 2.06-.94-2.06-.94-.94-2.06-.94 2.06-2.06.94zm-11 1L8.5 8.5l.94-2.06 2.06-.94-2.06-.94L8.5 2.5l-.94 2.06-2.06.94zm10 10l.94 2.06.94-2.06 2.06-.94-2.06-.94-.94-2.06-.94 2.06-2.06.94z\"/><path d=\"M17.41 7.96l-1.37-1.37c-.4-.4-.92-.59-1.43-.59-.52 0-1.04.2-1.43.59L10.3 9.45l-7.72 7.72c-.78.78-.78 2.05 0 2.83L4 21.41c.39.39.9.59 1.41.59.51 0 1.02-.2 1.41-.59l7.78-7.78 2.81-2.81c.8-.78.8-2.07 0-2.86zM5.41 20L4 18.59l7.72-7.72 1.47 1.35L5.41 20z\"/>\n",
       "  </svg>\n",
       "      </button>\n",
       "      \n",
       "  <style>\n",
       "    .colab-df-container {\n",
       "      display:flex;\n",
       "      flex-wrap:wrap;\n",
       "      gap: 12px;\n",
       "    }\n",
       "\n",
       "    .colab-df-convert {\n",
       "      background-color: #E8F0FE;\n",
       "      border: none;\n",
       "      border-radius: 50%;\n",
       "      cursor: pointer;\n",
       "      display: none;\n",
       "      fill: #1967D2;\n",
       "      height: 32px;\n",
       "      padding: 0 0 0 0;\n",
       "      width: 32px;\n",
       "    }\n",
       "\n",
       "    .colab-df-convert:hover {\n",
       "      background-color: #E2EBFA;\n",
       "      box-shadow: 0px 1px 2px rgba(60, 64, 67, 0.3), 0px 1px 3px 1px rgba(60, 64, 67, 0.15);\n",
       "      fill: #174EA6;\n",
       "    }\n",
       "\n",
       "    [theme=dark] .colab-df-convert {\n",
       "      background-color: #3B4455;\n",
       "      fill: #D2E3FC;\n",
       "    }\n",
       "\n",
       "    [theme=dark] .colab-df-convert:hover {\n",
       "      background-color: #434B5C;\n",
       "      box-shadow: 0px 1px 3px 1px rgba(0, 0, 0, 0.15);\n",
       "      filter: drop-shadow(0px 1px 2px rgba(0, 0, 0, 0.3));\n",
       "      fill: #FFFFFF;\n",
       "    }\n",
       "  </style>\n",
       "\n",
       "      <script>\n",
       "        const buttonEl =\n",
       "          document.querySelector('#df-dbb21df4-4236-4545-bf60-07b2e5a6e7d6 button.colab-df-convert');\n",
       "        buttonEl.style.display =\n",
       "          google.colab.kernel.accessAllowed ? 'block' : 'none';\n",
       "\n",
       "        async function convertToInteractive(key) {\n",
       "          const element = document.querySelector('#df-dbb21df4-4236-4545-bf60-07b2e5a6e7d6');\n",
       "          const dataTable =\n",
       "            await google.colab.kernel.invokeFunction('convertToInteractive',\n",
       "                                                     [key], {});\n",
       "          if (!dataTable) return;\n",
       "\n",
       "          const docLinkHtml = 'Like what you see? Visit the ' +\n",
       "            '<a target=\"_blank\" href=https://colab.research.google.com/notebooks/data_table.ipynb>data table notebook</a>'\n",
       "            + ' to learn more about interactive tables.';\n",
       "          element.innerHTML = '';\n",
       "          dataTable['output_type'] = 'display_data';\n",
       "          await google.colab.output.renderOutput(dataTable, element);\n",
       "          const docLink = document.createElement('div');\n",
       "          docLink.innerHTML = docLinkHtml;\n",
       "          element.appendChild(docLink);\n",
       "        }\n",
       "      </script>\n",
       "    </div>\n",
       "  </div>\n",
       "  "
      ],
      "text/plain": [
       "       Id  Reputation         CreationDate DisplayName       LastAccessDate  \\\n",
       "0  157607          31  2017-04-17 14:50:42  user157607  2019-07-23 16:44:08   \n",
       "1  157656         101  2017-04-17 20:08:20  user102859  2019-06-26 13:42:13   \n",
       "2  157704         133  2017-04-18 05:10:47      jupiar  2019-11-25 13:32:27   \n",
       "3  157709         155  2017-04-18 06:39:18      farmer  2019-02-17 19:44:24   \n",
       "4  157755         101  2017-04-18 12:56:17      Miki P  2019-08-12 17:02:21   \n",
       "\n",
       "  WebsiteUrl         Location  \\\n",
       "0       None             None   \n",
       "1       None             None   \n",
       "2       None  Shanghai, China   \n",
       "3       None             None   \n",
       "4       None             None   \n",
       "\n",
       "                                             AboutMe  Views  UpVotes  \\\n",
       "0                                               None      0        0   \n",
       "1                                               None      3        0   \n",
       "2  <p>Originally from the U.K, I have an Undergra...      1        1   \n",
       "3                                               None     16        0   \n",
       "4                                               None      1        9   \n",
       "\n",
       "   DownVotes                                    ProfileImageUrl  AccountId  \n",
       "0          0  https://www.gravatar.com/avatar/2efb161849efa4...   10705183  \n",
       "1          0      https://i.stack.imgur.com/eY4ka.jpg?s=128&g=1   10567606  \n",
       "2          0  https://www.gravatar.com/avatar/720e20205122c5...    9501631  \n",
       "3          0  https://www.gravatar.com/avatar/0f8c4bde3d8f25...   10709837  \n",
       "4          0  https://www.gravatar.com/avatar/af088558cd81c5...    7969290  "
      ]
     },
     "execution_count": 8,
     "metadata": {},
     "output_type": "execute_result"
    }
   ],
   "source": [
    " \n",
    "users= pd.read_csv('users.csv')\n",
    "users.to_sql('users',con,if_exists='replace',index=False)\n",
    "sql='SELECT * FROM users'\n",
    "users=pd.read_sql(sql,con)\n",
    "users.head()"
   ]
  },
  {
   "cell_type": "code",
   "execution_count": 45,
   "metadata": {
    "colab": {
     "base_uri": "https://localhost:8080/"
    },
    "id": "XMfcpBUpCLNe",
    "outputId": "e622d913-3dc9-4b71-8876-b65e4e364abc"
   },
   "outputs": [
    {
     "data": {
      "text/plain": [
       "0"
      ]
     },
     "execution_count": 45,
     "metadata": {},
     "output_type": "execute_result"
    }
   ],
   "source": [
    " \n",
    "comments['Id'].duplicated().sum()"
   ]
  },
  {
   "cell_type": "code",
   "execution_count": 46,
   "metadata": {
    "colab": {
     "base_uri": "https://localhost:8080/"
    },
    "id": "DPBYdqAxCLNf",
    "outputId": "af2bf019-bb38-477d-cf5a-0b5a8e94f72a"
   },
   "outputs": [
    {
     "data": {
      "text/plain": [
       "0"
      ]
     },
     "execution_count": 46,
     "metadata": {},
     "output_type": "execute_result"
    }
   ],
   "source": [
    " \n",
    "users['Id'].duplicated().sum()"
   ]
  },
  {
   "cell_type": "code",
   "execution_count": 47,
   "metadata": {
    "colab": {
     "base_uri": "https://localhost:8080/"
    },
    "id": "WwC8yigYCLNg",
    "outputId": "bd882de9-8a5c-495d-f77d-7f4ca9284342"
   },
   "outputs": [
    {
     "data": {
      "text/plain": [
       "0"
      ]
     },
     "execution_count": 47,
     "metadata": {},
     "output_type": "execute_result"
    }
   ],
   "source": [
    " \n",
    "posts['Id'].duplicated().sum()"
   ]
  },
  {
   "cell_type": "code",
   "execution_count": 25,
   "metadata": {
    "colab": {
     "base_uri": "https://localhost:8080/"
    },
    "id": "FIri_PirCLNj",
    "outputId": "e2f17422-88d5-428c-8277-c6836c548764"
   },
   "outputs": [
    {
     "data": {
      "text/plain": [
       "Index(['Id', 'Reputation', 'CreationDate', 'DisplayName', 'LastAccessDate',\n",
       "       'WebsiteUrl', 'Location', 'AboutMe', 'Views', 'UpVotes', 'DownVotes',\n",
       "       'ProfileImageUrl', 'AccountId'],\n",
       "      dtype='object')"
      ]
     },
     "execution_count": 25,
     "metadata": {},
     "output_type": "execute_result"
    }
   ],
   "source": [
    "users.columns"
   ]
  },
  {
   "cell_type": "code",
   "execution_count": null,
   "metadata": {
    "id": "SpRSeHWXCLNk"
   },
   "outputs": [],
   "source": [
    "users.head()"
   ]
  },
  {
   "cell_type": "code",
   "execution_count": null,
   "metadata": {
    "id": "gbNZ_JW5CLNk"
   },
   "outputs": [],
   "source": [
    "comments.columns"
   ]
  },
  {
   "cell_type": "code",
   "execution_count": null,
   "metadata": {
    "id": "4b_uYClUCLNl"
   },
   "outputs": [],
   "source": [
    "comments.head()"
   ]
  },
  {
   "cell_type": "code",
   "execution_count": null,
   "metadata": {
    "id": "XmcEN9_cCLNm"
   },
   "outputs": [],
   "source": [
    "posts.columns"
   ]
  },
  {
   "cell_type": "code",
   "execution_count": null,
   "metadata": {
    "id": "VpbebZr2CLNn"
   },
   "outputs": [],
   "source": [
    "posts.head()"
   ]
  },
  {
   "cell_type": "code",
   "execution_count": 9,
   "metadata": {
    "colab": {
     "base_uri": "https://localhost:8080/",
     "height": 96
    },
    "id": "6zyNlHcMCLNr",
    "outputId": "b5500f7c-888a-4b92-83b0-71d5c3010994"
   },
   "outputs": [
    {
     "name": "stdout",
     "output_type": "stream",
     "text": [
      " * sqlite:///chatdata.db\n",
      "Done.\n"
     ]
    },
    {
     "data": {
      "text/html": [
       "<table>\n",
       "    <thead>\n",
       "        <tr>\n",
       "            <th>COUNT(*)</th>\n",
       "        </tr>\n",
       "    </thead>\n",
       "    <tbody>\n",
       "        <tr>\n",
       "            <td>50000</td>\n",
       "        </tr>\n",
       "    </tbody>\n",
       "</table>"
      ],
      "text/plain": [
       "[(50000,)]"
      ]
     },
     "execution_count": 9,
     "metadata": {},
     "output_type": "execute_result"
    }
   ],
   "source": [
    " \n",
    "%sql SELECT COUNT(*) FROM comments"
   ]
  },
  {
   "cell_type": "code",
   "execution_count": 10,
   "metadata": {
    "colab": {
     "base_uri": "https://localhost:8080/",
     "height": 321
    },
    "id": "KxVNk2RtCLNu",
    "outputId": "91b3437a-4be1-42d4-f95c-54be75322ab5"
   },
   "outputs": [
    {
     "name": "stdout",
     "output_type": "stream",
     "text": [
      " * sqlite:///chatdata.db\n",
      "Done.\n"
     ]
    },
    {
     "data": {
      "text/html": [
       "<table>\n",
       "    <thead>\n",
       "        <tr>\n",
       "            <th>Id</th>\n",
       "            <th>PostId</th>\n",
       "            <th>Score</th>\n",
       "            <th>Text</th>\n",
       "        </tr>\n",
       "    </thead>\n",
       "    <tbody>\n",
       "        <tr>\n",
       "            <td>723182</td>\n",
       "            <td>385124</td>\n",
       "            <td>0</td>\n",
       "            <td>@BenBolker I don&#x27;t understand. The fit cannot be done for the negative $y$. So intuitively I&#x27;d think that in order to retain the relativity of the data, one&#x27;d ideally &quot;mirror&quot; or &quot;flip&quot; it to the positive axis? Would it be possible to adjust every point individually? Basically e.g. take $abs(y_i)$ instead of minimums.</td>\n",
       "        </tr>\n",
       "        <tr>\n",
       "            <td>723183</td>\n",
       "            <td>385124</td>\n",
       "            <td>3</td>\n",
       "            <td>You can&#x27;t add *less* than (`-min(y)`), but you could add *more*. I&#x27;m going to stop answering now sorry, because **judging what the &#x27;best&#x27; approach is depends on much more context that we don&#x27;t have** (the goal of the analysis, why you need to fit an exponential, your level of computational and statistical sophistication and that of your audience, etc. ...)</td>\n",
       "        </tr>\n",
       "        <tr>\n",
       "            <td>723186</td>\n",
       "            <td>385137</td>\n",
       "            <td>0</td>\n",
       "            <td>nice. If you felt like doing the work it would be nice to generate an image/contour plot of log-likelihood as a function of (mu, theta) and show the lines corresponding to the two `size` values .</td>\n",
       "        </tr>\n",
       "        <tr>\n",
       "            <td>723187</td>\n",
       "            <td>385137</td>\n",
       "            <td>0</td>\n",
       "            <td>i.e. `emdbook::curve3d(-sum(dnbinom(y,mu=mu,size=size,log=TRUE)),<br>                 xlim=c(2,5),ylim=c(0.2,0.5),<br>                 varnames=c(&quot;mu&quot;,&quot;size&quot;),<br>                 sys3d=&quot;contour&quot;)<br>abline(h=3.2/7,col=&quot;red&quot;)<br>abline(h=fit.what$theta,col=&quot;blue&quot;)<br>` ... although doesn&#x27;t look this is actually the answer - mu-hat is independent of theta-hat ... ?</td>\n",
       "        </tr>\n",
       "        <tr>\n",
       "            <td>723188</td>\n",
       "            <td>385134</td>\n",
       "            <td>0</td>\n",
       "            <td>Don&#x27;t you mean &quot;so variance should be $\\sigma^2/(n\\mu^2)$&quot;</td>\n",
       "        </tr>\n",
       "    </tbody>\n",
       "</table>"
      ],
      "text/plain": [
       "[(723182, 385124, 0, '@BenBolker I don\\'t understand. The fit cannot be done for the negative $y$. So intuitively I\\'d think that in order to retain the relativity of the  ... (24 characters truncated) ... rror\" or \"flip\" it to the positive axis? Would it be possible to adjust every point individually? Basically e.g. take $abs(y_i)$ instead of minimums.'),\n",
       " (723183, 385124, 3, \"You can't add *less* than (`-min(y)`), but you could add *more*. I'm going to stop answering now sorry, because **judging what the 'best' approach is ... (60 characters truncated) ...  of the analysis, why you need to fit an exponential, your level of computational and statistical sophistication and that of your audience, etc. ...)\"),\n",
       " (723186, 385137, 0, 'nice. If you felt like doing the work it would be nice to generate an image/contour plot of log-likelihood as a function of (mu, theta) and show the lines corresponding to the two `size` values .'),\n",
       " (723187, 385137, 0, 'i.e. `emdbook::curve3d(-sum(dnbinom(y,mu=mu,size=size,log=TRUE)),\\n                 xlim=c(2,5),ylim=c(0.2,0.5),\\n                 varnames=c(\"mu\",\"s ... (57 characters truncated) ... ,col=\"red\")\\nabline(h=fit.what$theta,col=\"blue\")\\n` ... although doesn\\'t look this is actually the answer - mu-hat is independent of theta-hat ... ?'),\n",
       " (723188, 385134, 0, 'Don\\'t you mean \"so variance should be $\\\\sigma^2/(n\\\\mu^2)$\"')]"
      ]
     },
     "execution_count": 10,
     "metadata": {},
     "output_type": "execute_result"
    }
   ],
   "source": [
    "%%sql\n",
    "SELECT Id, PostId, Score, Text\n",
    "    FROM comments\n",
    "        LIMIT 5"
   ]
  },
  {
   "cell_type": "code",
   "execution_count": 11,
   "metadata": {
    "colab": {
     "base_uri": "https://localhost:8080/",
     "height": 206
    },
    "id": "K-Z5mOLeCLNx",
    "outputId": "2f06ff04-5e83-4dca-a44d-d74525a5a8a5",
    "scrolled": true
   },
   "outputs": [
    {
     "data": {
      "text/html": [
       "\n",
       "  <div id=\"df-aa273d82-1472-4eb4-aa45-e49e3def4a92\">\n",
       "    <div class=\"colab-df-container\">\n",
       "      <div>\n",
       "<style scoped>\n",
       "    .dataframe tbody tr th:only-of-type {\n",
       "        vertical-align: middle;\n",
       "    }\n",
       "\n",
       "    .dataframe tbody tr th {\n",
       "        vertical-align: top;\n",
       "    }\n",
       "\n",
       "    .dataframe thead th {\n",
       "        text-align: right;\n",
       "    }\n",
       "</style>\n",
       "<table border=\"1\" class=\"dataframe\">\n",
       "  <thead>\n",
       "    <tr style=\"text-align: right;\">\n",
       "      <th></th>\n",
       "      <th>Id</th>\n",
       "      <th>PostId</th>\n",
       "      <th>Score</th>\n",
       "      <th>Text</th>\n",
       "    </tr>\n",
       "  </thead>\n",
       "  <tbody>\n",
       "    <tr>\n",
       "      <th>0</th>\n",
       "      <td>723182</td>\n",
       "      <td>385124</td>\n",
       "      <td>0</td>\n",
       "      <td>@BenBolker I don't understand. The fit cannot ...</td>\n",
       "    </tr>\n",
       "    <tr>\n",
       "      <th>1</th>\n",
       "      <td>723183</td>\n",
       "      <td>385124</td>\n",
       "      <td>3</td>\n",
       "      <td>You can't add *less* than (`-min(y)`), but you...</td>\n",
       "    </tr>\n",
       "    <tr>\n",
       "      <th>2</th>\n",
       "      <td>723186</td>\n",
       "      <td>385137</td>\n",
       "      <td>0</td>\n",
       "      <td>nice. If you felt like doing the work it would...</td>\n",
       "    </tr>\n",
       "    <tr>\n",
       "      <th>3</th>\n",
       "      <td>723187</td>\n",
       "      <td>385137</td>\n",
       "      <td>0</td>\n",
       "      <td>i.e. `emdbook::curve3d(-sum(dnbinom(y,mu=mu,si...</td>\n",
       "    </tr>\n",
       "    <tr>\n",
       "      <th>4</th>\n",
       "      <td>723188</td>\n",
       "      <td>385134</td>\n",
       "      <td>0</td>\n",
       "      <td>Don't you mean \"so variance should be $\\sigma^...</td>\n",
       "    </tr>\n",
       "  </tbody>\n",
       "</table>\n",
       "</div>\n",
       "      <button class=\"colab-df-convert\" onclick=\"convertToInteractive('df-aa273d82-1472-4eb4-aa45-e49e3def4a92')\"\n",
       "              title=\"Convert this dataframe to an interactive table.\"\n",
       "              style=\"display:none;\">\n",
       "        \n",
       "  <svg xmlns=\"http://www.w3.org/2000/svg\" height=\"24px\"viewBox=\"0 0 24 24\"\n",
       "       width=\"24px\">\n",
       "    <path d=\"M0 0h24v24H0V0z\" fill=\"none\"/>\n",
       "    <path d=\"M18.56 5.44l.94 2.06.94-2.06 2.06-.94-2.06-.94-.94-2.06-.94 2.06-2.06.94zm-11 1L8.5 8.5l.94-2.06 2.06-.94-2.06-.94L8.5 2.5l-.94 2.06-2.06.94zm10 10l.94 2.06.94-2.06 2.06-.94-2.06-.94-.94-2.06-.94 2.06-2.06.94z\"/><path d=\"M17.41 7.96l-1.37-1.37c-.4-.4-.92-.59-1.43-.59-.52 0-1.04.2-1.43.59L10.3 9.45l-7.72 7.72c-.78.78-.78 2.05 0 2.83L4 21.41c.39.39.9.59 1.41.59.51 0 1.02-.2 1.41-.59l7.78-7.78 2.81-2.81c.8-.78.8-2.07 0-2.86zM5.41 20L4 18.59l7.72-7.72 1.47 1.35L5.41 20z\"/>\n",
       "  </svg>\n",
       "      </button>\n",
       "      \n",
       "  <style>\n",
       "    .colab-df-container {\n",
       "      display:flex;\n",
       "      flex-wrap:wrap;\n",
       "      gap: 12px;\n",
       "    }\n",
       "\n",
       "    .colab-df-convert {\n",
       "      background-color: #E8F0FE;\n",
       "      border: none;\n",
       "      border-radius: 50%;\n",
       "      cursor: pointer;\n",
       "      display: none;\n",
       "      fill: #1967D2;\n",
       "      height: 32px;\n",
       "      padding: 0 0 0 0;\n",
       "      width: 32px;\n",
       "    }\n",
       "\n",
       "    .colab-df-convert:hover {\n",
       "      background-color: #E2EBFA;\n",
       "      box-shadow: 0px 1px 2px rgba(60, 64, 67, 0.3), 0px 1px 3px 1px rgba(60, 64, 67, 0.15);\n",
       "      fill: #174EA6;\n",
       "    }\n",
       "\n",
       "    [theme=dark] .colab-df-convert {\n",
       "      background-color: #3B4455;\n",
       "      fill: #D2E3FC;\n",
       "    }\n",
       "\n",
       "    [theme=dark] .colab-df-convert:hover {\n",
       "      background-color: #434B5C;\n",
       "      box-shadow: 0px 1px 3px 1px rgba(0, 0, 0, 0.15);\n",
       "      filter: drop-shadow(0px 1px 2px rgba(0, 0, 0, 0.3));\n",
       "      fill: #FFFFFF;\n",
       "    }\n",
       "  </style>\n",
       "\n",
       "      <script>\n",
       "        const buttonEl =\n",
       "          document.querySelector('#df-aa273d82-1472-4eb4-aa45-e49e3def4a92 button.colab-df-convert');\n",
       "        buttonEl.style.display =\n",
       "          google.colab.kernel.accessAllowed ? 'block' : 'none';\n",
       "\n",
       "        async function convertToInteractive(key) {\n",
       "          const element = document.querySelector('#df-aa273d82-1472-4eb4-aa45-e49e3def4a92');\n",
       "          const dataTable =\n",
       "            await google.colab.kernel.invokeFunction('convertToInteractive',\n",
       "                                                     [key], {});\n",
       "          if (!dataTable) return;\n",
       "\n",
       "          const docLinkHtml = 'Like what you see? Visit the ' +\n",
       "            '<a target=\"_blank\" href=https://colab.research.google.com/notebooks/data_table.ipynb>data table notebook</a>'\n",
       "            + ' to learn more about interactive tables.';\n",
       "          element.innerHTML = '';\n",
       "          dataTable['output_type'] = 'display_data';\n",
       "          await google.colab.output.renderOutput(dataTable, element);\n",
       "          const docLink = document.createElement('div');\n",
       "          docLink.innerHTML = docLinkHtml;\n",
       "          element.appendChild(docLink);\n",
       "        }\n",
       "      </script>\n",
       "    </div>\n",
       "  </div>\n",
       "  "
      ],
      "text/plain": [
       "       Id  PostId  Score                                               Text\n",
       "0  723182  385124      0  @BenBolker I don't understand. The fit cannot ...\n",
       "1  723183  385124      3  You can't add *less* than (`-min(y)`), but you...\n",
       "2  723186  385137      0  nice. If you felt like doing the work it would...\n",
       "3  723187  385137      0  i.e. `emdbook::curve3d(-sum(dnbinom(y,mu=mu,si...\n",
       "4  723188  385134      0  Don't you mean \"so variance should be $\\sigma^..."
      ]
     },
     "execution_count": 11,
     "metadata": {},
     "output_type": "execute_result"
    }
   ],
   "source": [
    "sql = \"\"\"\n",
    "SELECT Id, PostId, Score, Text\n",
    "    FROM comments\n",
    "        LIMIT 5\n",
    "        \"\"\"\n",
    "result = pd.read_sql(sql, con)\n",
    "result"
   ]
  },
  {
   "cell_type": "code",
   "execution_count": 12,
   "metadata": {
    "colab": {
     "base_uri": "https://localhost:8080/",
     "height": 886
    },
    "id": "k8ZxyqJFCLNz",
    "outputId": "2ee43de4-f18e-48fe-b3a7-d74a79a7976e"
   },
   "outputs": [
    {
     "name": "stdout",
     "output_type": "stream",
     "text": [
      " * sqlite:///chatdata.db\n",
      "Done.\n"
     ]
    },
    {
     "data": {
      "text/html": [
       "<table>\n",
       "    <thead>\n",
       "        <tr>\n",
       "            <th>sql</th>\n",
       "        </tr>\n",
       "    </thead>\n",
       "    <tbody>\n",
       "        <tr>\n",
       "            <td>CREATE TABLE &quot;comments&quot; (<br>&quot;Id&quot; INTEGER,<br>  &quot;PostId&quot; INTEGER,<br>  &quot;Score&quot; INTEGER,<br>  &quot;Text&quot; TEXT,<br>  &quot;CreationDate&quot; TEXT,<br>  &quot;UserId&quot; INTEGER<br>)</td>\n",
       "        </tr>\n",
       "        <tr>\n",
       "            <td>CREATE TABLE &quot;posts&quot; (<br>&quot;Id&quot; INTEGER,<br>  &quot;PostTypeId&quot; INTEGER,<br>  &quot;AcceptedAnswerId&quot; INTEGER,<br>  &quot;ParentId&quot; INTEGER,<br>  &quot;CreationDate&quot; TEXT,<br>  &quot;Score&quot; INTEGER,<br>  &quot;ViewCount&quot; INTEGER,<br>  &quot;Body&quot; TEXT,<br>  &quot;OwnerUserId&quot; INTEGER,<br>  &quot;OwnerDisplayName&quot; TEXT,<br>  &quot;LastEditorUserId&quot; INTEGER,<br>  &quot;LastEditorDisplayName&quot; TEXT,<br>  &quot;LastEditDate&quot; TEXT,<br>  &quot;LastActivityDate&quot; TEXT,<br>  &quot;Title&quot; TEXT,<br>  &quot;Tags&quot; TEXT,<br>  &quot;AnswerCount&quot; INTEGER,<br>  &quot;CommentCount&quot; INTEGER,<br>  &quot;FavoriteCount&quot; INTEGER,<br>  &quot;ClosedDate&quot; TEXT,<br>  &quot;CommunityOwnedDate&quot; TEXT<br>)</td>\n",
       "        </tr>\n",
       "        <tr>\n",
       "            <td>CREATE TABLE &quot;users&quot; (<br>&quot;Id&quot; INTEGER,<br>  &quot;Reputation&quot; INTEGER,<br>  &quot;CreationDate&quot; TEXT,<br>  &quot;DisplayName&quot; TEXT,<br>  &quot;LastAccessDate&quot; TEXT,<br>  &quot;WebsiteUrl&quot; TEXT,<br>  &quot;Location&quot; TEXT,<br>  &quot;AboutMe&quot; TEXT,<br>  &quot;Views&quot; INTEGER,<br>  &quot;UpVotes&quot; INTEGER,<br>  &quot;DownVotes&quot; INTEGER,<br>  &quot;ProfileImageUrl&quot; TEXT,<br>  &quot;AccountId&quot; INTEGER<br>)</td>\n",
       "        </tr>\n",
       "    </tbody>\n",
       "</table>"
      ],
      "text/plain": [
       "[('CREATE TABLE \"comments\" (\\n\"Id\" INTEGER,\\n  \"PostId\" INTEGER,\\n  \"Score\" INTEGER,\\n  \"Text\" TEXT,\\n  \"CreationDate\" TEXT,\\n  \"UserId\" INTEGER\\n)',),\n",
       " ('CREATE TABLE \"posts\" (\\n\"Id\" INTEGER,\\n  \"PostTypeId\" INTEGER,\\n  \"AcceptedAnswerId\" INTEGER,\\n  \"ParentId\" INTEGER,\\n  \"CreationDate\" TEXT,\\n  \"Scor ... (240 characters truncated) ...   \"Tags\" TEXT,\\n  \"AnswerCount\" INTEGER,\\n  \"CommentCount\" INTEGER,\\n  \"FavoriteCount\" INTEGER,\\n  \"ClosedDate\" TEXT,\\n  \"CommunityOwnedDate\" TEXT\\n)',),\n",
       " ('CREATE TABLE \"users\" (\\n\"Id\" INTEGER,\\n  \"Reputation\" INTEGER,\\n  \"CreationDate\" TEXT,\\n  \"DisplayName\" TEXT,\\n  \"LastAccessDate\" TEXT,\\n  \"WebsiteUr ... (17 characters truncated) ... tion\" TEXT,\\n  \"AboutMe\" TEXT,\\n  \"Views\" INTEGER,\\n  \"UpVotes\" INTEGER,\\n  \"DownVotes\" INTEGER,\\n  \"ProfileImageUrl\" TEXT,\\n  \"AccountId\" INTEGER\\n)',)]"
      ]
     },
     "execution_count": 12,
     "metadata": {},
     "output_type": "execute_result"
    }
   ],
   "source": [
    "%%sql\n",
    "select sql from sqlite_master"
   ]
  },
  {
   "cell_type": "code",
   "execution_count": 13,
   "metadata": {
    "colab": {
     "base_uri": "https://localhost:8080/"
    },
    "id": "r6KHStBVCLN2",
    "outputId": "6991558e-b33e-4560-d96e-bfec19082fa6"
   },
   "outputs": [
    {
     "name": "stdout",
     "output_type": "stream",
     "text": [
      " * sqlite:///chatdata.db\n",
      "Done.\n",
      "Done.\n",
      "Done.\n"
     ]
    },
    {
     "data": {
      "text/plain": [
       "[]"
      ]
     },
     "execution_count": 13,
     "metadata": {},
     "output_type": "execute_result"
    }
   ],
   "source": [
    "%%sql\n",
    "DROP TABLE comments;\n",
    "DROP TABLE users;\n",
    "DROP TABLE posts;"
   ]
  },
  {
   "cell_type": "code",
   "execution_count": 14,
   "metadata": {
    "colab": {
     "base_uri": "https://localhost:8080/",
     "height": 75
    },
    "id": "_RvBFds-CLN5",
    "outputId": "14f6bc39-9255-4500-ffa7-12521d5bddc8"
   },
   "outputs": [
    {
     "name": "stdout",
     "output_type": "stream",
     "text": [
      " * sqlite:///chatdata.db\n",
      "Done.\n"
     ]
    },
    {
     "data": {
      "text/html": [
       "<table>\n",
       "    <thead>\n",
       "        <tr>\n",
       "            <th>name</th>\n",
       "        </tr>\n",
       "    </thead>\n",
       "    <tbody>\n",
       "    </tbody>\n",
       "</table>"
      ],
      "text/plain": [
       "[]"
      ]
     },
     "execution_count": 14,
     "metadata": {},
     "output_type": "execute_result"
    }
   ],
   "source": [
    "%%sql\n",
    "SELECT name FROM sqlite_master WHERE type='table'\n",
    "    ORDER BY name"
   ]
  },
  {
   "cell_type": "code",
   "execution_count": 15,
   "metadata": {
    "colab": {
     "base_uri": "https://localhost:8080/"
    },
    "id": "870jvFQ9CLN7",
    "outputId": "358b0958-5ed9-4085-8b8f-536d75c432f2"
   },
   "outputs": [
    {
     "name": "stdout",
     "output_type": "stream",
     "text": [
      " * sqlite:///chatdata.db\n",
      "Done.\n"
     ]
    },
    {
     "data": {
      "text/plain": [
       "[]"
      ]
     },
     "execution_count": 15,
     "metadata": {},
     "output_type": "execute_result"
    }
   ],
   "source": [
    "%%sql\n",
    "PRAGMA foreign_keys=ON;"
   ]
  },
  {
   "cell_type": "code",
   "execution_count": 16,
   "metadata": {
    "colab": {
     "base_uri": "https://localhost:8080/"
    },
    "id": "mN-QgSBCCLN-",
    "outputId": "a1c04355-f1e0-4e93-9361-c76efa21bb1d"
   },
   "outputs": [
    {
     "name": "stdout",
     "output_type": "stream",
     "text": [
      " * sqlite:///chatdata.db\n",
      "Done.\n"
     ]
    },
    {
     "data": {
      "text/plain": [
       "[]"
      ]
     },
     "execution_count": 16,
     "metadata": {},
     "output_type": "execute_result"
    }
   ],
   "source": [
    "%%sql\n",
    "CREATE TABLE \"users\" (\n",
    "\"Id\" INTEGER NOT NULL PRIMARY KEY,\n",
    "\"Reputation\" INTEGER,\n",
    "\"CreationDate\" TEXT,\n",
    "\"DisplayName\" TEXT,\n",
    "\"LastAccessDate\" TEXT,\n",
    "\"WebsiteUrl\" TEXT,\n",
    "\"Location\" TEXT,\n",
    "\"AboutMe\" TEXT,\n",
    "\"Views\" INTEGER,\n",
    "\"UpVotes\" INTEGER,\n",
    "\"DownVotes\" INTEGER,\n",
    "\"ProfileImageUrl\" TEXT,\n",
    "\"AccountId\" INTEGER\n",
    ")"
   ]
  },
  {
   "cell_type": "code",
   "execution_count": 17,
   "metadata": {
    "colab": {
     "base_uri": "https://localhost:8080/"
    },
    "id": "zbaE1J82gzzW",
    "outputId": "ed3f2fa9-f074-4411-8ea9-2b9ffd3760cb"
   },
   "outputs": [
    {
     "name": "stdout",
     "output_type": "stream",
     "text": [
      " * sqlite:///chatdata.db\n",
      "Done.\n"
     ]
    },
    {
     "data": {
      "text/plain": [
       "[]"
      ]
     },
     "execution_count": 17,
     "metadata": {},
     "output_type": "execute_result"
    }
   ],
   "source": [
    "%%sql\n",
    "CREATE TABLE \"posts\" (\n",
    "\"Id\" INTEGER NOT NULL PRIMARY KEY,\n",
    "\"PostTypeId\" INTEGER,\n",
    "\"AcceptedAnswerId\" INTEGER,\n",
    "\"ParentId\" INTEGER,\n",
    "\"CreationDate\" TEXT,\n",
    "\"Score\" INTEGER,\n",
    "\"ViewCount\" INTEGER,\n",
    "\"Body\" TEXT,\n",
    "\"OwnerUserId\" INTEGER,\n",
    "\"OwnerDisplayName\" TEXT,\n",
    "\"LastEditorUserId\" INTEGER,\n",
    "\"LastEditorDisplayName\" TEXT,\n",
    "\"LastEditDate\" TEXT,\n",
    "\"LastActivityDate\" TEXT,\n",
    "\"Title\" TEXT,\n",
    "\"Tags\" TEXT,\n",
    "\"AnswerCount\" INTEGER,\n",
    "\"CommentCount\" INTEGER,\n",
    "\"FavoriteCount\" INTEGER,\n",
    "\"ClosedDate\" TEXT,\n",
    "\"CommunityOwnedDate\" TEXT\n",
    ")"
   ]
  },
  {
   "cell_type": "code",
   "execution_count": 18,
   "metadata": {
    "colab": {
     "base_uri": "https://localhost:8080/"
    },
    "id": "nXEGQutyg_q3",
    "outputId": "baaf31be-e9df-43b1-8854-0b0d126e8bf2"
   },
   "outputs": [
    {
     "name": "stdout",
     "output_type": "stream",
     "text": [
      " * sqlite:///chatdata.db\n",
      "Done.\n"
     ]
    },
    {
     "data": {
      "text/plain": [
       "[]"
      ]
     },
     "execution_count": 18,
     "metadata": {},
     "output_type": "execute_result"
    }
   ],
   "source": [
    "%%sql\n",
    "CREATE TABLE \"comments\" (\n",
    "\"Id\" INTEGER NOT NULL PRIMARY KEY,\n",
    "\"PostId\" INTEGER ,\n",
    "\"Score\" INTEGER,\n",
    "\"Text\" TEXT,\n",
    "\"CreationDate\" TEXT,\n",
    "\"UserId\" INTEGER,\n",
    "FOREIGN KEY (\"UserId\") REFERENCES users('Id'),\n",
    "FOREIGN KEY (\"PostId\") REFERENCES posts('Id') \n",
    ")"
   ]
  },
  {
   "cell_type": "code",
   "execution_count": 19,
   "metadata": {
    "id": "7ujJPit-CLOD"
   },
   "outputs": [],
   "source": [
    "# Insert data into the new users table\n",
    "users.to_sql('users', con, if_exists='append', index=False)"
   ]
  },
  {
   "cell_type": "code",
   "execution_count": 20,
   "metadata": {
    "id": "GJZRy9ETCLOF"
   },
   "outputs": [],
   "source": [
    " \n",
    "posts.to_sql('posts',con,if_exists='append',index=False)"
   ]
  },
  {
   "cell_type": "code",
   "execution_count": 21,
   "metadata": {
    "id": "84p3-RxrCLOG"
   },
   "outputs": [],
   "source": [
    " \n",
    "comments.to_sql('comments',con,if_exists='append',index= False)"
   ]
  },
  {
   "cell_type": "code",
   "execution_count": 22,
   "metadata": {
    "colab": {
     "base_uri": "https://localhost:8080/",
     "height": 139
    },
    "id": "IhBDSk2WCLOH",
    "outputId": "14c0fe27-9767-4db6-edbd-00a6367908dc"
   },
   "outputs": [
    {
     "name": "stdout",
     "output_type": "stream",
     "text": [
      " * sqlite:///chatdata.db\n",
      "Done.\n"
     ]
    },
    {
     "data": {
      "text/html": [
       "<table>\n",
       "    <thead>\n",
       "        <tr>\n",
       "            <th>name</th>\n",
       "        </tr>\n",
       "    </thead>\n",
       "    <tbody>\n",
       "        <tr>\n",
       "            <td>comments</td>\n",
       "        </tr>\n",
       "        <tr>\n",
       "            <td>posts</td>\n",
       "        </tr>\n",
       "        <tr>\n",
       "            <td>users</td>\n",
       "        </tr>\n",
       "    </tbody>\n",
       "</table>"
      ],
      "text/plain": [
       "[('comments',), ('posts',), ('users',)]"
      ]
     },
     "execution_count": 22,
     "metadata": {},
     "output_type": "execute_result"
    }
   ],
   "source": [
    "%%sql\n",
    "SELECT name FROM sqlite_master WHERE type='table'\n",
    "    ORDER BY name"
   ]
  },
  {
   "cell_type": "code",
   "execution_count": 23,
   "metadata": {
    "colab": {
     "base_uri": "https://localhost:8080/",
     "height": 206
    },
    "id": "z8L29B7zCLOM",
    "outputId": "65db9a7b-1aad-4f44-e10a-195f3b9f7003"
   },
   "outputs": [
    {
     "data": {
      "text/html": [
       "\n",
       "  <div id=\"df-422bf7e8-3b68-4e63-9500-8324f3591184\">\n",
       "    <div class=\"colab-df-container\">\n",
       "      <div>\n",
       "<style scoped>\n",
       "    .dataframe tbody tr th:only-of-type {\n",
       "        vertical-align: middle;\n",
       "    }\n",
       "\n",
       "    .dataframe tbody tr th {\n",
       "        vertical-align: top;\n",
       "    }\n",
       "\n",
       "    .dataframe thead th {\n",
       "        text-align: right;\n",
       "    }\n",
       "</style>\n",
       "<table border=\"1\" class=\"dataframe\">\n",
       "  <thead>\n",
       "    <tr style=\"text-align: right;\">\n",
       "      <th></th>\n",
       "      <th>Id</th>\n",
       "      <th>TotalViews</th>\n",
       "    </tr>\n",
       "  </thead>\n",
       "  <tbody>\n",
       "    <tr>\n",
       "      <th>0</th>\n",
       "      <td>919</td>\n",
       "      <td>85180</td>\n",
       "    </tr>\n",
       "    <tr>\n",
       "      <th>1</th>\n",
       "      <td>4253</td>\n",
       "      <td>35119</td>\n",
       "    </tr>\n",
       "    <tr>\n",
       "      <th>2</th>\n",
       "      <td>805</td>\n",
       "      <td>34637</td>\n",
       "    </tr>\n",
       "    <tr>\n",
       "      <th>3</th>\n",
       "      <td>7290</td>\n",
       "      <td>32639</td>\n",
       "    </tr>\n",
       "    <tr>\n",
       "      <th>4</th>\n",
       "      <td>3277</td>\n",
       "      <td>29255</td>\n",
       "    </tr>\n",
       "  </tbody>\n",
       "</table>\n",
       "</div>\n",
       "      <button class=\"colab-df-convert\" onclick=\"convertToInteractive('df-422bf7e8-3b68-4e63-9500-8324f3591184')\"\n",
       "              title=\"Convert this dataframe to an interactive table.\"\n",
       "              style=\"display:none;\">\n",
       "        \n",
       "  <svg xmlns=\"http://www.w3.org/2000/svg\" height=\"24px\"viewBox=\"0 0 24 24\"\n",
       "       width=\"24px\">\n",
       "    <path d=\"M0 0h24v24H0V0z\" fill=\"none\"/>\n",
       "    <path d=\"M18.56 5.44l.94 2.06.94-2.06 2.06-.94-2.06-.94-.94-2.06-.94 2.06-2.06.94zm-11 1L8.5 8.5l.94-2.06 2.06-.94-2.06-.94L8.5 2.5l-.94 2.06-2.06.94zm10 10l.94 2.06.94-2.06 2.06-.94-2.06-.94-.94-2.06-.94 2.06-2.06.94z\"/><path d=\"M17.41 7.96l-1.37-1.37c-.4-.4-.92-.59-1.43-.59-.52 0-1.04.2-1.43.59L10.3 9.45l-7.72 7.72c-.78.78-.78 2.05 0 2.83L4 21.41c.39.39.9.59 1.41.59.51 0 1.02-.2 1.41-.59l7.78-7.78 2.81-2.81c.8-.78.8-2.07 0-2.86zM5.41 20L4 18.59l7.72-7.72 1.47 1.35L5.41 20z\"/>\n",
       "  </svg>\n",
       "      </button>\n",
       "      \n",
       "  <style>\n",
       "    .colab-df-container {\n",
       "      display:flex;\n",
       "      flex-wrap:wrap;\n",
       "      gap: 12px;\n",
       "    }\n",
       "\n",
       "    .colab-df-convert {\n",
       "      background-color: #E8F0FE;\n",
       "      border: none;\n",
       "      border-radius: 50%;\n",
       "      cursor: pointer;\n",
       "      display: none;\n",
       "      fill: #1967D2;\n",
       "      height: 32px;\n",
       "      padding: 0 0 0 0;\n",
       "      width: 32px;\n",
       "    }\n",
       "\n",
       "    .colab-df-convert:hover {\n",
       "      background-color: #E2EBFA;\n",
       "      box-shadow: 0px 1px 2px rgba(60, 64, 67, 0.3), 0px 1px 3px 1px rgba(60, 64, 67, 0.15);\n",
       "      fill: #174EA6;\n",
       "    }\n",
       "\n",
       "    [theme=dark] .colab-df-convert {\n",
       "      background-color: #3B4455;\n",
       "      fill: #D2E3FC;\n",
       "    }\n",
       "\n",
       "    [theme=dark] .colab-df-convert:hover {\n",
       "      background-color: #434B5C;\n",
       "      box-shadow: 0px 1px 3px 1px rgba(0, 0, 0, 0.15);\n",
       "      filter: drop-shadow(0px 1px 2px rgba(0, 0, 0, 0.3));\n",
       "      fill: #FFFFFF;\n",
       "    }\n",
       "  </style>\n",
       "\n",
       "      <script>\n",
       "        const buttonEl =\n",
       "          document.querySelector('#df-422bf7e8-3b68-4e63-9500-8324f3591184 button.colab-df-convert');\n",
       "        buttonEl.style.display =\n",
       "          google.colab.kernel.accessAllowed ? 'block' : 'none';\n",
       "\n",
       "        async function convertToInteractive(key) {\n",
       "          const element = document.querySelector('#df-422bf7e8-3b68-4e63-9500-8324f3591184');\n",
       "          const dataTable =\n",
       "            await google.colab.kernel.invokeFunction('convertToInteractive',\n",
       "                                                     [key], {});\n",
       "          if (!dataTable) return;\n",
       "\n",
       "          const docLinkHtml = 'Like what you see? Visit the ' +\n",
       "            '<a target=\"_blank\" href=https://colab.research.google.com/notebooks/data_table.ipynb>data table notebook</a>'\n",
       "            + ' to learn more about interactive tables.';\n",
       "          element.innerHTML = '';\n",
       "          dataTable['output_type'] = 'display_data';\n",
       "          await google.colab.output.renderOutput(dataTable, element);\n",
       "          const docLink = document.createElement('div');\n",
       "          docLink.innerHTML = docLinkHtml;\n",
       "          element.appendChild(docLink);\n",
       "        }\n",
       "      </script>\n",
       "    </div>\n",
       "  </div>\n",
       "  "
      ],
      "text/plain": [
       "     Id  TotalViews\n",
       "0   919       85180\n",
       "1  4253       35119\n",
       "2   805       34637\n",
       "3  7290       32639\n",
       "4  3277       29255"
      ]
     },
     "execution_count": 23,
     "metadata": {},
     "output_type": "execute_result"
    }
   ],
   "source": [
    "sql = \"\"\"\n",
    "SELECT Id, SUM(Views) AS TotalViews\n",
    "    FROM Users\n",
    "        GROUP BY Id\n",
    "            ORDER BY TotalViews DESC\n",
    "                LIMIT 5\n",
    "                \"\"\"\n",
    "result = pd.read_sql(sql, con) # con is the connection to the database\n",
    "result"
   ]
  },
  {
   "cell_type": "code",
   "execution_count": 24,
   "metadata": {
    "colab": {
     "base_uri": "https://localhost:8080/"
    },
    "id": "cJRiGJEsCLOO",
    "outputId": "1216e5b3-0c54-45c6-e867-6aecd37e9063"
   },
   "outputs": [
    {
     "data": {
      "text/plain": [
       "Id\n",
       "919     85180\n",
       "4253    35119\n",
       "805     34637\n",
       "7290    32639\n",
       "3277    29255\n",
       "Name: Views, dtype: int64"
      ]
     },
     "execution_count": 24,
     "metadata": {},
     "output_type": "execute_result"
    }
   ],
   "source": [
    "results = users.groupby(['Id']).sum().sort_values('Views', ascending = False)[:5]\n",
    "results['Views']"
   ]
  },
  {
   "cell_type": "code",
   "execution_count": 25,
   "metadata": {
    "colab": {
     "base_uri": "https://localhost:8080/"
    },
    "id": "cHWEcBKWCLOQ",
    "outputId": "c0c17184-d333-45a0-a30b-1a3bc6f24c56"
   },
   "outputs": [
    {
     "data": {
      "text/plain": [
       "{'task': ['Single Table Queries'],\n",
       " 'action': ['Which 5 users have viewed the most times and what is the sum of those views per user?'],\n",
       " 'query': ['\\nSELECT Id, SUM(Views) AS TotalViews\\n    FROM Users\\n        GROUP BY Id\\n            ORDER BY TotalViews DESC\\n                LIMIT 5\\n                ']}"
      ]
     },
     "execution_count": 25,
     "metadata": {},
     "output_type": "execute_result"
    }
   ],
   "source": [
    "query_dict = {\n",
    "              'task': ['Single Table Queries'],\n",
    "              'action': ['Which 5 users have viewed the most times and what is the sum of those views per user?'],\n",
    "              'query': [sql]\n",
    "             }\n",
    "query_dict"
   ]
  },
  {
   "cell_type": "code",
   "execution_count": 26,
   "metadata": {
    "colab": {
     "base_uri": "https://localhost:8080/",
     "height": 81
    },
    "id": "6E_flfXwCLOR",
    "outputId": "f89e22c4-f0a8-45ff-86a3-36c930762c53"
   },
   "outputs": [
    {
     "data": {
      "text/html": [
       "\n",
       "  <div id=\"df-c02706cf-5e70-4227-8619-e204c9163762\">\n",
       "    <div class=\"colab-df-container\">\n",
       "      <div>\n",
       "<style scoped>\n",
       "    .dataframe tbody tr th:only-of-type {\n",
       "        vertical-align: middle;\n",
       "    }\n",
       "\n",
       "    .dataframe tbody tr th {\n",
       "        vertical-align: top;\n",
       "    }\n",
       "\n",
       "    .dataframe thead th {\n",
       "        text-align: right;\n",
       "    }\n",
       "</style>\n",
       "<table border=\"1\" class=\"dataframe\">\n",
       "  <thead>\n",
       "    <tr style=\"text-align: right;\">\n",
       "      <th></th>\n",
       "      <th>task</th>\n",
       "      <th>action</th>\n",
       "      <th>query</th>\n",
       "    </tr>\n",
       "  </thead>\n",
       "  <tbody>\n",
       "    <tr>\n",
       "      <th>0</th>\n",
       "      <td>Single Table Queries</td>\n",
       "      <td>Which 5 users have viewed the most times and w...</td>\n",
       "      <td>\\nSELECT Id, SUM(Views) AS TotalViews\\n    FRO...</td>\n",
       "    </tr>\n",
       "  </tbody>\n",
       "</table>\n",
       "</div>\n",
       "      <button class=\"colab-df-convert\" onclick=\"convertToInteractive('df-c02706cf-5e70-4227-8619-e204c9163762')\"\n",
       "              title=\"Convert this dataframe to an interactive table.\"\n",
       "              style=\"display:none;\">\n",
       "        \n",
       "  <svg xmlns=\"http://www.w3.org/2000/svg\" height=\"24px\"viewBox=\"0 0 24 24\"\n",
       "       width=\"24px\">\n",
       "    <path d=\"M0 0h24v24H0V0z\" fill=\"none\"/>\n",
       "    <path d=\"M18.56 5.44l.94 2.06.94-2.06 2.06-.94-2.06-.94-.94-2.06-.94 2.06-2.06.94zm-11 1L8.5 8.5l.94-2.06 2.06-.94-2.06-.94L8.5 2.5l-.94 2.06-2.06.94zm10 10l.94 2.06.94-2.06 2.06-.94-2.06-.94-.94-2.06-.94 2.06-2.06.94z\"/><path d=\"M17.41 7.96l-1.37-1.37c-.4-.4-.92-.59-1.43-.59-.52 0-1.04.2-1.43.59L10.3 9.45l-7.72 7.72c-.78.78-.78 2.05 0 2.83L4 21.41c.39.39.9.59 1.41.59.51 0 1.02-.2 1.41-.59l7.78-7.78 2.81-2.81c.8-.78.8-2.07 0-2.86zM5.41 20L4 18.59l7.72-7.72 1.47 1.35L5.41 20z\"/>\n",
       "  </svg>\n",
       "      </button>\n",
       "      \n",
       "  <style>\n",
       "    .colab-df-container {\n",
       "      display:flex;\n",
       "      flex-wrap:wrap;\n",
       "      gap: 12px;\n",
       "    }\n",
       "\n",
       "    .colab-df-convert {\n",
       "      background-color: #E8F0FE;\n",
       "      border: none;\n",
       "      border-radius: 50%;\n",
       "      cursor: pointer;\n",
       "      display: none;\n",
       "      fill: #1967D2;\n",
       "      height: 32px;\n",
       "      padding: 0 0 0 0;\n",
       "      width: 32px;\n",
       "    }\n",
       "\n",
       "    .colab-df-convert:hover {\n",
       "      background-color: #E2EBFA;\n",
       "      box-shadow: 0px 1px 2px rgba(60, 64, 67, 0.3), 0px 1px 3px 1px rgba(60, 64, 67, 0.15);\n",
       "      fill: #174EA6;\n",
       "    }\n",
       "\n",
       "    [theme=dark] .colab-df-convert {\n",
       "      background-color: #3B4455;\n",
       "      fill: #D2E3FC;\n",
       "    }\n",
       "\n",
       "    [theme=dark] .colab-df-convert:hover {\n",
       "      background-color: #434B5C;\n",
       "      box-shadow: 0px 1px 3px 1px rgba(0, 0, 0, 0.15);\n",
       "      filter: drop-shadow(0px 1px 2px rgba(0, 0, 0, 0.3));\n",
       "      fill: #FFFFFF;\n",
       "    }\n",
       "  </style>\n",
       "\n",
       "      <script>\n",
       "        const buttonEl =\n",
       "          document.querySelector('#df-c02706cf-5e70-4227-8619-e204c9163762 button.colab-df-convert');\n",
       "        buttonEl.style.display =\n",
       "          google.colab.kernel.accessAllowed ? 'block' : 'none';\n",
       "\n",
       "        async function convertToInteractive(key) {\n",
       "          const element = document.querySelector('#df-c02706cf-5e70-4227-8619-e204c9163762');\n",
       "          const dataTable =\n",
       "            await google.colab.kernel.invokeFunction('convertToInteractive',\n",
       "                                                     [key], {});\n",
       "          if (!dataTable) return;\n",
       "\n",
       "          const docLinkHtml = 'Like what you see? Visit the ' +\n",
       "            '<a target=\"_blank\" href=https://colab.research.google.com/notebooks/data_table.ipynb>data table notebook</a>'\n",
       "            + ' to learn more about interactive tables.';\n",
       "          element.innerHTML = '';\n",
       "          dataTable['output_type'] = 'display_data';\n",
       "          await google.colab.output.renderOutput(dataTable, element);\n",
       "          const docLink = document.createElement('div');\n",
       "          docLink.innerHTML = docLinkHtml;\n",
       "          element.appendChild(docLink);\n",
       "        }\n",
       "      </script>\n",
       "    </div>\n",
       "  </div>\n",
       "  "
      ],
      "text/plain": [
       "                   task                                             action  \\\n",
       "0  Single Table Queries  Which 5 users have viewed the most times and w...   \n",
       "\n",
       "                                               query  \n",
       "0  \\nSELECT Id, SUM(Views) AS TotalViews\\n    FRO...  "
      ]
     },
     "execution_count": 26,
     "metadata": {},
     "output_type": "execute_result"
    }
   ],
   "source": [
    "queries = pd.DataFrame(query_dict)\n",
    "queries"
   ]
  },
  {
   "cell_type": "code",
   "execution_count": 27,
   "metadata": {
    "colab": {
     "base_uri": "https://localhost:8080/",
     "height": 81
    },
    "id": "F1aTkEz7CLOT",
    "outputId": "badcf0f4-f44d-4a51-84a5-b036cfe84176"
   },
   "outputs": [
    {
     "data": {
      "text/html": [
       "\n",
       "  <div id=\"df-87c53007-5640-4ca0-aec4-81885d5de768\">\n",
       "    <div class=\"colab-df-container\">\n",
       "      <div>\n",
       "<style scoped>\n",
       "    .dataframe tbody tr th:only-of-type {\n",
       "        vertical-align: middle;\n",
       "    }\n",
       "\n",
       "    .dataframe tbody tr th {\n",
       "        vertical-align: top;\n",
       "    }\n",
       "\n",
       "    .dataframe thead th {\n",
       "        text-align: right;\n",
       "    }\n",
       "</style>\n",
       "<table border=\"1\" class=\"dataframe\">\n",
       "  <thead>\n",
       "    <tr style=\"text-align: right;\">\n",
       "      <th></th>\n",
       "      <th>task</th>\n",
       "      <th>action</th>\n",
       "      <th>query</th>\n",
       "    </tr>\n",
       "  </thead>\n",
       "  <tbody>\n",
       "    <tr>\n",
       "      <th>0</th>\n",
       "      <td>Single Table Queries</td>\n",
       "      <td>Which 5 users have viewed the most times and w...</td>\n",
       "      <td>\\nSELECT Id, SUM(Views) AS TotalViews\\n    FRO...</td>\n",
       "    </tr>\n",
       "  </tbody>\n",
       "</table>\n",
       "</div>\n",
       "      <button class=\"colab-df-convert\" onclick=\"convertToInteractive('df-87c53007-5640-4ca0-aec4-81885d5de768')\"\n",
       "              title=\"Convert this dataframe to an interactive table.\"\n",
       "              style=\"display:none;\">\n",
       "        \n",
       "  <svg xmlns=\"http://www.w3.org/2000/svg\" height=\"24px\"viewBox=\"0 0 24 24\"\n",
       "       width=\"24px\">\n",
       "    <path d=\"M0 0h24v24H0V0z\" fill=\"none\"/>\n",
       "    <path d=\"M18.56 5.44l.94 2.06.94-2.06 2.06-.94-2.06-.94-.94-2.06-.94 2.06-2.06.94zm-11 1L8.5 8.5l.94-2.06 2.06-.94-2.06-.94L8.5 2.5l-.94 2.06-2.06.94zm10 10l.94 2.06.94-2.06 2.06-.94-2.06-.94-.94-2.06-.94 2.06-2.06.94z\"/><path d=\"M17.41 7.96l-1.37-1.37c-.4-.4-.92-.59-1.43-.59-.52 0-1.04.2-1.43.59L10.3 9.45l-7.72 7.72c-.78.78-.78 2.05 0 2.83L4 21.41c.39.39.9.59 1.41.59.51 0 1.02-.2 1.41-.59l7.78-7.78 2.81-2.81c.8-.78.8-2.07 0-2.86zM5.41 20L4 18.59l7.72-7.72 1.47 1.35L5.41 20z\"/>\n",
       "  </svg>\n",
       "      </button>\n",
       "      \n",
       "  <style>\n",
       "    .colab-df-container {\n",
       "      display:flex;\n",
       "      flex-wrap:wrap;\n",
       "      gap: 12px;\n",
       "    }\n",
       "\n",
       "    .colab-df-convert {\n",
       "      background-color: #E8F0FE;\n",
       "      border: none;\n",
       "      border-radius: 50%;\n",
       "      cursor: pointer;\n",
       "      display: none;\n",
       "      fill: #1967D2;\n",
       "      height: 32px;\n",
       "      padding: 0 0 0 0;\n",
       "      width: 32px;\n",
       "    }\n",
       "\n",
       "    .colab-df-convert:hover {\n",
       "      background-color: #E2EBFA;\n",
       "      box-shadow: 0px 1px 2px rgba(60, 64, 67, 0.3), 0px 1px 3px 1px rgba(60, 64, 67, 0.15);\n",
       "      fill: #174EA6;\n",
       "    }\n",
       "\n",
       "    [theme=dark] .colab-df-convert {\n",
       "      background-color: #3B4455;\n",
       "      fill: #D2E3FC;\n",
       "    }\n",
       "\n",
       "    [theme=dark] .colab-df-convert:hover {\n",
       "      background-color: #434B5C;\n",
       "      box-shadow: 0px 1px 3px 1px rgba(0, 0, 0, 0.15);\n",
       "      filter: drop-shadow(0px 1px 2px rgba(0, 0, 0, 0.3));\n",
       "      fill: #FFFFFF;\n",
       "    }\n",
       "  </style>\n",
       "\n",
       "      <script>\n",
       "        const buttonEl =\n",
       "          document.querySelector('#df-87c53007-5640-4ca0-aec4-81885d5de768 button.colab-df-convert');\n",
       "        buttonEl.style.display =\n",
       "          google.colab.kernel.accessAllowed ? 'block' : 'none';\n",
       "\n",
       "        async function convertToInteractive(key) {\n",
       "          const element = document.querySelector('#df-87c53007-5640-4ca0-aec4-81885d5de768');\n",
       "          const dataTable =\n",
       "            await google.colab.kernel.invokeFunction('convertToInteractive',\n",
       "                                                     [key], {});\n",
       "          if (!dataTable) return;\n",
       "\n",
       "          const docLinkHtml = 'Like what you see? Visit the ' +\n",
       "            '<a target=\"_blank\" href=https://colab.research.google.com/notebooks/data_table.ipynb>data table notebook</a>'\n",
       "            + ' to learn more about interactive tables.';\n",
       "          element.innerHTML = '';\n",
       "          dataTable['output_type'] = 'display_data';\n",
       "          await google.colab.output.renderOutput(dataTable, element);\n",
       "          const docLink = document.createElement('div');\n",
       "          docLink.innerHTML = docLinkHtml;\n",
       "          element.appendChild(docLink);\n",
       "        }\n",
       "      </script>\n",
       "    </div>\n",
       "  </div>\n",
       "  "
      ],
      "text/plain": [
       "                   task                                             action  \\\n",
       "0  Single Table Queries  Which 5 users have viewed the most times and w...   \n",
       "\n",
       "                                               query  \n",
       "0  \\nSELECT Id, SUM(Views) AS TotalViews\\n    FRO...  "
      ]
     },
     "execution_count": 27,
     "metadata": {},
     "output_type": "execute_result"
    }
   ],
   "source": [
    "# load query into sqlite\n",
    "queries.to_sql('queries', con, if_exists='append', index=False)\n",
    "\n",
    "# read back in to prove that it worked\n",
    "sql = 'SELECT * FROM queries'\n",
    "queries = pd.read_sql(sql, con)\n",
    "queries.head()"
   ]
  },
  {
   "cell_type": "code",
   "execution_count": 28,
   "metadata": {
    "id": "pZ5c0rFsCLOZ"
   },
   "outputs": [],
   "source": [
    "# Define a function that will insert into the queries table\n",
    "def store_query(task, action, query):\n",
    "    query_dict = {\n",
    "                  'task': [task],\n",
    "                  'action': [action],\n",
    "                  'query': [query]\n",
    "                 }\n",
    "\n",
    "    # put query into the query_dict\n",
    "    queries = pd.DataFrame(query_dict)\n",
    "\n",
    "    # load query into sqlite\n",
    "    queries.to_sql('queries', con, if_exists='append', index=False)    "
   ]
  },
  {
   "cell_type": "code",
   "execution_count": 29,
   "metadata": {
    "id": "RLg3ZJd5CLOb"
   },
   "outputs": [],
   "source": [
    "sql = \"\"\"\n",
    "    CREATE TABLE \"comments\" (\n",
    "    \"Id\" INTEGER,\n",
    "    \"PostId\" INTEGER,\n",
    "    \"Score\" INTEGER,\n",
    "    \"Text\" TEXT,\n",
    "    \"CreationDate\" TEXT,\n",
    "    \"UserId\" INTEGER\n",
    "    )\n",
    "    \"\"\"\n",
    "store_query(\"Task 1\", \"Create table comments\", sql)"
   ]
  },
  {
   "cell_type": "code",
   "execution_count": 30,
   "metadata": {
    "colab": {
     "base_uri": "https://localhost:8080/",
     "height": 343
    },
    "id": "McHKZHjlCLOm",
    "outputId": "ff6c31fa-5476-4b63-b896-4fd4faaf8adf"
   },
   "outputs": [
    {
     "name": "stdout",
     "output_type": "stream",
     "text": [
      " * sqlite:///chatdata.db\n",
      "Done.\n"
     ]
    },
    {
     "data": {
      "text/html": [
       "<table>\n",
       "    <thead>\n",
       "        <tr>\n",
       "            <th>task</th>\n",
       "            <th>action</th>\n",
       "            <th>query</th>\n",
       "        </tr>\n",
       "    </thead>\n",
       "    <tbody>\n",
       "        <tr>\n",
       "            <td>Single Table Queries</td>\n",
       "            <td>Which 5 users have viewed the most times and what is the sum of those views per user?</td>\n",
       "            <td><br>SELECT Id, SUM(Views) AS TotalViews<br>    FROM Users<br>        GROUP BY Id<br>            ORDER BY TotalViews DESC<br>                LIMIT 5<br>                </td>\n",
       "        </tr>\n",
       "        <tr>\n",
       "            <td>Task 1</td>\n",
       "            <td>Create table comments</td>\n",
       "            <td><br>    CREATE TABLE &quot;comments&quot; (<br>    &quot;Id&quot; INTEGER,<br>    &quot;PostId&quot; INTEGER,<br>    &quot;Score&quot; INTEGER,<br>    &quot;Text&quot; TEXT,<br>    &quot;CreationDate&quot; TEXT,<br>    &quot;UserId&quot; INTEGER<br>    )<br>    </td>\n",
       "        </tr>\n",
       "    </tbody>\n",
       "</table>"
      ],
      "text/plain": [
       "[('Single Table Queries', 'Which 5 users have viewed the most times and what is the sum of those views per user?', '\\nSELECT Id, SUM(Views) AS TotalViews\\n    FROM Users\\n        GROUP BY Id\\n            ORDER BY TotalViews DESC\\n                LIMIT 5\\n                '),\n",
       " ('Task 1', 'Create table comments', '\\n    CREATE TABLE \"comments\" (\\n    \"Id\" INTEGER,\\n    \"PostId\" INTEGER,\\n    \"Score\" INTEGER,\\n    \"Text\" TEXT,\\n    \"CreationDate\" TEXT,\\n    \"UserId\" INTEGER\\n    )\\n    ')]"
      ]
     },
     "execution_count": 30,
     "metadata": {},
     "output_type": "execute_result"
    }
   ],
   "source": [
    " \n",
    "%sql SELECT * FROM queries"
   ]
  },
  {
   "cell_type": "code",
   "execution_count": 31,
   "metadata": {
    "id": "oK88s6QBCLOp"
   },
   "outputs": [],
   "source": [
    " \n",
    "sql =\"\"\"\n",
    "  CREATE TABLE \"posts\" (\n",
    "\"Id\" INTEGER NOT NULL PRIMARY KEY,\n",
    "\"PostTypeId\" INTEGER,\n",
    "\"AcceptedAnswerId\" INTEGER,\n",
    "\"ParentId\" INTEGER,\n",
    "\"CreationDate\" TEXT,\n",
    "\"Score\" INTEGER,\n",
    "\"ViewCount\" INTEGER,\n",
    "\"Body\" TEXT,\n",
    "\"OwnerUserId\" INTEGER,\n",
    "\"OwnerDisplayName\" TEXT,\n",
    "\"LastEditorUserId\" INTEGER,\n",
    "\"LastEditorDisplayName\" TEXT,\n",
    "\"LastEditDate\" TEXT,\n",
    "\"LastActivityDate\" TEXT,\n",
    "\"Title\" TEXT,\n",
    "\"Tags\" TEXT,\n",
    "\"AnswerCount\" INTEGER,\n",
    "\"CommentCount\" INTEGER,\n",
    "\"FavoriteCount\" INTEGER,\n",
    "\"ClosedDate\" TEXT,\n",
    "\"CommunityOwnedDate\" TEXT\n",
    ")\n",
    "\"\"\"\n",
    "store_query(\"Task 1\", \"Create Table Posts\",sql)\n"
   ]
  },
  {
   "cell_type": "code",
   "execution_count": 32,
   "metadata": {
    "id": "FTzIX-TkCLOq"
   },
   "outputs": [],
   "source": [
    "\n",
    "sql= \"\"\"\n",
    "  CREATE TABLE \"users\" (\n",
    "\"Id\" INTEGER NOT NULL PRIMARY KEY,\n",
    "\"Reputation\" INTEGER,\n",
    "\"CreationDate\" TEXT,\n",
    "\"DisplayName\" TEXT,\n",
    "\"LastAccessDate\" TEXT,\n",
    "\"WebsiteUrl\" TEXT,\n",
    "\"Location\" TEXT,\n",
    "\"AboutMe\" TEXT,\n",
    "\"Views\" INTEGER,\n",
    "\"UpVotes\" INTEGER,\n",
    "\"DownVotes\" INTEGER,\n",
    "\"ProfileImageUrl\" TEXT,\n",
    "\"AccountId\" INTEGER\n",
    ")\n",
    "\"\"\"\n",
    "store_query(\"Task 1\",\"Create Table USERS\",sql)"
   ]
  },
  {
   "cell_type": "code",
   "execution_count": 33,
   "metadata": {
    "colab": {
     "base_uri": "https://localhost:8080/",
     "height": 1000
    },
    "id": "TojblpdFxOvj",
    "outputId": "3137a986-370e-4e49-beb3-b426f9bda917"
   },
   "outputs": [
    {
     "name": "stdout",
     "output_type": "stream",
     "text": [
      " * sqlite:///chatdata.db\n",
      "Done.\n"
     ]
    },
    {
     "data": {
      "text/html": [
       "<table>\n",
       "    <thead>\n",
       "        <tr>\n",
       "            <th>task</th>\n",
       "            <th>action</th>\n",
       "            <th>query</th>\n",
       "        </tr>\n",
       "    </thead>\n",
       "    <tbody>\n",
       "        <tr>\n",
       "            <td>Single Table Queries</td>\n",
       "            <td>Which 5 users have viewed the most times and what is the sum of those views per user?</td>\n",
       "            <td><br>SELECT Id, SUM(Views) AS TotalViews<br>    FROM Users<br>        GROUP BY Id<br>            ORDER BY TotalViews DESC<br>                LIMIT 5<br>                </td>\n",
       "        </tr>\n",
       "        <tr>\n",
       "            <td>Task 1</td>\n",
       "            <td>Create table comments</td>\n",
       "            <td><br>    CREATE TABLE &quot;comments&quot; (<br>    &quot;Id&quot; INTEGER,<br>    &quot;PostId&quot; INTEGER,<br>    &quot;Score&quot; INTEGER,<br>    &quot;Text&quot; TEXT,<br>    &quot;CreationDate&quot; TEXT,<br>    &quot;UserId&quot; INTEGER<br>    )<br>    </td>\n",
       "        </tr>\n",
       "        <tr>\n",
       "            <td>Task 1</td>\n",
       "            <td>Create Table Posts</td>\n",
       "            <td><br>  CREATE TABLE &quot;posts&quot; (<br>&quot;Id&quot; INTEGER NOT NULL PRIMARY KEY,<br>&quot;PostTypeId&quot; INTEGER,<br>&quot;AcceptedAnswerId&quot; INTEGER,<br>&quot;ParentId&quot; INTEGER,<br>&quot;CreationDate&quot; TEXT,<br>&quot;Score&quot; INTEGER,<br>&quot;ViewCount&quot; INTEGER,<br>&quot;Body&quot; TEXT,<br>&quot;OwnerUserId&quot; INTEGER,<br>&quot;OwnerDisplayName&quot; TEXT,<br>&quot;LastEditorUserId&quot; INTEGER,<br>&quot;LastEditorDisplayName&quot; TEXT,<br>&quot;LastEditDate&quot; TEXT,<br>&quot;LastActivityDate&quot; TEXT,<br>&quot;Title&quot; TEXT,<br>&quot;Tags&quot; TEXT,<br>&quot;AnswerCount&quot; INTEGER,<br>&quot;CommentCount&quot; INTEGER,<br>&quot;FavoriteCount&quot; INTEGER,<br>&quot;ClosedDate&quot; TEXT,<br>&quot;CommunityOwnedDate&quot; TEXT<br>)<br></td>\n",
       "        </tr>\n",
       "        <tr>\n",
       "            <td>Task 1</td>\n",
       "            <td>Create Table USERS</td>\n",
       "            <td><br>  CREATE TABLE &quot;users&quot; (<br>&quot;Id&quot; INTEGER NOT NULL PRIMARY KEY,<br>&quot;Reputation&quot; INTEGER,<br>&quot;CreationDate&quot; TEXT,<br>&quot;DisplayName&quot; TEXT,<br>&quot;LastAccessDate&quot; TEXT,<br>&quot;WebsiteUrl&quot; TEXT,<br>&quot;Location&quot; TEXT,<br>&quot;AboutMe&quot; TEXT,<br>&quot;Views&quot; INTEGER,<br>&quot;UpVotes&quot; INTEGER,<br>&quot;DownVotes&quot; INTEGER,<br>&quot;ProfileImageUrl&quot; TEXT,<br>&quot;AccountId&quot; INTEGER<br>)<br></td>\n",
       "        </tr>\n",
       "    </tbody>\n",
       "</table>"
      ],
      "text/plain": [
       "[('Single Table Queries', 'Which 5 users have viewed the most times and what is the sum of those views per user?', '\\nSELECT Id, SUM(Views) AS TotalViews\\n    FROM Users\\n        GROUP BY Id\\n            ORDER BY TotalViews DESC\\n                LIMIT 5\\n                '),\n",
       " ('Task 1', 'Create table comments', '\\n    CREATE TABLE \"comments\" (\\n    \"Id\" INTEGER,\\n    \"PostId\" INTEGER,\\n    \"Score\" INTEGER,\\n    \"Text\" TEXT,\\n    \"CreationDate\" TEXT,\\n    \"UserId\" INTEGER\\n    )\\n    '),\n",
       " ('Task 1', 'Create Table Posts', '\\n  CREATE TABLE \"posts\" (\\n\"Id\" INTEGER NOT NULL PRIMARY KEY,\\n\"PostTypeId\" INTEGER,\\n\"AcceptedAnswerId\" INTEGER,\\n\"ParentId\" INTEGER,\\n\"CreationDat ... (227 characters truncated) ... e\" TEXT,\\n\"Tags\" TEXT,\\n\"AnswerCount\" INTEGER,\\n\"CommentCount\" INTEGER,\\n\"FavoriteCount\" INTEGER,\\n\"ClosedDate\" TEXT,\\n\"CommunityOwnedDate\" TEXT\\n)\\n'),\n",
       " ('Task 1', 'Create Table USERS', '\\n  CREATE TABLE \"users\" (\\n\"Id\" INTEGER NOT NULL PRIMARY KEY,\\n\"Reputation\" INTEGER,\\n\"CreationDate\" TEXT,\\n\"DisplayName\" TEXT,\\n\"LastAccessDate\" TE ... (20 characters truncated) ... XT,\\n\"Location\" TEXT,\\n\"AboutMe\" TEXT,\\n\"Views\" INTEGER,\\n\"UpVotes\" INTEGER,\\n\"DownVotes\" INTEGER,\\n\"ProfileImageUrl\" TEXT,\\n\"AccountId\" INTEGER\\n)\\n')]"
      ]
     },
     "execution_count": 33,
     "metadata": {},
     "output_type": "execute_result"
    }
   ],
   "source": [
    "\n",
    "%%sql\n",
    "SELECT * FROM queries"
   ]
  },
  {
   "cell_type": "code",
   "execution_count": 34,
   "metadata": {
    "colab": {
     "base_uri": "https://localhost:8080/",
     "height": 96
    },
    "id": "B4wPADdpCLOs",
    "outputId": "656e6554-97ba-4f82-8941-d5329082194d"
   },
   "outputs": [
    {
     "name": "stdout",
     "output_type": "stream",
     "text": [
      " * sqlite:///chatdata.db\n",
      "Done.\n"
     ]
    },
    {
     "data": {
      "text/html": [
       "<table>\n",
       "    <thead>\n",
       "        <tr>\n",
       "            <th>COUNT(*)</th>\n",
       "        </tr>\n",
       "    </thead>\n",
       "    <tbody>\n",
       "        <tr>\n",
       "            <td>50000</td>\n",
       "        </tr>\n",
       "    </tbody>\n",
       "</table>"
      ],
      "text/plain": [
       "[(50000,)]"
      ]
     },
     "execution_count": 34,
     "metadata": {},
     "output_type": "execute_result"
    }
   ],
   "source": [
    " \n",
    "%%sql\n",
    "SELECT COUNT(*)FROM comments"
   ]
  },
  {
   "cell_type": "code",
   "execution_count": 35,
   "metadata": {
    "colab": {
     "base_uri": "https://localhost:8080/",
     "height": 96
    },
    "id": "xEds2mRKCLOt",
    "outputId": "24dc01df-740b-404a-9472-5c425a27938c"
   },
   "outputs": [
    {
     "name": "stdout",
     "output_type": "stream",
     "text": [
      " * sqlite:///chatdata.db\n",
      "Done.\n"
     ]
    },
    {
     "data": {
      "text/html": [
       "<table>\n",
       "    <thead>\n",
       "        <tr>\n",
       "            <th>COUNT(*)</th>\n",
       "        </tr>\n",
       "    </thead>\n",
       "    <tbody>\n",
       "        <tr>\n",
       "            <td>18412</td>\n",
       "        </tr>\n",
       "    </tbody>\n",
       "</table>"
      ],
      "text/plain": [
       "[(18412,)]"
      ]
     },
     "execution_count": 35,
     "metadata": {},
     "output_type": "execute_result"
    }
   ],
   "source": [
    " \n",
    "%%sql\n",
    "SELECT COUNT(*)FROM users"
   ]
  },
  {
   "cell_type": "code",
   "execution_count": 36,
   "metadata": {
    "colab": {
     "base_uri": "https://localhost:8080/",
     "height": 96
    },
    "id": "gfUjpbdGCLOu",
    "outputId": "64bf1dfb-3cf3-47bf-97f0-c38047a566f3"
   },
   "outputs": [
    {
     "name": "stdout",
     "output_type": "stream",
     "text": [
      " * sqlite:///chatdata.db\n",
      "Done.\n"
     ]
    },
    {
     "data": {
      "text/html": [
       "<table>\n",
       "    <thead>\n",
       "        <tr>\n",
       "            <th>COUNT(*)</th>\n",
       "        </tr>\n",
       "    </thead>\n",
       "    <tbody>\n",
       "        <tr>\n",
       "            <td>42234</td>\n",
       "        </tr>\n",
       "    </tbody>\n",
       "</table>"
      ],
      "text/plain": [
       "[(42234,)]"
      ]
     },
     "execution_count": 36,
     "metadata": {},
     "output_type": "execute_result"
    }
   ],
   "source": [
    " \n",
    "%%sql\n",
    "SELECT COUNT(*)FROM posts"
   ]
  },
  {
   "cell_type": "code",
   "execution_count": 54,
   "metadata": {
    "colab": {
     "base_uri": "https://localhost:8080/",
     "height": 1000
    },
    "id": "3dOf6CQ4CLOv",
    "outputId": "3a7cfc06-c63c-49bf-a670-b5aecdecd2fd"
   },
   "outputs": [
    {
     "name": "stdout",
     "output_type": "stream",
     "text": [
      " * sqlite:///chatdata.db\n",
      "Done.\n"
     ]
    },
    {
     "data": {
      "text/html": [
       "<table>\n",
       "    <thead>\n",
       "        <tr>\n",
       "            <th>Id</th>\n",
       "            <th>PostTypeId</th>\n",
       "            <th>AcceptedAnswerId</th>\n",
       "            <th>ParentId</th>\n",
       "            <th>CreationDate</th>\n",
       "            <th>Score</th>\n",
       "            <th>ViewCount</th>\n",
       "            <th>Body</th>\n",
       "            <th>OwnerUserId</th>\n",
       "            <th>OwnerDisplayName</th>\n",
       "            <th>LastEditorUserId</th>\n",
       "            <th>LastEditorDisplayName</th>\n",
       "            <th>LastEditDate</th>\n",
       "            <th>LastActivityDate</th>\n",
       "            <th>Title</th>\n",
       "            <th>Tags</th>\n",
       "            <th>AnswerCount</th>\n",
       "            <th>CommentCount</th>\n",
       "            <th>FavoriteCount</th>\n",
       "            <th>ClosedDate</th>\n",
       "            <th>CommunityOwnedDate</th>\n",
       "        </tr>\n",
       "    </thead>\n",
       "    <tbody>\n",
       "        <tr>\n",
       "            <td>415682</td>\n",
       "            <td>2</td>\n",
       "            <td>0</td>\n",
       "            <td>415658</td>\n",
       "            <td>2019-07-02 11:04:22</td>\n",
       "            <td>6</td>\n",
       "            <td>0</td>\n",
       "            <td>&lt;p&gt;Neither &quot;classification&quot; accuracy nor the &lt;span class=&quot;math-container&quot;&gt;$c$&lt;/span&gt;-index (concordance probability; AUROC) are proper accuracy scoring rules.  &quot;Accuracy&quot; should be avoided at all costs, but the concordance probability is still a useful measure of pure predictive discrimination (separation of fraud and non-fraud on the basis of predicted probability of fraud).  Concordance is the probability that of two chosen observations, one fraud and one non-fraud, the fraud is the one with a higher predicted probability.  You can see how this will work fine even with extreme imbalance.&lt;/p&gt;<br><br>&lt;p&gt;There are other measures to use that are more sensitive and statistically efficient.  See for example &lt;a href=&quot;http://fharrell.com/post/addvalue&quot; rel=&quot;noreferrer&quot;&gt;http://fharrell.com/post/addvalue&lt;/a&gt; .&lt;/p&gt;<br></td>\n",
       "            <td>4253</td>\n",
       "            <td>None</td>\n",
       "            <td>0</td>\n",
       "            <td>None</td>\n",
       "            <td>None</td>\n",
       "            <td>2019-07-02 11:04:22</td>\n",
       "            <td>None</td>\n",
       "            <td>None</td>\n",
       "            <td>0</td>\n",
       "            <td>0</td>\n",
       "            <td>0</td>\n",
       "            <td>None</td>\n",
       "            <td>None</td>\n",
       "        </tr>\n",
       "        <tr>\n",
       "            <td>401162</td>\n",
       "            <td>2</td>\n",
       "            <td>0</td>\n",
       "            <td>395996</td>\n",
       "            <td>2019-04-04 11:08:42</td>\n",
       "            <td>2</td>\n",
       "            <td>0</td>\n",
       "            <td>&lt;p&gt;Maximum entropy principle helps you find the distribution with the highest entropy (most uncertainty, least biased) among all distributions that match first n sample moments. As you mentioned, the maximum entropy distribution for &lt;span class=&quot;math-container&quot;&gt;$n=2$&lt;/span&gt; is a Gaussian distribution. For  general case, such distribution is derived using first order optimality conditions of the corresponding optimization problem and is formulated as follows <br>&lt;span class=&quot;math-container&quot;&gt;\\begin{align}<br>f(x) = \\int \\exp(-\\sum_{j=0}^n \\lambda_jx^j) \\, dx\\\\<br>\\text{s.t.}  \\int x^i \\exp(-\\sum_{j=0}^k \\lambda_jx^j)\\, dx = m_i, \\forall i\\in \\{0,\\dots,n\\}  [*]<br>\\end{align}&lt;/span&gt;<br>where [*] are the moment constraints and &lt;span class=&quot;math-container&quot;&gt;$m_i$&lt;/span&gt; are the sample moments with &lt;span class=&quot;math-container&quot;&gt;$m_0=1$&lt;/span&gt;. &lt;/p&gt;<br><br>&lt;p&gt;So Lagrange Multipliers &lt;span class=&quot;math-container&quot;&gt;$\\lambda \\in \\mathcal{R}^{k+1}$&lt;/span&gt; are unknown parameters of the distribution. One way to find them is to switch to dual formulation and maximize the scaled log-likelihood function based on Gibbs distribution&lt;/p&gt;<br><br>&lt;p&gt;&lt;span class=&quot;math-container&quot;&gt;\\begin{align}<br>-\\big( \\ln  \\int \\exp(-\\sum_{j=1}^n \\lambda_jx^j) \\, dx + \\sum_{i=1}^n m_i\\lambda_i \\big) \\rightarrow \\text{max}_{\\lambda}<br>\\end{align}&lt;/span&gt;&lt;/p&gt;<br><br>&lt;p&gt;The problem is concave so you can use gradient-based methods to solve this maximization problem.&lt;/p&gt;<br><br>&lt;p&gt;You can find more details in the paper of Mead and Papanicolaou &quot;Maximum entropy in the problem of moments&quot;.&lt;/p&gt;<br></td>\n",
       "            <td>221502</td>\n",
       "            <td>None</td>\n",
       "            <td>0</td>\n",
       "            <td>None</td>\n",
       "            <td>None</td>\n",
       "            <td>2019-04-04 11:08:42</td>\n",
       "            <td>None</td>\n",
       "            <td>None</td>\n",
       "            <td>0</td>\n",
       "            <td>0</td>\n",
       "            <td>0</td>\n",
       "            <td>None</td>\n",
       "            <td>None</td>\n",
       "        </tr>\n",
       "        <tr>\n",
       "            <td>403069</td>\n",
       "            <td>1</td>\n",
       "            <td>0</td>\n",
       "            <td>0</td>\n",
       "            <td>2019-04-15 01:06:49</td>\n",
       "            <td>0</td>\n",
       "            <td>86</td>\n",
       "            <td>&lt;p&gt;Let &lt;span class=&quot;math-container&quot;&gt;$p$&lt;/span&gt; and &lt;span class=&quot;math-container&quot;&gt;$q$&lt;/span&gt; be the distributions of random variables &lt;span class=&quot;math-container&quot;&gt;$x_1$&lt;/span&gt; and &lt;span class=&quot;math-container&quot;&gt;$x_2$&lt;/span&gt;, and consider &lt;span class=&quot;math-container&quot;&gt;$p&#x27;$&lt;/span&gt; and &lt;span class=&quot;math-container&quot;&gt;$q&#x27;$&lt;/span&gt; to be the distributions of &lt;span class=&quot;math-container&quot;&gt;$g(x_1)$&lt;/span&gt; and &lt;span class=&quot;math-container&quot;&gt;$g(x_2)$&lt;/span&gt;. &lt;/p&gt;<br><br>&lt;p&gt;For an invertible function &lt;span class=&quot;math-container&quot;&gt;$g$&lt;/span&gt;, it&#x27;s true that &lt;/p&gt;<br><br>&lt;p&gt;&lt;span class=&quot;math-container&quot;&gt;$$D_{KL}(p||q) = D_{KL}(p&#x27;||q&#x27;)$$&lt;/span&gt;&lt;/p&gt;<br><br>&lt;p&gt;But suppose &lt;span class=&quot;math-container&quot;&gt;$g$&lt;/span&gt; is not invertible. Then we have the weaker constraint&lt;/p&gt;<br><br>&lt;p&gt;&lt;span class=&quot;math-container&quot;&gt;$$D_{KL}(p||q) \\geq D_{KL}(p&#x27;||q&#x27;)$$&lt;/span&gt;&lt;/p&gt;<br><br>&lt;p&gt;For &lt;span class=&quot;math-container&quot;&gt;$g(x) = 0$&lt;/span&gt;, the RHS is 0. Are there any constraints weaker than invertibility that we can put on &lt;span class=&quot;math-container&quot;&gt;$g$&lt;/span&gt; in order to bound how loose the inequality is? &lt;/p&gt;<br><br>&lt;p&gt;I&#x27;m primarily interested in continuous random variables, although I guess any bounds on discrete variables would also be interesting.&lt;/p&gt;<br><br>&lt;p&gt;Intuitively, the reason why the inequality points in that direction is that parts of &lt;span class=&quot;math-container&quot;&gt;$p$&lt;/span&gt; to which &lt;span class=&quot;math-container&quot;&gt;$q$&lt;/span&gt; assigned low probability may be &quot;folded&quot; into the same region as parts of &lt;span class=&quot;math-container&quot;&gt;$p$&lt;/span&gt; to which &lt;span class=&quot;math-container&quot;&gt;$q$&lt;/span&gt; assigned high probability -- maybe it&#x27;s possible to add a constraint on the amount of &quot;folding&quot; that happens.&lt;/p&gt;<br><br>&lt;hr&gt;<br><br>&lt;p&gt;For some motivation, there is a paper on reparameterizing the space of permutation matrices to be differentiable. This is done by transforming a bunch of Gumbel noise using the (non-invertible) Sinkhorn operator. The KL of the transformed result can&#x27;t be easily computed, so the authors take the KL of the gumbel noise, and use it to lower bound the ELBO. &lt;/p&gt;<br><br>&lt;hr&gt;<br><br>&lt;p&gt;To make the question more limited, we could say &lt;span class=&quot;math-container&quot;&gt;$p$&lt;/span&gt; and &lt;span class=&quot;math-container&quot;&gt;$q$&lt;/span&gt; have full support over &lt;span class=&quot;math-container&quot;&gt;$\\mathbb{R}$&lt;/span&gt; and are infinitely differentiable. I&#x27;m not sure how to constrain &lt;span class=&quot;math-container&quot;&gt;$g$&lt;/span&gt; to make the problem feasible, but here&#x27;s one guess at a starting point (i&#x27;m open to strengthening or weakening the definition of niceness to get some interesting results):&lt;/p&gt;<br><br>&lt;p&gt;Let&#x27;s say &lt;span class=&quot;math-container&quot;&gt;$g$&lt;/span&gt; is &lt;span class=&quot;math-container&quot;&gt;$c$&lt;/span&gt;-nice w.r.t &lt;span class=&quot;math-container&quot;&gt;$x \\sim p$&lt;/span&gt; if &lt;span class=&quot;math-container&quot;&gt;$$\\max_{g^{-1}} D_{KL}(x || g^{-1} g(x)) \\leq c$$&lt;/span&gt; where &lt;span class=&quot;math-container&quot;&gt;$g^{-1}$&lt;/span&gt; is a right inverse of &lt;span class=&quot;math-container&quot;&gt;$g$&lt;/span&gt;: &lt;span class=&quot;math-container&quot;&gt;$g \\circ g^{-1} = \\text{Id}$&lt;/span&gt;. I&#x27;m not sure on whether the divergence should go this way or the other way around yet. If both &lt;span class=&quot;math-container&quot;&gt;$g$&lt;/span&gt; is &lt;span class=&quot;math-container&quot;&gt;$c$&lt;/span&gt;-nice wrt &lt;span class=&quot;math-container&quot;&gt;$p$&lt;/span&gt; and &lt;span class=&quot;math-container&quot;&gt;$q$&lt;/span&gt;, can we get a bound? Or maybe just &lt;span class=&quot;math-container&quot;&gt;$q$&lt;/span&gt; being &lt;span class=&quot;math-container&quot;&gt;$c$&lt;/span&gt;-nice is enough?&lt;/p&gt;<br><br>&lt;p&gt;Intuitively, if &lt;span class=&quot;math-container&quot;&gt;$p$&lt;/span&gt; is uniform -1 to 1 and &lt;span class=&quot;math-container&quot;&gt;$q$&lt;/span&gt; is uniform 0 to 1, then &lt;span class=&quot;math-container&quot;&gt;$g = \\text{abs}$&lt;/span&gt; would have been a problem, bringing the KL from infinity to 0. However if say &lt;span class=&quot;math-container&quot;&gt;$g$&lt;/span&gt; must be &lt;span class=&quot;math-container&quot;&gt;$c$&lt;/span&gt;-nice, then such a &lt;span class=&quot;math-container&quot;&gt;$g$&lt;/span&gt; is no longer allowed, because &lt;span class=&quot;math-container&quot;&gt;$g^{-1}(y) = -y$&lt;/span&gt; would mean &lt;span class=&quot;math-container&quot;&gt;$g$&lt;/span&gt; is no longer nice wrt &lt;span class=&quot;math-container&quot;&gt;$q$&lt;/span&gt;.&lt;/p&gt;<br></td>\n",
       "            <td>26948</td>\n",
       "            <td>None</td>\n",
       "            <td>26948</td>\n",
       "            <td>None</td>\n",
       "            <td>2019-04-15 18:59:04</td>\n",
       "            <td>2019-04-15 18:59:04</td>\n",
       "            <td>Bounding the KL divergence of a non-invertible transform of distributions</td>\n",
       "            <td>&lt;distributions&gt;&lt;kullback-leibler&gt;</td>\n",
       "            <td>0</td>\n",
       "            <td>2</td>\n",
       "            <td>0</td>\n",
       "            <td>None</td>\n",
       "            <td>None</td>\n",
       "        </tr>\n",
       "        <tr>\n",
       "            <td>403994</td>\n",
       "            <td>1</td>\n",
       "            <td>0</td>\n",
       "            <td>0</td>\n",
       "            <td>2019-04-19 17:02:32</td>\n",
       "            <td>1</td>\n",
       "            <td>18</td>\n",
       "            <td>&lt;p&gt;So I&#x27;ve got this database that had people rank how much the like very light red, light red, red, dark red and very dark red cars (scale 0-10). My professor says that because it is an 11-point numerical scale we can treat the data as continuous. &lt;/p&gt;<br><br>&lt;p&gt;Which test should I use in stata to determine whether people like lighter red cars better than darker red cars?&lt;/p&gt;<br><br>&lt;p&gt;Thanks!&lt;/p&gt;<br></td>\n",
       "            <td>245337</td>\n",
       "            <td>None</td>\n",
       "            <td>0</td>\n",
       "            <td>None</td>\n",
       "            <td>None</td>\n",
       "            <td>2019-04-19 17:16:01</td>\n",
       "            <td>Which statistical analysis to use? Stata</td>\n",
       "            <td>&lt;anova&gt;&lt;analysis&gt;</td>\n",
       "            <td>0</td>\n",
       "            <td>2</td>\n",
       "            <td>0</td>\n",
       "            <td>None</td>\n",
       "            <td>None</td>\n",
       "        </tr>\n",
       "        <tr>\n",
       "            <td>391154</td>\n",
       "            <td>1</td>\n",
       "            <td>391299</td>\n",
       "            <td>0</td>\n",
       "            <td>2019-02-06 21:19:46</td>\n",
       "            <td>4</td>\n",
       "            <td>439</td>\n",
       "            <td>&lt;p&gt;I have one question that is related to variational autoencoders: can they be used as a denosing algorithm in the same way as standard denosing autoencoders?&lt;/p&gt;<br><br>&lt;p&gt;I generally see people removing the encoder part of the VAE and use the rest as a generator of data, but I was wondering if I could still use the encoder-decoder combination (trained with noisy examples in input and clean in output) to generate a denosing algorithm.&lt;/p&gt;<br><br>&lt;p&gt;One question that comes to my mind is if the stochasticity of the VAE would prevent me from building a good denoiser.&lt;/p&gt;<br></td>\n",
       "            <td>102244</td>\n",
       "            <td>None</td>\n",
       "            <td>35989</td>\n",
       "            <td>None</td>\n",
       "            <td>2019-02-07 14:16:29</td>\n",
       "            <td>2019-02-07 14:29:34</td>\n",
       "            <td>Removing noise with Variational Autoencoders</td>\n",
       "            <td>&lt;machine-learning&gt;&lt;deep-learning&gt;&lt;autoencoders&gt;</td>\n",
       "            <td>1</td>\n",
       "            <td>0</td>\n",
       "            <td>0</td>\n",
       "            <td>None</td>\n",
       "            <td>None</td>\n",
       "        </tr>\n",
       "    </tbody>\n",
       "</table>"
      ],
      "text/plain": [
       "[(415682, 2, 0, 415658, '2019-07-02 11:04:22', 6, 0, '<p>Neither \"classification\" accuracy nor the <span class=\"math-container\">$c$</span>-index (concordance probability; AUROC) are proper accuracy scori ... (517 characters truncated) ...  statistically efficient.  See for example <a href=\"http://fharrell.com/post/addvalue\" rel=\"noreferrer\">http://fharrell.com/post/addvalue</a> .</p>\\n', 4253, None, 0, None, None, '2019-07-02 11:04:22', None, None, 0, 0, 0, None, None),\n",
       " (401162, 2, 0, 395996, '2019-04-04 11:08:42', 2, 0, '<p>Maximum entropy principle helps you find the distribution with the highest entropy (most uncertainty, least biased) among all distributions that m ... (1283 characters truncated) ... is maximization problem.</p>\\n\\n<p>You can find more details in the paper of Mead and Papanicolaou \"Maximum entropy in the problem of moments\".</p>\\n', 221502, None, 0, None, None, '2019-04-04 11:08:42', None, None, 0, 0, 0, None, None),\n",
       " (403069, 1, 0, 0, '2019-04-15 01:06:49', 0, 86, '<p>Let <span class=\"math-container\">$p$</span> and <span class=\"math-container\">$q$</span> be the distributions of random variables <span class=\"math ... (3721 characters truncated) ... iner\">$g^{-1}(y) = -y$</span> would mean <span class=\"math-container\">$g$</span> is no longer nice wrt <span class=\"math-container\">$q$</span>.</p>\\n', 26948, None, 26948, None, '2019-04-15 18:59:04', '2019-04-15 18:59:04', 'Bounding the KL divergence of a non-invertible transform of distributions', '<distributions><kullback-leibler>', 0, 2, 0, None, None),\n",
       " (403994, 1, 0, 0, '2019-04-19 17:02:32', 1, 18, \"<p>So I've got this database that had people rank how much the like very light red, light red, red, dark red and very dark red cars (scale 0-10). My  ... (96 characters truncated) ... s. </p>\\n\\n<p>Which test should I use in stata to determine whether people like lighter red cars better than darker red cars?</p>\\n\\n<p>Thanks!</p>\\n\", 245337, None, 0, None, None, '2019-04-19 17:16:01', 'Which statistical analysis to use? Stata', '<anova><analysis>', 0, 2, 0, None, None),\n",
       " (391154, 1, 391299, 0, '2019-02-06 21:19:46', 4, 439, '<p>I have one question that is related to variational autoencoders: can they be used as a denosing algorithm in the same way as standard denosing aut ... (272 characters truncated) ... sing algorithm.</p>\\n\\n<p>One question that comes to my mind is if the stochasticity of the VAE would prevent me from building a good denoiser.</p>\\n', 102244, None, 35989, None, '2019-02-07 14:16:29', '2019-02-07 14:29:34', 'Removing noise with Variational Autoencoders', '<machine-learning><deep-learning><autoencoders>', 1, 0, 0, None, None)]"
      ]
     },
     "execution_count": 54,
     "metadata": {},
     "output_type": "execute_result"
    }
   ],
   "source": [
    " \n",
    "%%sql\n",
    "SELECT * from posts \n",
    "  order by random()\n",
    "  limit 5"
   ]
  },
  {
   "cell_type": "code",
   "execution_count": 55,
   "metadata": {
    "colab": {
     "base_uri": "https://localhost:8080/",
     "height": 1000
    },
    "id": "VJTGFsG3CLOw",
    "outputId": "71108a7e-0226-4c9a-c48b-0c4472bd9436"
   },
   "outputs": [
    {
     "name": "stdout",
     "output_type": "stream",
     "text": [
      " * sqlite:///chatdata.db\n",
      "Done.\n"
     ]
    },
    {
     "data": {
      "text/html": [
       "<table>\n",
       "    <thead>\n",
       "        <tr>\n",
       "            <th>Id</th>\n",
       "            <th>PostId</th>\n",
       "            <th>Score</th>\n",
       "            <th>Text</th>\n",
       "            <th>CreationDate</th>\n",
       "            <th>UserId</th>\n",
       "        </tr>\n",
       "    </thead>\n",
       "    <tbody>\n",
       "        <tr>\n",
       "            <td>769064</td>\n",
       "            <td>411828</td>\n",
       "            <td>1</td>\n",
       "            <td>Even though AIC and BIC are very similar, the only difference being the magnitude of penalization, the conceptual underpinnings are very different. AIC is not influenced by any Bayesian theory at all. After reading the Schwartz 1975 paper, Akaike also created the Akaike Bayesian Information Criterion (ABIC). For a better explanation of BIC, look at this paper, page 5, section 6: http://www-math.mit.edu/~rmd/650/bic.pdf.</td>\n",
       "            <td>2019-06-06 19:16:35</td>\n",
       "            <td>250056</td>\n",
       "        </tr>\n",
       "        <tr>\n",
       "            <td>769712</td>\n",
       "            <td>412228</td>\n",
       "            <td>0</td>\n",
       "            <td>When, 0 &lt; {wa1, wa2, wb1, wb2}  &lt; 1 ,<br><br>wa = [ wa1 wa2];    % where wa1+wa2 = 1;<br><br>wb = [ wb1 wb2];     % where  wb1+wb2 = 1;<br><br> <br><br>wp = wa.*wb;   % i.e., wp = [wa1*wb1 wa2*wb2];<br><br>wp1 = wp(1);<br><br>wp2 = wp(2);<br><br> <br><br>w1 = wp1/sum(wp);<br><br>w2 = wp2/sum(wp);<br><br> <br><br>w = [w1 w2];    % i.e.,  w1+w2 = 1<br><br> <br><br> <br><br>wp_mm = [min(wa1,wb1) min(wa2,wb2)];<br><br> <br><br>wp1_mm = wp_mm(1);<br><br>wp2_mm = wp_mm(2);<br><br> <br><br>w1_mm = wp1_mm/sum(wp_mm);<br><br>w2_mm = wp2_mm/sum(wp_mm);<br><br> <br><br>w_mm = [w1_mm w2_mm];  % i.e., w1_mm+w2_mm = 1<br><br> <br><br>Above is satisfied, prove the below.<br><br>var(w) &gt; = var(w_mm)</td>\n",
       "            <td>2019-06-09 21:42:41</td>\n",
       "            <td>250417</td>\n",
       "        </tr>\n",
       "        <tr>\n",
       "            <td>773454</td>\n",
       "            <td>414398</td>\n",
       "            <td>0</td>\n",
       "            <td>Should the data be transformed or normalized before deciles are calculated?</td>\n",
       "            <td>2019-06-24 06:43:07</td>\n",
       "            <td>75070</td>\n",
       "        </tr>\n",
       "        <tr>\n",
       "            <td>734537</td>\n",
       "            <td>391145</td>\n",
       "            <td>0</td>\n",
       "            <td>Have a look at this answer https://math.stackexchange.com/a/102683/620244</td>\n",
       "            <td>2019-02-07 01:42:28</td>\n",
       "            <td>32477</td>\n",
       "        </tr>\n",
       "        <tr>\n",
       "            <td>727857</td>\n",
       "            <td>387513</td>\n",
       "            <td>0</td>\n",
       "            <td>@VincentGuillemot my question is to find $x^*$ which is $argmin_x f(x)$. The post you sent me is about $min f(x)$</td>\n",
       "            <td>2019-01-16 12:05:06</td>\n",
       "            <td>172131</td>\n",
       "        </tr>\n",
       "    </tbody>\n",
       "</table>"
      ],
      "text/plain": [
       "[(769064, 411828, 1, 'Even though AIC and BIC are very similar, the only difference being the magnitude of penalization, the conceptual underpinnings are very different. A ... (125 characters truncated) ... esian Information Criterion (ABIC). For a better explanation of BIC, look at this paper, page 5, section 6: http://www-math.mit.edu/~rmd/650/bic.pdf.', '2019-06-06 19:16:35', 250056),\n",
       " (769712, 412228, 0, 'When, 0 < {wa1, wa2, wb1, wb2}  < 1 ,\\n\\nwa = [ wa1 wa2];    % where wa1+wa2 = 1;\\n\\nwb = [ wb1 wb2];     % where  wb1+wb2 = 1;\\n\\n \\n\\nwp = wa.*wb;  ... (294 characters truncated) ... 2_mm = wp2_mm/sum(wp_mm);\\n\\n \\n\\nw_mm = [w1_mm w2_mm];  % i.e., w1_mm+w2_mm = 1\\n\\n \\n\\nAbove is satisfied, prove the below.\\n\\nvar(w) > = var(w_mm)', '2019-06-09 21:42:41', 250417),\n",
       " (773454, 414398, 0, 'Should the data be transformed or normalized before deciles are calculated?', '2019-06-24 06:43:07', 75070),\n",
       " (734537, 391145, 0, 'Have a look at this answer https://math.stackexchange.com/a/102683/620244', '2019-02-07 01:42:28', 32477),\n",
       " (727857, 387513, 0, '@VincentGuillemot my question is to find $x^*$ which is $argmin_x f(x)$. The post you sent me is about $min f(x)$', '2019-01-16 12:05:06', 172131)]"
      ]
     },
     "execution_count": 55,
     "metadata": {},
     "output_type": "execute_result"
    }
   ],
   "source": [
    " \n",
    "%%sql\n",
    "SELECT * from comments \n",
    "  order by random()\n",
    "  limit 5"
   ]
  },
  {
   "cell_type": "code",
   "execution_count": 56,
   "metadata": {
    "colab": {
     "base_uri": "https://localhost:8080/",
     "height": 514
    },
    "id": "m766HQzoCLOx",
    "outputId": "f349aa49-8c5b-499c-d184-e26da034f93a"
   },
   "outputs": [
    {
     "name": "stdout",
     "output_type": "stream",
     "text": [
      " * sqlite:///chatdata.db\n",
      "Done.\n"
     ]
    },
    {
     "data": {
      "text/html": [
       "<table>\n",
       "    <thead>\n",
       "        <tr>\n",
       "            <th>Id</th>\n",
       "            <th>Reputation</th>\n",
       "            <th>CreationDate</th>\n",
       "            <th>DisplayName</th>\n",
       "            <th>LastAccessDate</th>\n",
       "            <th>WebsiteUrl</th>\n",
       "            <th>Location</th>\n",
       "            <th>AboutMe</th>\n",
       "            <th>Views</th>\n",
       "            <th>UpVotes</th>\n",
       "            <th>DownVotes</th>\n",
       "            <th>ProfileImageUrl</th>\n",
       "            <th>AccountId</th>\n",
       "        </tr>\n",
       "    </thead>\n",
       "    <tbody>\n",
       "        <tr>\n",
       "            <td>96825</td>\n",
       "            <td>133</td>\n",
       "            <td>2015-12-02 00:37:14</td>\n",
       "            <td>Albert Chen</td>\n",
       "            <td>2019-11-27 13:16:03</td>\n",
       "            <td>None</td>\n",
       "            <td>Boston, MA</td>\n",
       "            <td>&lt;p&gt;I&#x27;m interested in:<br>C,<br>C++,<br>JAVA,<br>Computer Algorithms,<br>Android Development,<br>Embedded System,<br>Compressed sensing,<br>Real Analysis,<br>Complex analysis,<br>Linear Algebra,<br>Abstract Algebra,<br>Group Theory,<br>Graph Theory&lt;/p&gt;<br></td>\n",
       "            <td>14</td>\n",
       "            <td>88</td>\n",
       "            <td>0</td>\n",
       "            <td>https://i.stack.imgur.com/yBjWR.jpg?s=128&amp;g=1</td>\n",
       "            <td>3787929</td>\n",
       "        </tr>\n",
       "        <tr>\n",
       "            <td>235088</td>\n",
       "            <td>11</td>\n",
       "            <td>2019-01-23 15:44:12</td>\n",
       "            <td>M-H Yang</td>\n",
       "            <td>2019-05-31 09:27:03</td>\n",
       "            <td>None</td>\n",
       "            <td>None</td>\n",
       "            <td>None</td>\n",
       "            <td>0</td>\n",
       "            <td>0</td>\n",
       "            <td>0</td>\n",
       "            <td>https://lh5.googleusercontent.com/-hvE5BBTaBSw/AAAAAAAAAAI/AAAAAAAAAAA/AKxrwcaZDdh9qX4jBfxCt6xS8V1GvSqYOg/mo/photo.jpg?sz=128</td>\n",
       "            <td>15073456</td>\n",
       "        </tr>\n",
       "        <tr>\n",
       "            <td>235470</td>\n",
       "            <td>1</td>\n",
       "            <td>2019-01-26 21:26:06</td>\n",
       "            <td>xzt</td>\n",
       "            <td>2019-08-20 02:23:52</td>\n",
       "            <td>None</td>\n",
       "            <td>None</td>\n",
       "            <td>None</td>\n",
       "            <td>0</td>\n",
       "            <td>0</td>\n",
       "            <td>0</td>\n",
       "            <td>https://www.gravatar.com/avatar/539d7e82786e82d3482b1e4a6b5e52bd?s=128&amp;d=identicon&amp;r=PG&amp;f=1</td>\n",
       "            <td>8494149</td>\n",
       "        </tr>\n",
       "        <tr>\n",
       "            <td>3162</td>\n",
       "            <td>492</td>\n",
       "            <td>2011-02-11 21:16:21</td>\n",
       "            <td>eipi10</td>\n",
       "            <td>2019-11-22 22:29:58</td>\n",
       "            <td>None</td>\n",
       "            <td>California</td>\n",
       "            <td>&lt;p&gt;Contact: eipi10jms@gmail.com&lt;/p&gt;<br></td>\n",
       "            <td>46</td>\n",
       "            <td>519</td>\n",
       "            <td>0</td>\n",
       "            <td>https://i.stack.imgur.com/xnGDw.jpg</td>\n",
       "            <td>231966</td>\n",
       "        </tr>\n",
       "        <tr>\n",
       "            <td>263625</td>\n",
       "            <td>21</td>\n",
       "            <td>2019-10-24 15:15:16</td>\n",
       "            <td>hp257</td>\n",
       "            <td>2019-11-06 16:59:46</td>\n",
       "            <td>None</td>\n",
       "            <td>None</td>\n",
       "            <td>None</td>\n",
       "            <td>0</td>\n",
       "            <td>0</td>\n",
       "            <td>0</td>\n",
       "            <td>https://www.gravatar.com/avatar/3660f7d6992b881d9f3db9c7b99e2472?s=128&amp;d=identicon&amp;r=PG&amp;f=1</td>\n",
       "            <td>16962879</td>\n",
       "        </tr>\n",
       "    </tbody>\n",
       "</table>"
      ],
      "text/plain": [
       "[(96825, 133, '2015-12-02 00:37:14', 'Albert Chen', '2019-11-27 13:16:03', None, 'Boston, MA', \"<p>I'm interested in:\\nC,\\nC++,\\nJAVA,\\nComputer Algorithms,\\nAndroid Development,\\nEmbedded System,\\nCompressed sensing,\\nReal Analysis,\\nComplex analysis,\\nLinear Algebra,\\nAbstract Algebra,\\nGroup Theory,\\nGraph Theory</p>\\n\", 14, 88, 0, 'https://i.stack.imgur.com/yBjWR.jpg?s=128&g=1', 3787929),\n",
       " (235088, 11, '2019-01-23 15:44:12', 'M-H Yang', '2019-05-31 09:27:03', None, None, None, 0, 0, 0, 'https://lh5.googleusercontent.com/-hvE5BBTaBSw/AAAAAAAAAAI/AAAAAAAAAAA/AKxrwcaZDdh9qX4jBfxCt6xS8V1GvSqYOg/mo/photo.jpg?sz=128', 15073456),\n",
       " (235470, 1, '2019-01-26 21:26:06', 'xzt', '2019-08-20 02:23:52', None, None, None, 0, 0, 0, 'https://www.gravatar.com/avatar/539d7e82786e82d3482b1e4a6b5e52bd?s=128&d=identicon&r=PG&f=1', 8494149),\n",
       " (3162, 492, '2011-02-11 21:16:21', 'eipi10', '2019-11-22 22:29:58', None, 'California', '<p>Contact: eipi10jms@gmail.com</p>\\n', 46, 519, 0, 'https://i.stack.imgur.com/xnGDw.jpg', 231966),\n",
       " (263625, 21, '2019-10-24 15:15:16', 'hp257', '2019-11-06 16:59:46', None, None, None, 0, 0, 0, 'https://www.gravatar.com/avatar/3660f7d6992b881d9f3db9c7b99e2472?s=128&d=identicon&r=PG&f=1', 16962879)]"
      ]
     },
     "execution_count": 56,
     "metadata": {},
     "output_type": "execute_result"
    }
   ],
   "source": [
    "# Run the query to select 5 random rows from the users table\n",
    "# TODO\n",
    "%%sql\n",
    "select * from users\n",
    "  order by random()\n",
    "  limit 5"
   ]
  },
  {
   "cell_type": "code",
   "execution_count": 37,
   "metadata": {
    "colab": {
     "base_uri": "https://localhost:8080/"
    },
    "id": "IP3C8Q4MCLOy",
    "outputId": "a9868802-c541-4466-b213-9a119d2880bb"
   },
   "outputs": [
    {
     "name": "stdout",
     "output_type": "stream",
     "text": [
      " * sqlite:///chatdata.db\n",
      "Done.\n"
     ]
    },
    {
     "data": {
      "text/plain": [
       "[]"
      ]
     },
     "execution_count": 37,
     "metadata": {},
     "output_type": "execute_result"
    }
   ],
   "source": [
    "%%sql\n",
    "ALTER TABLE POSTS ADD COLUMN LEN_BODY INT"
   ]
  },
  {
   "cell_type": "code",
   "execution_count": 38,
   "metadata": {
    "colab": {
     "base_uri": "https://localhost:8080/"
    },
    "id": "be7aSVJaCLO0",
    "outputId": "ff645801-8aec-410b-f18c-4c46ae806def"
   },
   "outputs": [
    {
     "name": "stdout",
     "output_type": "stream",
     "text": [
      " * sqlite:///chatdata.db\n",
      "42234 rows affected.\n"
     ]
    },
    {
     "data": {
      "text/plain": [
       "[]"
      ]
     },
     "execution_count": 38,
     "metadata": {},
     "output_type": "execute_result"
    }
   ],
   "source": [
    "%%sql\n",
    "UPDATE POSTS SET LEN_BODY = LENGTH(BODY)"
   ]
  },
  {
   "cell_type": "markdown",
   "metadata": {
    "id": "Oxwy96u2zKD9"
   },
   "source": [
    "**How many posts have 0 comments?**"
   ]
  },
  {
   "cell_type": "code",
   "execution_count": 39,
   "metadata": {
    "colab": {
     "base_uri": "https://localhost:8080/",
     "height": 96
    },
    "id": "Vx4ZOnk81Yfk",
    "outputId": "9e96e703-f4b1-4923-9c2c-e5eb84f80325"
   },
   "outputs": [
    {
     "name": "stdout",
     "output_type": "stream",
     "text": [
      " * sqlite:///chatdata.db\n",
      "Done.\n"
     ]
    },
    {
     "data": {
      "text/html": [
       "<table>\n",
       "    <thead>\n",
       "        <tr>\n",
       "            <th>count(*)</th>\n",
       "        </tr>\n",
       "    </thead>\n",
       "    <tbody>\n",
       "        <tr>\n",
       "            <td>21713</td>\n",
       "        </tr>\n",
       "    </tbody>\n",
       "</table>"
      ],
      "text/plain": [
       "[(21713,)]"
      ]
     },
     "execution_count": 39,
     "metadata": {},
     "output_type": "execute_result"
    }
   ],
   "source": [
    "%%sql\n",
    "select count(*) from posts\n",
    "where CommentCount=0"
   ]
  },
  {
   "cell_type": "code",
   "execution_count": 40,
   "metadata": {
    "id": "fUYideeACLO1"
   },
   "outputs": [],
   "source": [
    "sql=\"\"\"\n",
    "select count(*) from posts\n",
    "where CommentCount==0\n",
    "\"\"\"\n",
    "store_query(\"Task 2\",\"How many posts have 0 comments?\",sql)"
   ]
  },
  {
   "cell_type": "code",
   "execution_count": 64,
   "metadata": {
    "colab": {
     "base_uri": "https://localhost:8080/",
     "height": 1000
    },
    "id": "gLwhJeWV0KxW",
    "outputId": "ee811302-ef05-46ab-907c-37c52e4f255a"
   },
   "outputs": [
    {
     "name": "stdout",
     "output_type": "stream",
     "text": [
      " * sqlite:///chatdata.db\n",
      "Done.\n"
     ]
    },
    {
     "data": {
      "text/html": [
       "<table>\n",
       "    <thead>\n",
       "        <tr>\n",
       "            <th>task</th>\n",
       "            <th>action</th>\n",
       "            <th>query</th>\n",
       "        </tr>\n",
       "    </thead>\n",
       "    <tbody>\n",
       "        <tr>\n",
       "            <td>Single Table Queries</td>\n",
       "            <td>Which 5 users have viewed the most times and what is the sum of those views per user?</td>\n",
       "            <td><br>SELECT Id, SUM(Views) AS TotalViews<br>    FROM Users<br>        GROUP BY Id<br>            ORDER BY TotalViews DESC<br>                LIMIT 5<br>                </td>\n",
       "        </tr>\n",
       "        <tr>\n",
       "            <td>Task 1</td>\n",
       "            <td>Create table comments</td>\n",
       "            <td><br>    CREATE TABLE &quot;comments&quot; (<br>    &quot;Id&quot; INTEGER,<br>    &quot;PostId&quot; INTEGER,<br>    &quot;Score&quot; INTEGER,<br>    &quot;Text&quot; TEXT,<br>    &quot;CreationDate&quot; TEXT,<br>    &quot;UserId&quot; INTEGER<br>    )<br>    </td>\n",
       "        </tr>\n",
       "        <tr>\n",
       "            <td>Task 1</td>\n",
       "            <td>Create Table Posts</td>\n",
       "            <td><br>  CREATE TABLE &quot;posts&quot; (<br>&quot;Id&quot; INTEGER NOT NULL PRIMARY KEY,<br>&quot;PostTypeId&quot; INTEGER,<br>&quot;AcceptedAnswerId&quot; INTEGER,<br>&quot;ParentId&quot; INTEGER,<br>&quot;CreationDate&quot; TEXT,<br>&quot;Score&quot; INTEGER,<br>&quot;ViewCount&quot; INTEGER,<br>&quot;Body&quot; TEXT,<br>&quot;OwnerUserId&quot; INTEGER,<br>&quot;OwnerDisplayName&quot; TEXT,<br>&quot;LastEditorUserId&quot; INTEGER,<br>&quot;LastEditorDisplayName&quot; TEXT,<br>&quot;LastEditDate&quot; TEXT,<br>&quot;LastActivityDate&quot; TEXT,<br>&quot;Title&quot; TEXT,<br>&quot;Tags&quot; TEXT,<br>&quot;AnswerCount&quot; INTEGER,<br>&quot;CommentCount&quot; INTEGER,<br>&quot;FavoriteCount&quot; INTEGER,<br>&quot;ClosedDate&quot; TEXT,<br>&quot;CommunityOwnedDate&quot; TEXT<br>)<br></td>\n",
       "        </tr>\n",
       "        <tr>\n",
       "            <td>Task 1</td>\n",
       "            <td>Create Table USERS</td>\n",
       "            <td><br>  CREATE TABLE &quot;users&quot; (<br>&quot;Id&quot; INTEGER NOT NULL PRIMARY KEY,<br>&quot;Reputation&quot; INTEGER,<br>&quot;CreationDate&quot; TEXT,<br>&quot;DisplayName&quot; TEXT,<br>&quot;LastAccessDate&quot; TEXT,<br>&quot;WebsiteUrl&quot; TEXT,<br>&quot;Location&quot; TEXT,<br>&quot;AboutMe&quot; TEXT,<br>&quot;Views&quot; INTEGER,<br>&quot;UpVotes&quot; INTEGER,<br>&quot;DownVotes&quot; INTEGER,<br>&quot;ProfileImageUrl&quot; TEXT,<br>&quot;AccountId&quot; INTEGER<br>)<br></td>\n",
       "        </tr>\n",
       "        <tr>\n",
       "            <td>Task 2</td>\n",
       "            <td>How many posts have 0 comments?</td>\n",
       "            <td><br>select count(*) from posts<br>where CommentCount==0<br></td>\n",
       "        </tr>\n",
       "        <tr>\n",
       "            <td>Task 2</td>\n",
       "            <td>How many posts have 0 comments?</td>\n",
       "            <td><br>select count(*) from posts<br>where CommentCount==0<br></td>\n",
       "        </tr>\n",
       "    </tbody>\n",
       "</table>"
      ],
      "text/plain": [
       "[('Single Table Queries', 'Which 5 users have viewed the most times and what is the sum of those views per user?', '\\nSELECT Id, SUM(Views) AS TotalViews\\n    FROM Users\\n        GROUP BY Id\\n            ORDER BY TotalViews DESC\\n                LIMIT 5\\n                '),\n",
       " ('Task 1', 'Create table comments', '\\n    CREATE TABLE \"comments\" (\\n    \"Id\" INTEGER,\\n    \"PostId\" INTEGER,\\n    \"Score\" INTEGER,\\n    \"Text\" TEXT,\\n    \"CreationDate\" TEXT,\\n    \"UserId\" INTEGER\\n    )\\n    '),\n",
       " ('Task 1', 'Create Table Posts', '\\n  CREATE TABLE \"posts\" (\\n\"Id\" INTEGER NOT NULL PRIMARY KEY,\\n\"PostTypeId\" INTEGER,\\n\"AcceptedAnswerId\" INTEGER,\\n\"ParentId\" INTEGER,\\n\"CreationDat ... (227 characters truncated) ... e\" TEXT,\\n\"Tags\" TEXT,\\n\"AnswerCount\" INTEGER,\\n\"CommentCount\" INTEGER,\\n\"FavoriteCount\" INTEGER,\\n\"ClosedDate\" TEXT,\\n\"CommunityOwnedDate\" TEXT\\n)\\n'),\n",
       " ('Task 1', 'Create Table USERS', '\\n  CREATE TABLE \"users\" (\\n\"Id\" INTEGER NOT NULL PRIMARY KEY,\\n\"Reputation\" INTEGER,\\n\"CreationDate\" TEXT,\\n\"DisplayName\" TEXT,\\n\"LastAccessDate\" TE ... (20 characters truncated) ... XT,\\n\"Location\" TEXT,\\n\"AboutMe\" TEXT,\\n\"Views\" INTEGER,\\n\"UpVotes\" INTEGER,\\n\"DownVotes\" INTEGER,\\n\"ProfileImageUrl\" TEXT,\\n\"AccountId\" INTEGER\\n)\\n'),\n",
       " ('Task 2', 'How many posts have 0 comments?', '\\nselect count(*) from posts\\nwhere CommentCount==0\\n'),\n",
       " ('Task 2', 'How many posts have 0 comments?', '\\nselect count(*) from posts\\nwhere CommentCount==0\\n')]"
      ]
     },
     "execution_count": 64,
     "metadata": {},
     "output_type": "execute_result"
    }
   ],
   "source": [
    "%%sql\n",
    "select * from queries"
   ]
  },
  {
   "cell_type": "markdown",
   "metadata": {
    "id": "LeVRH8G20Xmc"
   },
   "source": [
    "**How many posts have 1 comments?**"
   ]
  },
  {
   "cell_type": "code",
   "execution_count": 65,
   "metadata": {
    "colab": {
     "base_uri": "https://localhost:8080/",
     "height": 96
    },
    "id": "IEOhaG231DBj",
    "outputId": "2629adac-fb6f-4a38-8de6-f90f8f77ad87"
   },
   "outputs": [
    {
     "name": "stdout",
     "output_type": "stream",
     "text": [
      " * sqlite:///chatdata.db\n",
      "Done.\n"
     ]
    },
    {
     "data": {
      "text/html": [
       "<table>\n",
       "    <thead>\n",
       "        <tr>\n",
       "            <th>count(*)</th>\n",
       "        </tr>\n",
       "    </thead>\n",
       "    <tbody>\n",
       "        <tr>\n",
       "            <td>6460</td>\n",
       "        </tr>\n",
       "    </tbody>\n",
       "</table>"
      ],
      "text/plain": [
       "[(6460,)]"
      ]
     },
     "execution_count": 65,
     "metadata": {},
     "output_type": "execute_result"
    }
   ],
   "source": [
    "%%sql\n",
    "select count(*) from posts\n",
    "where CommentCount==1"
   ]
  },
  {
   "cell_type": "code",
   "execution_count": 66,
   "metadata": {
    "id": "1qwB6xz6CLO1"
   },
   "outputs": [],
   "source": [
    "sql=\"\"\"\n",
    "select count(*) from posts\n",
    "where CommentCount==1\n",
    "\"\"\"\n",
    "store_query(\"Task 2\",\"How many posts have 1 comments?\",sql)"
   ]
  },
  {
   "cell_type": "markdown",
   "metadata": {
    "id": "kOyjXDRA0vmS"
   },
   "source": [
    "**How many posts have 2 comments or more?**"
   ]
  },
  {
   "cell_type": "code",
   "execution_count": 67,
   "metadata": {
    "colab": {
     "base_uri": "https://localhost:8080/",
     "height": 96
    },
    "id": "f5OHN_ah1Kqp",
    "outputId": "7ec302fc-b134-497d-80f0-b31f3007b1db"
   },
   "outputs": [
    {
     "name": "stdout",
     "output_type": "stream",
     "text": [
      " * sqlite:///chatdata.db\n",
      "Done.\n"
     ]
    },
    {
     "data": {
      "text/html": [
       "<table>\n",
       "    <thead>\n",
       "        <tr>\n",
       "            <th>count(*)</th>\n",
       "        </tr>\n",
       "    </thead>\n",
       "    <tbody>\n",
       "        <tr>\n",
       "            <td>14061</td>\n",
       "        </tr>\n",
       "    </tbody>\n",
       "</table>"
      ],
      "text/plain": [
       "[(14061,)]"
      ]
     },
     "execution_count": 67,
     "metadata": {},
     "output_type": "execute_result"
    }
   ],
   "source": [
    "%%sql\n",
    "select count(*) from posts\n",
    "where CommentCount>=2"
   ]
  },
  {
   "cell_type": "code",
   "execution_count": 68,
   "metadata": {
    "id": "K8UUV6cACLO1"
   },
   "outputs": [],
   "source": [
    "sql=\"\"\"\n",
    "select count(*) from posts\n",
    "where CommentCount>=2\n",
    "\"\"\"\n",
    "store_query(\"Task 2\",\"How many posts have 2 comments or more?\",sql)"
   ]
  },
  {
   "cell_type": "markdown",
   "metadata": {
    "id": "3ul0Q8e-1u89"
   },
   "source": [
    "**Find the 5 posts with the highest viewcount**"
   ]
  },
  {
   "cell_type": "code",
   "execution_count": null,
   "metadata": {
    "id": "L140lmgi09XK"
   },
   "outputs": [],
   "source": [
    "%%sql\n",
    " select * from posts\n",
    " order by ViewCount DESC\n",
    " LIMIT 5"
   ]
  },
  {
   "cell_type": "code",
   "execution_count": null,
   "metadata": {
    "id": "zAY_7Plr2WEB"
   },
   "outputs": [],
   "source": [
    "sql =\"\"\"\n",
    "select * from posts\n",
    "order by ViewCount DESC\n",
    "LIMIT 5\n",
    "\"\"\"\n",
    "store_query(\"Task 2\",\"Find the 5 posts with the highest viewcount\",sql)"
   ]
  },
  {
   "cell_type": "markdown",
   "metadata": {
    "id": "rzISq1Md22dp"
   },
   "source": [
    "**Find the top 5 posts with the highest scores**"
   ]
  },
  {
   "cell_type": "code",
   "execution_count": 70,
   "metadata": {
    "colab": {
     "base_uri": "https://localhost:8080/",
     "height": 1000
    },
    "id": "MumZAaCnCLO2",
    "outputId": "a04b4e11-64b5-4125-ab74-c2751c5df7eb"
   },
   "outputs": [
    {
     "name": "stdout",
     "output_type": "stream",
     "text": [
      " * sqlite:///chatdata.db\n",
      "Done.\n"
     ]
    },
    {
     "data": {
      "text/html": [
       "<table>\n",
       "    <thead>\n",
       "        <tr>\n",
       "            <th>Id</th>\n",
       "            <th>PostTypeId</th>\n",
       "            <th>AcceptedAnswerId</th>\n",
       "            <th>ParentId</th>\n",
       "            <th>CreationDate</th>\n",
       "            <th>Score</th>\n",
       "            <th>ViewCount</th>\n",
       "            <th>Body</th>\n",
       "            <th>OwnerUserId</th>\n",
       "            <th>OwnerDisplayName</th>\n",
       "            <th>LastEditorUserId</th>\n",
       "            <th>LastEditorDisplayName</th>\n",
       "            <th>LastEditDate</th>\n",
       "            <th>LastActivityDate</th>\n",
       "            <th>Title</th>\n",
       "            <th>Tags</th>\n",
       "            <th>AnswerCount</th>\n",
       "            <th>CommentCount</th>\n",
       "            <th>FavoriteCount</th>\n",
       "            <th>ClosedDate</th>\n",
       "            <th>CommunityOwnedDate</th>\n",
       "            <th>LEN_BODY</th>\n",
       "        </tr>\n",
       "    </thead>\n",
       "    <tbody>\n",
       "        <tr>\n",
       "            <td>431397</td>\n",
       "            <td>2</td>\n",
       "            <td>0</td>\n",
       "            <td>431370</td>\n",
       "            <td>2019-10-14 14:29:36</td>\n",
       "            <td>101</td>\n",
       "            <td>0</td>\n",
       "            <td>&lt;p&gt;Yes there is. Generally it is termed &lt;strong&gt;base rate fallacy&lt;/strong&gt; or more specific &lt;strong&gt;false positive paradox&lt;/strong&gt;. There is even a wikipedia article about it: &lt;a href=&quot;https://en.wikipedia.org/wiki/Base_rate_fallacy&quot; rel=&quot;noreferrer&quot;&gt;see here&lt;/a&gt;&lt;/p&gt;<br></td>\n",
       "            <td>142976</td>\n",
       "            <td>None</td>\n",
       "            <td>0</td>\n",
       "            <td>None</td>\n",
       "            <td>None</td>\n",
       "            <td>2019-10-14 14:29:36</td>\n",
       "            <td>None</td>\n",
       "            <td>None</td>\n",
       "            <td>0</td>\n",
       "            <td>0</td>\n",
       "            <td>0</td>\n",
       "            <td>None</td>\n",
       "            <td>None</td>\n",
       "            <td>269</td>\n",
       "        </tr>\n",
       "        <tr>\n",
       "            <td>394128</td>\n",
       "            <td>2</td>\n",
       "            <td>0</td>\n",
       "            <td>394118</td>\n",
       "            <td>2019-02-24 15:44:44</td>\n",
       "            <td>100</td>\n",
       "            <td>0</td>\n",
       "            <td>&lt;p&gt;I caution against expecting strong resemblance between biological and artificial neural networks. I think the name &quot;neural networks&quot; is a bit dangerous, because it tricks people into expecting that neurological processes and machine learning should be the same. The differences between biological and artificial neural networks outweigh the similarities.&lt;/p&gt;<br><br>&lt;p&gt;As an example of how this can go awry, you can also turn the reasoning in the original post on its head. You can train a neural network to learn to recognize cars in an afternoon, provided you have a reasonably fast computer and some amount of training data. You can make this a binary task (car/not car) or a multi-class task (car/tram/bike/airplane/boat) and still be confident in a high level of success. &lt;/p&gt;<br><br>&lt;p&gt;By contrast, I wouldn&#x27;t expect a child to be able to pick out a car the day - or even the week - after it&#x27;s born, even after it has seen &quot;so many training examples.&quot; Something is obviously different between a two-year-old and an infant that accounts for the difference in learning ability, whereas a vanilla image classification neural network is perfectly capable of picking up object classification &lt;em&gt;immediately&lt;/em&gt; after &quot;birth.&quot; I think that there are two important differences: (1) the relative volumes of training data available and (2) a self-teaching mechanism that develops over time because of abundant training data.&lt;/p&gt;<br><br>&lt;hr&gt;<br><br>&lt;p&gt;The original post exposes two questions. The title and body of the question ask why neural networks need &quot;so many examples.&quot; Relative to a child&#x27;s experience, neural networks trained using common image benchmarks have comparatively little data.&lt;/p&gt;<br><br>&lt;p&gt;I will re-phrases the question in the title to &lt;/p&gt;<br><br>&lt;h1&gt;&quot;How does training a neural network for a common image benchmark compare &amp;amp; contrast to the learning experience of a child?&quot;&lt;/h1&gt;<br><br>&lt;p&gt;For the sake of comparison I&#x27;ll consider the CIFAR-10 data because it is a common image benchmark. The labeled portion is composed of 10 classes of images with 6000 images per class. Each image is 32x32 pixels. If you somehow stacked the labeled images from CIFAR-10 and made a standard 48 fps video, you&#x27;d have about 20 minutes of footage.&lt;/p&gt;<br><br>&lt;p&gt;A child of 2 years who observes the world for 12 hours daily has roughly 263000 minutes (more than 4000 hours) of direct observations of the world, including feedback from adults (labels). (These are just ballpark figures -- I don&#x27;t know how many minutes a typical two-year-old has spent observing the world.) Moreover, the child will have exposure to many, many objects beyond the 10 classes that comprise CIFAR-10.&lt;/p&gt;<br><br>&lt;p&gt;So there are a few things at play. One is that the child has exposure to more data overall and a more diverse source of data than the CIFAR-10 model has. Data diversity and data volume are well-recognized as pre-requisites for robust models in general. In this light, it doesn&#x27;t seem surprising that a neural network is worse at this task than the child, because a neural network trained on CIFAR-10 is positively starved for training data compared to the two-year-old. The image resolution available to a child is better than the 32x32 CIFAR-10 images, so the child is able to learn information about the fine details of objects.&lt;/p&gt;<br><br>&lt;p&gt;The CIFAR-10 to two-year-old comparison is not perfect because the CIFAR-10 model will likely be trained with multiple passes over the same static images, while the child will see, using binocular vision, how objects are arranged in a three-dimensional world while moving about and with different lighting conditions and perspectives on the same objects.&lt;/p&gt;<br><br>&lt;p&gt;The anecdote about OP&#x27;s child implies a second question, &lt;/p&gt;<br><br>&lt;h1&gt;&quot;How can neural networks become self-teaching?&quot;&lt;/h1&gt;<br><br>&lt;p&gt;A child is endowed with some talent for self-teaching, so that new categories of objects can be added over time without having to start over from scratch. &lt;/p&gt;<br><br>&lt;ul&gt;<br>&lt;li&gt;&lt;p&gt;OP&#x27;s remark about &lt;a href=&quot;/questions/tagged/transfer-learning&quot; class=&quot;post-tag&quot; title=&quot;show questions tagged &amp;#39;transfer-learning&amp;#39;&quot; rel=&quot;tag&quot;&gt;transfer-learning&lt;/a&gt; names one kind of model adaptation in the machine learning context.&lt;/p&gt;&lt;/li&gt;<br>&lt;li&gt;&lt;p&gt;In comments, other users have pointed out that one- and few-shot learning* is another machine learning research area.&lt;/p&gt;&lt;/li&gt;<br>&lt;li&gt;&lt;p&gt;Additionally, &lt;a href=&quot;/questions/tagged/reinforcement-learning&quot; class=&quot;post-tag&quot; title=&quot;show questions tagged &amp;#39;reinforcement-learning&amp;#39;&quot; rel=&quot;tag&quot;&gt;reinforcement-learning&lt;/a&gt; addresses self-teaching models from a different perspective, essentially allowing robots to undertake trial-and-error experimentation to find optimal strategies for solving specific problems (e.g. playing chess).&lt;/p&gt;&lt;/li&gt;<br>&lt;/ul&gt;<br><br>&lt;p&gt;It&#x27;s probably true that all three of these machine learning paradigms are germane to improving how machines adapt to new computer vision tasks. Quickly adapting machine learning models to new tasks is an active area of research. However, because the practical goals of these projects (identify new instances of malware, recognize imposters in passport photos, index the internet) and criteria for success differ from the goals of a child learning about the world, and the fact that one is done in a computer using math and the other is done in organic material using chemistry, direct comparisons between the two will remain fraught.&lt;/p&gt;<br><br>&lt;hr&gt;<br><br>&lt;p&gt;As an aside, it would be interesting to study how to flip the CIFAR-10 problem around and train a neural network to recognize 6000 objects from 10 examples of each. But even this wouldn&#x27;t be a fair comparison to 2-year-old, because there would still be a large discrepancy in the total volume, diversity and resolution of the training data.&lt;/p&gt;<br><br>&lt;p&gt;*We don&#x27;t presently have a tags for one-shot learning or few-shot learning.&lt;/p&gt;<br></td>\n",
       "            <td>22311</td>\n",
       "            <td>None</td>\n",
       "            <td>22311</td>\n",
       "            <td>None</td>\n",
       "            <td>2019-03-03 17:37:05</td>\n",
       "            <td>2019-03-03 17:37:05</td>\n",
       "            <td>None</td>\n",
       "            <td>None</td>\n",
       "            <td>0</td>\n",
       "            <td>15</td>\n",
       "            <td>0</td>\n",
       "            <td>None</td>\n",
       "            <td>None</td>\n",
       "            <td>5829</td>\n",
       "        </tr>\n",
       "        <tr>\n",
       "            <td>426878</td>\n",
       "            <td>2</td>\n",
       "            <td>0</td>\n",
       "            <td>426873</td>\n",
       "            <td>2019-09-11 23:23:31</td>\n",
       "            <td>93</td>\n",
       "            <td>0</td>\n",
       "            <td>&lt;p&gt;&lt;strong&gt;tl;dr&lt;/strong&gt; Even though this is an image classification dataset, it remains a &lt;strong&gt;very easy&lt;/strong&gt; task, for which one can easily find a &lt;strong&gt;direct mapping&lt;/strong&gt; from inputs to predictions.&lt;/p&gt;<br><br>&lt;hr&gt;<br><br>&lt;p&gt;&lt;strong&gt;Answer:&lt;/strong&gt;&lt;/p&gt;<br><br>&lt;p&gt;This is a very interesting question and thanks to the simplicity of logistic regression you can actually find out the answer. &lt;/p&gt;<br><br>&lt;p&gt;What logistic regression does is for each image accept &lt;span class=&quot;math-container&quot;&gt;$784$&lt;/span&gt; inputs and multiply them with weights to generate its prediction. The interesting thing is that due to the direct mapping between input and output (i.e. no hidden layer), the value of each weight corresponds to how much each one of the &lt;span class=&quot;math-container&quot;&gt;$784$&lt;/span&gt; inputs are taken into account when computing the probability of each class. Now, by taking the weights for each class and reshaping them into &lt;span class=&quot;math-container&quot;&gt;$28 \\times 28$&lt;/span&gt; (i.e. the image resolution), we can tell &lt;strong&gt;what pixels are most important for the computation of each class&lt;/strong&gt;.&lt;/p&gt;<br><br>&lt;p&gt;&lt;img src=&quot;https://i.stack.imgur.com/5IfjY.png&quot; alt=&quot;&quot;&gt;&lt;/p&gt;<br><br>&lt;p&gt;Note, again, that these are the &lt;strong&gt;weights&lt;/strong&gt;.&lt;/p&gt;<br><br>&lt;p&gt;Now take a look at the above image and focus on the first two digits (i.e. zero and one). Blue weights mean that this pixel&#x27;s intensity contributes a lot for that class and red values mean that it contributes negatively. &lt;/p&gt;<br><br>&lt;p&gt;Now imagine, how does a person draw a &lt;span class=&quot;math-container&quot;&gt;$0$&lt;/span&gt;? He draws a circular shape that&#x27;s empty in between. That&#x27;s exactly what the weights picked up on. In fact if someone draws the middle of the image, it counts &lt;strong&gt;negatively&lt;/strong&gt; as a zero. So to recognize zeros you don&#x27;t need some sophisticated filters and high-level features. You can just look at the drawn pixel locations and judge according to this.&lt;/p&gt;<br><br>&lt;p&gt;Same thing for the &lt;span class=&quot;math-container&quot;&gt;$1$&lt;/span&gt;. It always has a straight vertical line in the middle of the image. All else counts negatively.&lt;/p&gt;<br><br>&lt;p&gt;The rest of the digits are a bit more complicated, but with little imaginations you can see the &lt;span class=&quot;math-container&quot;&gt;$2$&lt;/span&gt;, the &lt;span class=&quot;math-container&quot;&gt;$3$&lt;/span&gt;, the &lt;span class=&quot;math-container&quot;&gt;$7$&lt;/span&gt; and the &lt;span class=&quot;math-container&quot;&gt;$8$&lt;/span&gt;. The rest of the numbers are a bit more difficult, which is what actually limits the logistic regression from reaching the high-90s.&lt;/p&gt;<br><br>&lt;p&gt;Through this you can see that logistic regression has a very good chance of getting a lot of images right and that&#x27;s why it scores so high.&lt;/p&gt;<br><br>&lt;hr&gt;<br><br>&lt;p&gt;The code to reproduce the above figure is a bit dated, but here you go:&lt;/p&gt;<br><br>&lt;pre class=&quot;lang-py prettyprint-override&quot;&gt;&lt;code&gt;import tensorflow as tf<br>import matplotlib.pyplot as plt<br>from tensorflow.examples.tutorials.mnist import input_data<br><br># Load MNIST:<br>mnist = input_data.read_data_sets(&quot;MNIST_data/&quot;, one_hot=True)<br><br># Create model<br>x = tf.placeholder(tf.float32, shape=(None, 784))<br>y = tf.placeholder(tf.float32, shape=(None, 10))<br><br>W = tf.Variable(tf.zeros((784,10)))<br>b = tf.Variable(tf.zeros((10)))<br>z = tf.matmul(x, W) + b<br><br>y_hat = tf.nn.softmax(z)<br>cross_entropy = tf.reduce_mean(-tf.reduce_sum(y * tf.log(y_hat), reduction_indices=[1]))<br>optimizer = tf.train.GradientDescentOptimizer(0.5).minimize(cross_entropy) # <br><br>correct_pred = tf.equal(tf.argmax(y_hat, 1), tf.argmax(y, 1))<br>accuracy = tf.reduce_mean(tf.cast(correct_pred, tf.float32))<br><br># Train model<br>batch_size = 64<br>with tf.Session() as sess:<br><br>    loss_tr, acc_tr, loss_ts, acc_ts = [], [], [], []<br><br>    sess.run(tf.global_variables_initializer()) <br><br>    for step in range(1, 1001):<br><br>        x_batch, y_batch = mnist.train.next_batch(batch_size) <br>        sess.run(optimizer, feed_dict={x: x_batch, y: y_batch})<br><br>        l_tr, a_tr = sess.run([cross_entropy, accuracy], feed_dict={x: x_batch, y: y_batch})<br>        l_ts, a_ts = sess.run([cross_entropy, accuracy], feed_dict={x: mnist.test.images, y: mnist.test.labels})<br>        loss_tr.append(l_tr)<br>        acc_tr.append(a_tr)<br>        loss_ts.append(l_ts)<br>        acc_ts.append(a_ts)<br><br>    weights = sess.run(W)      <br>    print(&#x27;Test Accuracy =&#x27;, sess.run(accuracy, feed_dict={x: mnist.test.images, y: mnist.test.labels})) <br><br># Plotting:<br>for i in range(10):<br>    plt.subplot(2, 5, i+1)<br>    weight = weights[:,i].reshape([28,28])<br>    plt.title(i)<br>    plt.imshow(weight, cmap=&#x27;RdBu&#x27;)  # as noted by @Eric Duminil, cmap=&#x27;gray&#x27; makes the numbers stand out more<br>    frame1 = plt.gca()<br>    frame1.axes.get_xaxis().set_visible(False)<br>    frame1.axes.get_yaxis().set_visible(False)<br>&lt;/code&gt;&lt;/pre&gt;<br></td>\n",
       "            <td>119015</td>\n",
       "            <td>None</td>\n",
       "            <td>119015</td>\n",
       "            <td>None</td>\n",
       "            <td>2019-09-13 14:02:28</td>\n",
       "            <td>2019-09-13 14:02:28</td>\n",
       "            <td>None</td>\n",
       "            <td>None</td>\n",
       "            <td>0</td>\n",
       "            <td>6</td>\n",
       "            <td>0</td>\n",
       "            <td>None</td>\n",
       "            <td>None</td>\n",
       "            <td>4627</td>\n",
       "        </tr>\n",
       "        <tr>\n",
       "            <td>388578</td>\n",
       "            <td>2</td>\n",
       "            <td>0</td>\n",
       "            <td>388566</td>\n",
       "            <td>2019-01-22 15:48:47</td>\n",
       "            <td>80</td>\n",
       "            <td>0</td>\n",
       "            <td>&lt;p&gt;To me &quot;1 in 80 deaths...&quot; is by far the clearer statement.  The denominator in your &quot;1 in 80&quot; is the set of all death events and that statement makes it explicit. &lt;/p&gt;<br><br>&lt;p&gt;There&#x27;s ambiguity in the &quot;1 in 80 people...&quot; formulation. You really mean &quot;1 in 80 people who dies...&quot; but the statement can just as easily be interpreted as &quot;1 in 80 people now alive...&quot; or similar. &lt;/p&gt;<br><br>&lt;p&gt;I&#x27;m all for being explicit about the reference set in probability or frequency assertions like this. If you&#x27;re talking about the proportion of deaths, then say &quot;deaths&quot; not &quot;people&quot;. &lt;/p&gt;<br></td>\n",
       "            <td>227039</td>\n",
       "            <td>None</td>\n",
       "            <td>0</td>\n",
       "            <td>None</td>\n",
       "            <td>None</td>\n",
       "            <td>2019-01-22 15:48:47</td>\n",
       "            <td>None</td>\n",
       "            <td>None</td>\n",
       "            <td>0</td>\n",
       "            <td>11</td>\n",
       "            <td>0</td>\n",
       "            <td>None</td>\n",
       "            <td>None</td>\n",
       "            <td>572</td>\n",
       "        </tr>\n",
       "        <tr>\n",
       "            <td>431370</td>\n",
       "            <td>1</td>\n",
       "            <td>431397</td>\n",
       "            <td>0</td>\n",
       "            <td>2019-10-14 11:29:21</td>\n",
       "            <td>77</td>\n",
       "            <td>11723</td>\n",
       "            <td>&lt;p&gt;It seems very counter intuitive to many people that a given diagnostic test with very high accuracy (say 99%) can generate massively more false positives than true positives in some situations, namely where the population of true positives is very small compared to whole population.&lt;/p&gt;<br><br>&lt;p&gt;I see people making this mistake often e.g. when arguing for wider public health screenings, or wider anti-crime surveillance measures etc but I am at a loss for how to succinctly describe the mistake people are making.&lt;/p&gt;<br><br>&lt;p&gt;Does this phenomenon / statistical fallacy have a name? Failing that has anyone got a good, terse, jargon free intuition/example that would help me explain it to a lay person.&lt;/p&gt;<br><br>&lt;p&gt;Apologies if this is the wrong forum to ask this. If so please direct me to a more appropriate one.&lt;/p&gt;<br></td>\n",
       "            <td>262594</td>\n",
       "            <td>None</td>\n",
       "            <td>11887</td>\n",
       "            <td>None</td>\n",
       "            <td>2019-11-28 01:44:34</td>\n",
       "            <td>2019-11-28 01:44:34</td>\n",
       "            <td>Is there a name for the phenomenon of false positives counterintuitively outstripping true positives</td>\n",
       "            <td>&lt;probability&gt;&lt;terminology&gt;&lt;intuition&gt;</td>\n",
       "            <td>8</td>\n",
       "            <td>9</td>\n",
       "            <td>18</td>\n",
       "            <td>None</td>\n",
       "            <td>None</td>\n",
       "            <td>811</td>\n",
       "        </tr>\n",
       "    </tbody>\n",
       "</table>"
      ],
      "text/plain": [
       "[(431397, 2, 0, 431370, '2019-10-14 14:29:36', 101, 0, '<p>Yes there is. Generally it is termed <strong>base rate fallacy</strong> or more specific <strong>false positive paradox</strong>. There is even a wikipedia article about it: <a href=\"https://en.wikipedia.org/wiki/Base_rate_fallacy\" rel=\"noreferrer\">see here</a></p>\\n', 142976, None, 0, None, None, '2019-10-14 14:29:36', None, None, 0, 0, 0, None, None, 269),\n",
       " (394128, 2, 0, 394118, '2019-02-24 15:44:44', 100, 0, '<p>I caution against expecting strong resemblance between biological and artificial neural networks. I think the name \"neural networks\" is a bit dang ... (5584 characters truncated) ... l volume, diversity and resolution of the training data.</p>\\n\\n<p>*We don\\'t presently have a tags for one-shot learning or few-shot learning.</p>\\n', 22311, None, 22311, None, '2019-03-03 17:37:05', '2019-03-03 17:37:05', None, None, 0, 15, 0, None, None, 5829),\n",
       " (426878, 2, 0, 426873, '2019-09-11 23:23:31', 93, 0, '<p><strong>tl;dr</strong> Even though this is an image classification dataset, it remains a <strong>very easy</strong> task, for which one can easily ... (4424 characters truncated) ... and out more\\n    frame1 = plt.gca()\\n    frame1.axes.get_xaxis().set_visible(False)\\n    frame1.axes.get_yaxis().set_visible(False)\\n</code></pre>\\n', 119015, None, 119015, None, '2019-09-13 14:02:28', '2019-09-13 14:02:28', None, None, 0, 6, 0, None, None, 4627),\n",
       " (388578, 2, 0, 388566, '2019-01-22 15:48:47', 80, 0, '<p>To me \"1 in 80 deaths...\" is by far the clearer statement.  The denominator in your \"1 in 80\" is the set of all death events and that statement ma ... (282 characters truncated) ... rence set in probability or frequency assertions like this. If you\\'re talking about the proportion of deaths, then say \"deaths\" not \"people\". </p>\\n', 227039, None, 0, None, None, '2019-01-22 15:48:47', None, None, 0, 11, 0, None, None, 572),\n",
       " (431370, 1, 431397, 0, '2019-10-14 11:29:21', 77, 11723, '<p>It seems very counter intuitive to many people that a given diagnostic test with very high accuracy (say 99%) can generate massively more false po ... (520 characters truncated) ... lp me explain it to a lay person.</p>\\n\\n<p>Apologies if this is the wrong forum to ask this. If so please direct me to a more appropriate one.</p>\\n', 262594, None, 11887, None, '2019-11-28 01:44:34', '2019-11-28 01:44:34', 'Is there a name for the phenomenon of false positives counterintuitively outstripping true positives', '<probability><terminology><intuition>', 8, 9, 18, None, None, 811)]"
      ]
     },
     "execution_count": 70,
     "metadata": {},
     "output_type": "execute_result"
    }
   ],
   "source": [
    "%%sql\n",
    "select * from posts\n",
    "order by Score DESC\n",
    "LIMIT 5"
   ]
  },
  {
   "cell_type": "code",
   "execution_count": 71,
   "metadata": {
    "id": "scngW47f28H-"
   },
   "outputs": [],
   "source": [
    "sql= \"\"\"\n",
    "select * from posts\n",
    "order by Score DESC\n",
    "LIMIT 5\n",
    "\"\"\"\n",
    "store_query(\"Task 2\",\"Find the top 5 posts with the highest scores\",sql)"
   ]
  },
  {
   "cell_type": "markdown",
   "metadata": {
    "id": "Gde6kmAV3gAs"
   },
   "source": [
    "**What are the 5 most frequent scores on posts?**"
   ]
  },
  {
   "cell_type": "code",
   "execution_count": 72,
   "metadata": {
    "colab": {
     "base_uri": "https://localhost:8080/",
     "height": 182
    },
    "id": "ZJnFXgWR28TM",
    "outputId": "de3a995e-d800-455a-e946-197813c416f0"
   },
   "outputs": [
    {
     "name": "stdout",
     "output_type": "stream",
     "text": [
      " * sqlite:///chatdata.db\n",
      "Done.\n"
     ]
    },
    {
     "data": {
      "text/html": [
       "<table>\n",
       "    <thead>\n",
       "        <tr>\n",
       "            <th>Score</th>\n",
       "            <th>Count_score</th>\n",
       "        </tr>\n",
       "    </thead>\n",
       "    <tbody>\n",
       "        <tr>\n",
       "            <td>0</td>\n",
       "            <td>19888</td>\n",
       "        </tr>\n",
       "        <tr>\n",
       "            <td>1</td>\n",
       "            <td>11867</td>\n",
       "        </tr>\n",
       "        <tr>\n",
       "            <td>2</td>\n",
       "            <td>5094</td>\n",
       "        </tr>\n",
       "        <tr>\n",
       "            <td>3</td>\n",
       "            <td>2228</td>\n",
       "        </tr>\n",
       "        <tr>\n",
       "            <td>4</td>\n",
       "            <td>1059</td>\n",
       "        </tr>\n",
       "    </tbody>\n",
       "</table>"
      ],
      "text/plain": [
       "[(0, 19888), (1, 11867), (2, 5094), (3, 2228), (4, 1059)]"
      ]
     },
     "execution_count": 72,
     "metadata": {},
     "output_type": "execute_result"
    }
   ],
   "source": [
    "%%sql \n",
    "select Score, Count(Score) AS Count_score\n",
    "\n",
    " from posts\n",
    " group by Score\n",
    " order by Count_score Desc\n",
    " Limit 5"
   ]
  },
  {
   "cell_type": "code",
   "execution_count": 41,
   "metadata": {
    "id": "mjbMZyyN28d3"
   },
   "outputs": [],
   "source": [
    "sql=\"\"\"\n",
    "select Score, Count(Score) AS Count_score\n",
    "\n",
    " from posts\n",
    " group by Score\n",
    " order by Count_score Desc\n",
    " Limit 5\n",
    " \"\"\"\n",
    "store_query(\"Task 2\",\"What are the 5 most frequent scores on posts?\",sql)"
   ]
  },
  {
   "cell_type": "markdown",
   "metadata": {
    "id": "gvipaSI6At76"
   },
   "source": [
    "**How many posts have the keyword \"data\" in their tags?**"
   ]
  },
  {
   "cell_type": "code",
   "execution_count": 42,
   "metadata": {
    "colab": {
     "base_uri": "https://localhost:8080/",
     "height": 96
    },
    "id": "YeSdyrUS28qm",
    "outputId": "51be7b0b-b8dd-4c18-9321-50435e309433"
   },
   "outputs": [
    {
     "name": "stdout",
     "output_type": "stream",
     "text": [
      " * sqlite:///chatdata.db\n",
      "Done.\n"
     ]
    },
    {
     "data": {
      "text/html": [
       "<table>\n",
       "    <thead>\n",
       "        <tr>\n",
       "            <th>count(*)</th>\n",
       "        </tr>\n",
       "    </thead>\n",
       "    <tbody>\n",
       "        <tr>\n",
       "            <td>2242</td>\n",
       "        </tr>\n",
       "    </tbody>\n",
       "</table>"
      ],
      "text/plain": [
       "[(2242,)]"
      ]
     },
     "execution_count": 42,
     "metadata": {},
     "output_type": "execute_result"
    }
   ],
   "source": [
    "%%sql\n",
    "select count(*) from posts\n",
    "Where Tags LIKE\"%<%\" and Tags like\"%data%\"\n",
    "\n"
   ]
  },
  {
   "cell_type": "code",
   "execution_count": 75,
   "metadata": {
    "id": "GE45E7V3AyhM"
   },
   "outputs": [],
   "source": [
    "sql=\"\"\"\n",
    "select count(*) from posts\n",
    "Where Tags LIKE\"%<%\" and Tags like\"%data%\"\n",
    "\"\"\"\n",
    "\n",
    "store_query(\"Task 2\",\"How many posts have the keyword data in their tags?\",sql)"
   ]
  },
  {
   "cell_type": "markdown",
   "metadata": {
    "id": "I6JWPxdyDrBi"
   },
   "source": [
    "**What are the 5 most frequent commentcount for posts?**"
   ]
  },
  {
   "cell_type": "code",
   "execution_count": 76,
   "metadata": {
    "colab": {
     "base_uri": "https://localhost:8080/",
     "height": 182
    },
    "id": "ZxO0JpE3Ayme",
    "outputId": "f3080b86-2966-47f8-a7a5-b22d788173b5"
   },
   "outputs": [
    {
     "name": "stdout",
     "output_type": "stream",
     "text": [
      " * sqlite:///chatdata.db\n",
      "Done.\n"
     ]
    },
    {
     "data": {
      "text/html": [
       "<table>\n",
       "    <thead>\n",
       "        <tr>\n",
       "            <th>CommentCount</th>\n",
       "            <th>Count_comment</th>\n",
       "        </tr>\n",
       "    </thead>\n",
       "    <tbody>\n",
       "        <tr>\n",
       "            <td>0</td>\n",
       "            <td>21713</td>\n",
       "        </tr>\n",
       "        <tr>\n",
       "            <td>1</td>\n",
       "            <td>6460</td>\n",
       "        </tr>\n",
       "        <tr>\n",
       "            <td>2</td>\n",
       "            <td>4966</td>\n",
       "        </tr>\n",
       "        <tr>\n",
       "            <td>3</td>\n",
       "            <td>3063</td>\n",
       "        </tr>\n",
       "        <tr>\n",
       "            <td>4</td>\n",
       "            <td>2026</td>\n",
       "        </tr>\n",
       "    </tbody>\n",
       "</table>"
      ],
      "text/plain": [
       "[(0, 21713), (1, 6460), (2, 4966), (3, 3063), (4, 2026)]"
      ]
     },
     "execution_count": 76,
     "metadata": {},
     "output_type": "execute_result"
    }
   ],
   "source": [
    "%%sql \n",
    "select CommentCount, Count(CommentCount) AS Count_comment\n",
    " from posts\n",
    " group by CommentCount\n",
    " order by Count_comment Desc\n",
    " Limit 5"
   ]
  },
  {
   "cell_type": "code",
   "execution_count": 77,
   "metadata": {
    "id": "Nu3NkZenAypa"
   },
   "outputs": [],
   "source": [
    "sql=\"\"\"\n",
    "select CommentCount, Count(CommentCount) AS Count_comment\n",
    " from posts\n",
    " group by CommentCount\n",
    " order by Count_comment Desc\n",
    " Limit 5\n",
    " \"\"\"\n",
    "store_query(\"Task 2\",\"What are the 5 most frequent commentcount for posts?\",sql)\n"
   ]
  },
  {
   "cell_type": "markdown",
   "metadata": {
    "id": "fK5zjFB4FNtR"
   },
   "source": [
    "**How many posts have an accepted answer?**"
   ]
  },
  {
   "cell_type": "code",
   "execution_count": 78,
   "metadata": {
    "colab": {
     "base_uri": "https://localhost:8080/",
     "height": 96
    },
    "id": "UOiPaOYxAysD",
    "outputId": "47eda25b-4de4-4c04-d3ba-ca9354c5dc1e"
   },
   "outputs": [
    {
     "name": "stdout",
     "output_type": "stream",
     "text": [
      " * sqlite:///chatdata.db\n",
      "Done.\n"
     ]
    },
    {
     "data": {
      "text/html": [
       "<table>\n",
       "    <thead>\n",
       "        <tr>\n",
       "            <th>count(*)</th>\n",
       "        </tr>\n",
       "    </thead>\n",
       "    <tbody>\n",
       "        <tr>\n",
       "            <td>5341</td>\n",
       "        </tr>\n",
       "    </tbody>\n",
       "</table>"
      ],
      "text/plain": [
       "[(5341,)]"
      ]
     },
     "execution_count": 78,
     "metadata": {},
     "output_type": "execute_result"
    }
   ],
   "source": [
    "%%sql\n",
    "select count(*) from posts\n",
    "where AcceptedAnswerId != 0\n"
   ]
  },
  {
   "cell_type": "code",
   "execution_count": 79,
   "metadata": {
    "id": "cbj-x_68FTxO"
   },
   "outputs": [],
   "source": [
    "sql =\"\"\"\n",
    "select count(*) from posts\n",
    "where AcceptedAnswerId != 0\n",
    "\"\"\"\n",
    "store_query(\"Task 2\",\"How many posts have an accepted answer?\",sql)"
   ]
  },
  {
   "cell_type": "markdown",
   "metadata": {
    "id": "XhxL6o0SHSEz"
   },
   "source": [
    "**What is the average,MIN,MAX reputation of table users?**"
   ]
  },
  {
   "cell_type": "code",
   "execution_count": 80,
   "metadata": {
    "colab": {
     "base_uri": "https://localhost:8080/",
     "height": 96
    },
    "id": "Htj1atypFT0B",
    "outputId": "07db3ee1-5489-4fa6-cb34-d2f1e90568dd"
   },
   "outputs": [
    {
     "name": "stdout",
     "output_type": "stream",
     "text": [
      " * sqlite:///chatdata.db\n",
      "Done.\n"
     ]
    },
    {
     "data": {
      "text/html": [
       "<table>\n",
       "    <thead>\n",
       "        <tr>\n",
       "            <th>Average_Reputation</th>\n",
       "            <th>Max_Reputation</th>\n",
       "            <th>Min_Reputation</th>\n",
       "        </tr>\n",
       "    </thead>\n",
       "    <tbody>\n",
       "        <tr>\n",
       "            <td>312.3509124484032</td>\n",
       "            <td>228662</td>\n",
       "            <td>1</td>\n",
       "        </tr>\n",
       "    </tbody>\n",
       "</table>"
      ],
      "text/plain": [
       "[(312.3509124484032, 228662, 1)]"
      ]
     },
     "execution_count": 80,
     "metadata": {},
     "output_type": "execute_result"
    }
   ],
   "source": [
    "%%sql\n",
    "select AVG(Reputation) as Average_Reputation ,\n",
    "MAX(Reputation) as Max_Reputation,\n",
    "MIN(Reputation) as Min_Reputation\n",
    "from users"
   ]
  },
  {
   "cell_type": "code",
   "execution_count": 81,
   "metadata": {
    "id": "3XNqDA0eFT22"
   },
   "outputs": [],
   "source": [
    "sql=\"\"\"\n",
    "select AVG(Reputation) as Average_Reputation ,\n",
    "MAX(Reputation) as Max_Reputation,\n",
    "MIN(Reputation) as Min_Reputation\n",
    "from users\n",
    "\"\"\"\n",
    "store_query(\"Task 2\",\"What is the average,MIN,MAX reputation of table users?\",sql)"
   ]
  },
  {
   "cell_type": "markdown",
   "metadata": {
    "id": "AFvy9aOtIxxv"
   },
   "source": [
    "**What is the length of the body of 5 most viewed posts?**"
   ]
  },
  {
   "cell_type": "code",
   "execution_count": 82,
   "metadata": {
    "colab": {
     "base_uri": "https://localhost:8080/",
     "height": 182
    },
    "id": "tUQWIYZwFUsz",
    "outputId": "c374d1dd-17a8-493f-f45f-9b15e7e8903c"
   },
   "outputs": [
    {
     "name": "stdout",
     "output_type": "stream",
     "text": [
      " * sqlite:///chatdata.db\n",
      "Done.\n"
     ]
    },
    {
     "data": {
      "text/html": [
       "<table>\n",
       "    <thead>\n",
       "        <tr>\n",
       "            <th>Id</th>\n",
       "            <th>ViewCount</th>\n",
       "            <th>LEN_BODY</th>\n",
       "        </tr>\n",
       "    </thead>\n",
       "    <tbody>\n",
       "        <tr>\n",
       "            <td>388566</td>\n",
       "            <td>19542</td>\n",
       "            <td>2270</td>\n",
       "        </tr>\n",
       "        <tr>\n",
       "            <td>394118</td>\n",
       "            <td>16317</td>\n",
       "            <td>512</td>\n",
       "        </tr>\n",
       "        <tr>\n",
       "            <td>431370</td>\n",
       "            <td>11723</td>\n",
       "            <td>811</td>\n",
       "        </tr>\n",
       "        <tr>\n",
       "            <td>398646</td>\n",
       "            <td>9850</td>\n",
       "            <td>2148</td>\n",
       "        </tr>\n",
       "        <tr>\n",
       "            <td>434128</td>\n",
       "            <td>6718</td>\n",
       "            <td>1172</td>\n",
       "        </tr>\n",
       "    </tbody>\n",
       "</table>"
      ],
      "text/plain": [
       "[(388566, 19542, 2270),\n",
       " (394118, 16317, 512),\n",
       " (431370, 11723, 811),\n",
       " (398646, 9850, 2148),\n",
       " (434128, 6718, 1172)]"
      ]
     },
     "execution_count": 82,
     "metadata": {},
     "output_type": "execute_result"
    }
   ],
   "source": [
    "%%sql\n",
    "select Id,ViewCOUNT,Len_body from posts\n",
    "order by ViewCount Desc\n",
    "Limit 5"
   ]
  },
  {
   "cell_type": "code",
   "execution_count": 83,
   "metadata": {
    "id": "GcGurcp6FUvo"
   },
   "outputs": [],
   "source": [
    "sql =\"\"\"\n",
    "select Id,ViewCOUNT,Len_body from posts\n",
    "order by ViewCount Desc\n",
    "Limit 5\n",
    "\"\"\"\n",
    "store_query(\"Task 2\",\"What is the length of the body of 5 most viewed posts?\",sql)"
   ]
  },
  {
   "cell_type": "markdown",
   "metadata": {
    "id": "2N00xBs-LJJR"
   },
   "source": [
    "**How many different locations are there in the users table?**"
   ]
  },
  {
   "cell_type": "code",
   "execution_count": 84,
   "metadata": {
    "colab": {
     "base_uri": "https://localhost:8080/",
     "height": 96
    },
    "id": "SSuMLz0-FUyu",
    "outputId": "f8594ecb-d892-41b1-c3ec-37d54359ecb1"
   },
   "outputs": [
    {
     "name": "stdout",
     "output_type": "stream",
     "text": [
      " * sqlite:///chatdata.db\n",
      "Done.\n"
     ]
    },
    {
     "data": {
      "text/html": [
       "<table>\n",
       "    <thead>\n",
       "        <tr>\n",
       "            <th>count( Distinct Location)</th>\n",
       "        </tr>\n",
       "    </thead>\n",
       "    <tbody>\n",
       "        <tr>\n",
       "            <td>1900</td>\n",
       "        </tr>\n",
       "    </tbody>\n",
       "</table>"
      ],
      "text/plain": [
       "[(1900,)]"
      ]
     },
     "execution_count": 84,
     "metadata": {},
     "output_type": "execute_result"
    }
   ],
   "source": [
    "%%sql\n",
    "select  count( Distinct Location) \n",
    "from users\n"
   ]
  },
  {
   "cell_type": "code",
   "execution_count": 85,
   "metadata": {
    "colab": {
     "base_uri": "https://localhost:8080/"
    },
    "id": "Q3K9YeANFU10",
    "outputId": "37d14b61-e808-42c9-b649-7577d3414b00"
   },
   "outputs": [
    {
     "data": {
      "text/plain": [
       "Germany                   117\n",
       "India                     100\n",
       "United States              69\n",
       "Paris, France              66\n",
       "London, United Kingdom     63\n",
       "                         ... \n",
       "Minnesota                   1\n",
       "European Union              1\n",
       "Gronigen                    1\n",
       "Göteborg, Sweden            1\n",
       "Belem, Brazil               1\n",
       "Name: Location, Length: 1900, dtype: int64"
      ]
     },
     "execution_count": 85,
     "metadata": {},
     "output_type": "execute_result"
    }
   ],
   "source": [
    "users['Location'].value_counts()"
   ]
  },
  {
   "cell_type": "code",
   "execution_count": 86,
   "metadata": {
    "id": "t80OAUbBAyvX"
   },
   "outputs": [],
   "source": [
    "sql= \"\"\"\n",
    "select  count(Distinct Location)\n",
    "from users\n",
    "\"\"\"\n",
    "store_query(\"Task 2\",\"How many different locations are there in the users table?\",sql)"
   ]
  },
  {
   "cell_type": "markdown",
   "metadata": {
    "id": "21FvWlniMroL"
   },
   "source": [
    "**What are the top 5 locations of users?**"
   ]
  },
  {
   "cell_type": "code",
   "execution_count": 87,
   "metadata": {
    "colab": {
     "base_uri": "https://localhost:8080/",
     "height": 182
    },
    "id": "M8eL_RALMej8",
    "outputId": "07a02fc5-6baf-44de-89fe-cae7d445afb6"
   },
   "outputs": [
    {
     "name": "stdout",
     "output_type": "stream",
     "text": [
      " * sqlite:///chatdata.db\n",
      "Done.\n"
     ]
    },
    {
     "data": {
      "text/html": [
       "<table>\n",
       "    <thead>\n",
       "        <tr>\n",
       "            <th>Location</th>\n",
       "            <th>Loc_count</th>\n",
       "        </tr>\n",
       "    </thead>\n",
       "    <tbody>\n",
       "        <tr>\n",
       "            <td>Germany</td>\n",
       "            <td>117</td>\n",
       "        </tr>\n",
       "        <tr>\n",
       "            <td>India</td>\n",
       "            <td>100</td>\n",
       "        </tr>\n",
       "        <tr>\n",
       "            <td>United States</td>\n",
       "            <td>69</td>\n",
       "        </tr>\n",
       "        <tr>\n",
       "            <td>Paris, France</td>\n",
       "            <td>66</td>\n",
       "        </tr>\n",
       "        <tr>\n",
       "            <td>London, United Kingdom</td>\n",
       "            <td>63</td>\n",
       "        </tr>\n",
       "    </tbody>\n",
       "</table>"
      ],
      "text/plain": [
       "[('Germany', 117),\n",
       " ('India', 100),\n",
       " ('United States', 69),\n",
       " ('Paris, France', 66),\n",
       " ('London, United Kingdom', 63)]"
      ]
     },
     "execution_count": 87,
     "metadata": {},
     "output_type": "execute_result"
    }
   ],
   "source": [
    "%%sql\n",
    "select  Location ,count( Location)AS Loc_count from users\n",
    "GROUP BY Location \n",
    "ORDER BY count( Location) DESC\n",
    "limit 5"
   ]
  },
  {
   "cell_type": "code",
   "execution_count": 88,
   "metadata": {
    "id": "2QxjtveGMenP"
   },
   "outputs": [],
   "source": [
    "sql=\"\"\"\n",
    "select  Location ,count( Location)AS Loc_count from users\n",
    "GROUP BY Location \n",
    "ORDER BY count( Location) DESC\n",
    "limit 5\n",
    "\"\"\"\n",
    "store_query(\"Task 2\",\"What are the top 5 locations of users?\",sql)"
   ]
  },
  {
   "cell_type": "markdown",
   "metadata": {
    "id": "uJZJjbtEVCUK"
   },
   "source": [
    "**Rank the days of the week from highest to lowest in terms of the volume of ViewCount as a percentage.**"
   ]
  },
  {
   "cell_type": "code",
   "execution_count": 48,
   "metadata": {
    "colab": {
     "base_uri": "https://localhost:8080/",
     "height": 225
    },
    "id": "WY-OZlv8Meq7",
    "outputId": "a719b123-0647-4d2e-ece9-71c5e831516c"
   },
   "outputs": [
    {
     "name": "stdout",
     "output_type": "stream",
     "text": [
      " * sqlite:///chatdata.db\n",
      "Done.\n"
     ]
    },
    {
     "data": {
      "text/html": [
       "<table>\n",
       "    <thead>\n",
       "        <tr>\n",
       "            <th>day_</th>\n",
       "            <th>sum_view</th>\n",
       "            <th>percentage</th>\n",
       "        </tr>\n",
       "    </thead>\n",
       "    <tbody>\n",
       "        <tr>\n",
       "            <td>4</td>\n",
       "            <td>331507</td>\n",
       "            <td>16.82</td>\n",
       "        </tr>\n",
       "        <tr>\n",
       "            <td>3</td>\n",
       "            <td>330506</td>\n",
       "            <td>16.77</td>\n",
       "        </tr>\n",
       "        <tr>\n",
       "            <td>2</td>\n",
       "            <td>320382</td>\n",
       "            <td>16.26</td>\n",
       "        </tr>\n",
       "        <tr>\n",
       "            <td>1</td>\n",
       "            <td>311546</td>\n",
       "            <td>15.81</td>\n",
       "        </tr>\n",
       "        <tr>\n",
       "            <td>5</td>\n",
       "            <td>267324</td>\n",
       "            <td>13.56</td>\n",
       "        </tr>\n",
       "        <tr>\n",
       "            <td>0</td>\n",
       "            <td>234459</td>\n",
       "            <td>11.9</td>\n",
       "        </tr>\n",
       "        <tr>\n",
       "            <td>6</td>\n",
       "            <td>175247</td>\n",
       "            <td>8.89</td>\n",
       "        </tr>\n",
       "    </tbody>\n",
       "</table>"
      ],
      "text/plain": [
       "[('4', 331507, 16.82),\n",
       " ('3', 330506, 16.77),\n",
       " ('2', 320382, 16.26),\n",
       " ('1', 311546, 15.81),\n",
       " ('5', 267324, 13.56),\n",
       " ('0', 234459, 11.9),\n",
       " ('6', 175247, 8.89)]"
      ]
     },
     "execution_count": 48,
     "metadata": {},
     "output_type": "execute_result"
    }
   ],
   "source": [
    "%%sql\n",
    "select\n",
    "strftime('%w', CreationDate) as day_ ,\n",
    "  sum(ViewCount) as sum_view ,round(sum(ViewCount)*100.0/(select sum(ViewCount)from posts ) ,2)as percentage  from posts\n",
    "group by day_\n",
    "order by sum(ViewCount) desc"
   ]
  },
  {
   "cell_type": "code",
   "execution_count": 90,
   "metadata": {
    "id": "Ew4s5fIcMeut"
   },
   "outputs": [],
   "source": [
    "sql=\"\"\"\n",
    "strftime('%w', CreationDate) as day_ ,\n",
    "  sum(ViewCount) as sum_view ,round(sum(ViewCount)*100.0/(select sum(ViewCount)from posts ) ,2)as percentage  from posts\n",
    "group by day_\n",
    "order by sum(ViewCount) desc\n",
    "\"\"\"\n",
    "store_query(\"Task 2\",\"Rank the days of the week from highest to lowest in terms of the volume of ViewCount as a percentage.\",sql)\n"
   ]
  },
  {
   "cell_type": "code",
   "execution_count": 91,
   "metadata": {
    "colab": {
     "base_uri": "https://localhost:8080/",
     "height": 1000
    },
    "id": "96Exf8igMfCh",
    "outputId": "39fd6a27-109f-4268-f824-985aae7a8780"
   },
   "outputs": [
    {
     "name": "stdout",
     "output_type": "stream",
     "text": [
      " * sqlite:///chatdata.db\n",
      "Done.\n"
     ]
    },
    {
     "data": {
      "text/html": [
       "<table>\n",
       "    <thead>\n",
       "        <tr>\n",
       "            <th>task</th>\n",
       "            <th>action</th>\n",
       "            <th>query</th>\n",
       "        </tr>\n",
       "    </thead>\n",
       "    <tbody>\n",
       "        <tr>\n",
       "            <td>Single Table Queries</td>\n",
       "            <td>Which 5 users have viewed the most times and what is the sum of those views per user?</td>\n",
       "            <td><br>SELECT Id, SUM(Views) AS TotalViews<br>    FROM Users<br>        GROUP BY Id<br>            ORDER BY TotalViews DESC<br>                LIMIT 5<br>                </td>\n",
       "        </tr>\n",
       "        <tr>\n",
       "            <td>Task 1</td>\n",
       "            <td>Create table comments</td>\n",
       "            <td><br>    CREATE TABLE &quot;comments&quot; (<br>    &quot;Id&quot; INTEGER,<br>    &quot;PostId&quot; INTEGER,<br>    &quot;Score&quot; INTEGER,<br>    &quot;Text&quot; TEXT,<br>    &quot;CreationDate&quot; TEXT,<br>    &quot;UserId&quot; INTEGER<br>    )<br>    </td>\n",
       "        </tr>\n",
       "        <tr>\n",
       "            <td>Task 1</td>\n",
       "            <td>Create Table Posts</td>\n",
       "            <td><br>  CREATE TABLE &quot;posts&quot; (<br>&quot;Id&quot; INTEGER NOT NULL PRIMARY KEY,<br>&quot;PostTypeId&quot; INTEGER,<br>&quot;AcceptedAnswerId&quot; INTEGER,<br>&quot;ParentId&quot; INTEGER,<br>&quot;CreationDate&quot; TEXT,<br>&quot;Score&quot; INTEGER,<br>&quot;ViewCount&quot; INTEGER,<br>&quot;Body&quot; TEXT,<br>&quot;OwnerUserId&quot; INTEGER,<br>&quot;OwnerDisplayName&quot; TEXT,<br>&quot;LastEditorUserId&quot; INTEGER,<br>&quot;LastEditorDisplayName&quot; TEXT,<br>&quot;LastEditDate&quot; TEXT,<br>&quot;LastActivityDate&quot; TEXT,<br>&quot;Title&quot; TEXT,<br>&quot;Tags&quot; TEXT,<br>&quot;AnswerCount&quot; INTEGER,<br>&quot;CommentCount&quot; INTEGER,<br>&quot;FavoriteCount&quot; INTEGER,<br>&quot;ClosedDate&quot; TEXT,<br>&quot;CommunityOwnedDate&quot; TEXT<br>)<br></td>\n",
       "        </tr>\n",
       "        <tr>\n",
       "            <td>Task 1</td>\n",
       "            <td>Create Table USERS</td>\n",
       "            <td><br>  CREATE TABLE &quot;users&quot; (<br>&quot;Id&quot; INTEGER NOT NULL PRIMARY KEY,<br>&quot;Reputation&quot; INTEGER,<br>&quot;CreationDate&quot; TEXT,<br>&quot;DisplayName&quot; TEXT,<br>&quot;LastAccessDate&quot; TEXT,<br>&quot;WebsiteUrl&quot; TEXT,<br>&quot;Location&quot; TEXT,<br>&quot;AboutMe&quot; TEXT,<br>&quot;Views&quot; INTEGER,<br>&quot;UpVotes&quot; INTEGER,<br>&quot;DownVotes&quot; INTEGER,<br>&quot;ProfileImageUrl&quot; TEXT,<br>&quot;AccountId&quot; INTEGER<br>)<br></td>\n",
       "        </tr>\n",
       "        <tr>\n",
       "            <td>Task 2</td>\n",
       "            <td>How many posts have 0 comments?</td>\n",
       "            <td><br>select count(*) from posts<br>where CommentCount==0<br></td>\n",
       "        </tr>\n",
       "        <tr>\n",
       "            <td>Task 2</td>\n",
       "            <td>How many posts have 0 comments?</td>\n",
       "            <td><br>select count(*) from posts<br>where CommentCount==0<br></td>\n",
       "        </tr>\n",
       "        <tr>\n",
       "            <td>Task 2</td>\n",
       "            <td>How many posts have 1 comments?</td>\n",
       "            <td><br>select count(*) from posts<br>where CommentCount==1<br></td>\n",
       "        </tr>\n",
       "        <tr>\n",
       "            <td>Task 2</td>\n",
       "            <td>How many posts have 2 comments or more?</td>\n",
       "            <td><br>select count(*) from posts<br>where CommentCount&gt;=2<br></td>\n",
       "        </tr>\n",
       "        <tr>\n",
       "            <td>Task 2</td>\n",
       "            <td>Find the top 5 posts with the highest scores</td>\n",
       "            <td><br>select * from posts<br>order by Score DESC<br>LIMIT 5<br></td>\n",
       "        </tr>\n",
       "        <tr>\n",
       "            <td>Task 2</td>\n",
       "            <td>What are the 5 most frequent scores on posts?</td>\n",
       "            <td><br>select Score, Count(Score) AS Count_score<br><br> from posts<br> group by Score<br> order by Count_score Desc<br> Limit 5<br> </td>\n",
       "        </tr>\n",
       "        <tr>\n",
       "            <td>Task 2</td>\n",
       "            <td>How many posts have the keyword data in their tags?</td>\n",
       "            <td><br>select count(*) from posts<br>Where Tags LIKE&quot;%&lt;%&quot; and Tags like&quot;%data%&quot;<br></td>\n",
       "        </tr>\n",
       "        <tr>\n",
       "            <td>Task 2</td>\n",
       "            <td>What are the 5 most frequent commentcount for posts?</td>\n",
       "            <td><br>select CommentCount, Count(CommentCount) AS Count_comment<br> from posts<br> group by CommentCount<br> order by Count_comment Desc<br> Limit 5<br> </td>\n",
       "        </tr>\n",
       "        <tr>\n",
       "            <td>Task 2</td>\n",
       "            <td>How many posts have an accepted answer?</td>\n",
       "            <td><br>select count(*) from posts<br>where AcceptedAnswerId != 0<br></td>\n",
       "        </tr>\n",
       "        <tr>\n",
       "            <td>Task 2</td>\n",
       "            <td>What is the average,MIN,MAX reputation of table users?</td>\n",
       "            <td><br>select AVG(Reputation) as Average_Reputation ,<br>MAX(Reputation) as Max_Reputation,<br>MIN(Reputation) as Min_Reputation<br>from users<br></td>\n",
       "        </tr>\n",
       "        <tr>\n",
       "            <td>Task 2</td>\n",
       "            <td>What is the length of the body of 5 most viewed posts?</td>\n",
       "            <td><br>select Id,ViewCOUNT,Len_body from posts<br>order by ViewCount Desc<br>Limit 5<br></td>\n",
       "        </tr>\n",
       "        <tr>\n",
       "            <td>Task 2</td>\n",
       "            <td>How many different locations are there in the users table?</td>\n",
       "            <td><br>select  count(Distinct Location)<br>from users<br></td>\n",
       "        </tr>\n",
       "        <tr>\n",
       "            <td>Task 2</td>\n",
       "            <td>What are the top 5 locations of users?</td>\n",
       "            <td><br>select  Location ,count( Location)AS Loc_count from users<br>GROUP BY Location <br>ORDER BY count( Location) DESC<br>limit 5<br></td>\n",
       "        </tr>\n",
       "        <tr>\n",
       "            <td>Task 2</td>\n",
       "            <td>Rank the days of the week from highest to lowest in terms of the volume of ViewCount as a percentage.</td>\n",
       "            <td><br>strftime(&#x27;%w&#x27;, CreationDate) as day_ ,<br>  sum(ViewCount) as sum_view ,round(sum(ViewCount)*100.0/(select sum(ViewCount)from posts ) ,2)as percentage  from posts<br>group by day_<br>order by sum(ViewCount) desc<br></td>\n",
       "        </tr>\n",
       "    </tbody>\n",
       "</table>"
      ],
      "text/plain": [
       "[('Single Table Queries', 'Which 5 users have viewed the most times and what is the sum of those views per user?', '\\nSELECT Id, SUM(Views) AS TotalViews\\n    FROM Users\\n        GROUP BY Id\\n            ORDER BY TotalViews DESC\\n                LIMIT 5\\n                '),\n",
       " ('Task 1', 'Create table comments', '\\n    CREATE TABLE \"comments\" (\\n    \"Id\" INTEGER,\\n    \"PostId\" INTEGER,\\n    \"Score\" INTEGER,\\n    \"Text\" TEXT,\\n    \"CreationDate\" TEXT,\\n    \"UserId\" INTEGER\\n    )\\n    '),\n",
       " ('Task 1', 'Create Table Posts', '\\n  CREATE TABLE \"posts\" (\\n\"Id\" INTEGER NOT NULL PRIMARY KEY,\\n\"PostTypeId\" INTEGER,\\n\"AcceptedAnswerId\" INTEGER,\\n\"ParentId\" INTEGER,\\n\"CreationDat ... (227 characters truncated) ... e\" TEXT,\\n\"Tags\" TEXT,\\n\"AnswerCount\" INTEGER,\\n\"CommentCount\" INTEGER,\\n\"FavoriteCount\" INTEGER,\\n\"ClosedDate\" TEXT,\\n\"CommunityOwnedDate\" TEXT\\n)\\n'),\n",
       " ('Task 1', 'Create Table USERS', '\\n  CREATE TABLE \"users\" (\\n\"Id\" INTEGER NOT NULL PRIMARY KEY,\\n\"Reputation\" INTEGER,\\n\"CreationDate\" TEXT,\\n\"DisplayName\" TEXT,\\n\"LastAccessDate\" TE ... (20 characters truncated) ... XT,\\n\"Location\" TEXT,\\n\"AboutMe\" TEXT,\\n\"Views\" INTEGER,\\n\"UpVotes\" INTEGER,\\n\"DownVotes\" INTEGER,\\n\"ProfileImageUrl\" TEXT,\\n\"AccountId\" INTEGER\\n)\\n'),\n",
       " ('Task 2', 'How many posts have 0 comments?', '\\nselect count(*) from posts\\nwhere CommentCount==0\\n'),\n",
       " ('Task 2', 'How many posts have 0 comments?', '\\nselect count(*) from posts\\nwhere CommentCount==0\\n'),\n",
       " ('Task 2', 'How many posts have 1 comments?', '\\nselect count(*) from posts\\nwhere CommentCount==1\\n'),\n",
       " ('Task 2', 'How many posts have 2 comments or more?', '\\nselect count(*) from posts\\nwhere CommentCount>=2\\n'),\n",
       " ('Task 2', 'Find the top 5 posts with the highest scores', '\\nselect * from posts\\norder by Score DESC\\nLIMIT 5\\n'),\n",
       " ('Task 2', 'What are the 5 most frequent scores on posts?', '\\nselect Score, Count(Score) AS Count_score\\n\\n from posts\\n group by Score\\n order by Count_score Desc\\n Limit 5\\n '),\n",
       " ('Task 2', 'How many posts have the keyword data in their tags?', '\\nselect count(*) from posts\\nWhere Tags LIKE\"%<%\" and Tags like\"%data%\"\\n'),\n",
       " ('Task 2', 'What are the 5 most frequent commentcount for posts?', '\\nselect CommentCount, Count(CommentCount) AS Count_comment\\n from posts\\n group by CommentCount\\n order by Count_comment Desc\\n Limit 5\\n '),\n",
       " ('Task 2', 'How many posts have an accepted answer?', '\\nselect count(*) from posts\\nwhere AcceptedAnswerId != 0\\n'),\n",
       " ('Task 2', 'What is the average,MIN,MAX reputation of table users?', '\\nselect AVG(Reputation) as Average_Reputation ,\\nMAX(Reputation) as Max_Reputation,\\nMIN(Reputation) as Min_Reputation\\nfrom users\\n'),\n",
       " ('Task 2', 'What is the length of the body of 5 most viewed posts?', '\\nselect Id,ViewCOUNT,Len_body from posts\\norder by ViewCount Desc\\nLimit 5\\n'),\n",
       " ('Task 2', 'How many different locations are there in the users table?', '\\nselect  count(Distinct Location)\\nfrom users\\n'),\n",
       " ('Task 2', 'What are the top 5 locations of users?', '\\nselect  Location ,count( Location)AS Loc_count from users\\nGROUP BY Location \\nORDER BY count( Location) DESC\\nlimit 5\\n'),\n",
       " ('Task 2', 'Rank the days of the week from highest to lowest in terms of the volume of ViewCount as a percentage.', \"\\nstrftime('%w', CreationDate) as day_ ,\\n  sum(ViewCount) as sum_view ,round(sum(ViewCount)*100.0/(select sum(ViewCount)from posts ) ,2)as percentage  from posts\\ngroup by day_\\norder by sum(ViewCount) desc\\n\")]"
      ]
     },
     "execution_count": 91,
     "metadata": {},
     "output_type": "execute_result"
    }
   ],
   "source": [
    "%%sql\n",
    "select * from queries"
   ]
  },
  {
   "cell_type": "markdown",
   "metadata": {
    "id": "jhrXbOmedIUc"
   },
   "source": [
    "**How many posts have been created by a user that has a filled out the \"AboutMe\" section?**"
   ]
  },
  {
   "cell_type": "code",
   "execution_count": 92,
   "metadata": {
    "colab": {
     "base_uri": "https://localhost:8080/",
     "height": 96
    },
    "id": "71Or1h0RCLO3",
    "outputId": "0bcac06f-0384-436c-f647-780fd7a60a5e"
   },
   "outputs": [
    {
     "name": "stdout",
     "output_type": "stream",
     "text": [
      " * sqlite:///chatdata.db\n",
      "Done.\n"
     ]
    },
    {
     "data": {
      "text/html": [
       "<table>\n",
       "    <thead>\n",
       "        <tr>\n",
       "            <th>count(posts.Id)</th>\n",
       "        </tr>\n",
       "    </thead>\n",
       "    <tbody>\n",
       "        <tr>\n",
       "            <td>17189</td>\n",
       "        </tr>\n",
       "    </tbody>\n",
       "</table>"
      ],
      "text/plain": [
       "[(17189,)]"
      ]
     },
     "execution_count": 92,
     "metadata": {},
     "output_type": "execute_result"
    }
   ],
   "source": [
    "%%sql\n",
    "\n",
    "select count(posts.Id)from posts,users\n",
    "where users.Id =posts.OwnerUserId AND users.AboutMe is not null"
   ]
  },
  {
   "cell_type": "code",
   "execution_count": 93,
   "metadata": {
    "id": "r_E8pyK0CLO3"
   },
   "outputs": [],
   "source": [
    "sql=\"\"\"\n",
    "select count(posts.Id)from posts,users\n",
    "where users.Id =posts.OwnerUserId AND users.AboutMe is not null\n",
    "\"\"\"\n",
    "store_query(\"Task 3\",\"How many posts have been created by a user that has a filled out the AboutMe  section?\",sql)"
   ]
  },
  {
   "cell_type": "markdown",
   "metadata": {
    "id": "H92qNtatfjDQ"
   },
   "source": [
    "**Considering only the users with an \"AboutMe,\" how many posts are there per user?**"
   ]
  },
  {
   "cell_type": "code",
   "execution_count": 68,
   "metadata": {
    "colab": {
     "base_uri": "https://localhost:8080/",
     "height": 96
    },
    "id": "B4eK7Q6au1Rv",
    "outputId": "011c8992-c13d-42ea-80bc-b86938ce7f97"
   },
   "outputs": [
    {
     "name": "stdout",
     "output_type": "stream",
     "text": [
      " * sqlite:///chatdata.db\n",
      "Done.\n"
     ]
    },
    {
     "data": {
      "text/html": [
       "<table>\n",
       "    <thead>\n",
       "        <tr>\n",
       "            <th>posts_per_users</th>\n",
       "        </tr>\n",
       "    </thead>\n",
       "    <tbody>\n",
       "        <tr>\n",
       "            <td>4.274807261875155</td>\n",
       "        </tr>\n",
       "    </tbody>\n",
       "</table>"
      ],
      "text/plain": [
       "[(4.274807261875155,)]"
      ]
     },
     "execution_count": 68,
     "metadata": {},
     "output_type": "execute_result"
    }
   ],
   "source": [
    "%%sql\n",
    "select count(*)/(select cast(count(*)as float) from users where AboutMe!='') as posts_per_users from posts p join users u on p.OwnerUserId = u.Id where u.AboutMe !=''"
   ]
  },
  {
   "cell_type": "code",
   "execution_count": 69,
   "metadata": {
    "id": "SeASFwg7CLO4"
   },
   "outputs": [],
   "source": [
    "# TODO\n",
    "sql=\"\"\"\n",
    "select count(*)/(select cast(count(*)as float) from users where AboutMe!='') as posts_per_users from posts p join users u on p.OwnerUserId = u.Id where u.AboutMe !=''\n",
    "\"\"\"\n",
    "store_query(\"Task 3\",\"Considering only the users with an AboutMe, how many posts are there per user?\",sql)\n"
   ]
  },
  {
   "cell_type": "markdown",
   "metadata": {
    "id": "Y-AG8PdfiDl_"
   },
   "source": [
    "**Not taking into account the commentcount field in the table posts, what are the Top 10 posts in terms of number of comments?**\n"
   ]
  },
  {
   "cell_type": "code",
   "execution_count": null,
   "metadata": {
    "id": "xuuTuoV4vyv4"
   },
   "outputs": [],
   "source": [
    "%%sql\n",
    "select count(*) as N ,p.Id from posts p join comments c on c.PostId = p.Id\n",
    "group by p.Id \n",
    "order by N DESC \n",
    "limit 10"
   ]
  },
  {
   "cell_type": "code",
   "execution_count": 67,
   "metadata": {
    "id": "S5flaA8uh__-"
   },
   "outputs": [],
   "source": [
    "sql= \"\"\"\n",
    "select count(*) as N ,p.Id from posts p join comments c on c.PostId = p.Id\n",
    "group by p.Id \n",
    "order by N DESC \n",
    "limit 10\n",
    " \"\"\"\n",
    "store_query(\"Task 3\",\"Not taking into account the commentcount field in the table posts, what are the Top 10 posts in terms of number of comments?\",sql)"
   ]
  },
  {
   "cell_type": "markdown",
   "metadata": {
    "id": "hUMc-tpcWZob"
   },
   "source": [
    "**What are the Top 10 posts which have the highest cummulative (post score + comment score) score?**"
   ]
  },
  {
   "cell_type": "code",
   "execution_count": 56,
   "metadata": {
    "colab": {
     "base_uri": "https://localhost:8080/",
     "height": 289
    },
    "id": "a_v_2LjmiAH5",
    "outputId": "fd34b99f-5bac-44fa-95bd-5c1008487a76"
   },
   "outputs": [
    {
     "name": "stdout",
     "output_type": "stream",
     "text": [
      " * sqlite:///chatdata.db\n",
      "Done.\n"
     ]
    },
    {
     "data": {
      "text/html": [
       "<table>\n",
       "    <thead>\n",
       "        <tr>\n",
       "            <th>Id</th>\n",
       "            <th>N</th>\n",
       "            <th>comment_score</th>\n",
       "            <th>cumm_score</th>\n",
       "        </tr>\n",
       "    </thead>\n",
       "    <tbody>\n",
       "        <tr>\n",
       "            <td>394118</td>\n",
       "            <td>24</td>\n",
       "            <td>0</td>\n",
       "            <td>306</td>\n",
       "        </tr>\n",
       "        <tr>\n",
       "            <td>394128</td>\n",
       "            <td>15</td>\n",
       "            <td>0</td>\n",
       "            <td>169</td>\n",
       "        </tr>\n",
       "        <tr>\n",
       "            <td>388578</td>\n",
       "            <td>11</td>\n",
       "            <td>3</td>\n",
       "            <td>141</td>\n",
       "        </tr>\n",
       "        <tr>\n",
       "            <td>398653</td>\n",
       "            <td>15</td>\n",
       "            <td>1</td>\n",
       "            <td>111</td>\n",
       "        </tr>\n",
       "        <tr>\n",
       "            <td>388566</td>\n",
       "            <td>15</td>\n",
       "            <td>0</td>\n",
       "            <td>101</td>\n",
       "        </tr>\n",
       "        <tr>\n",
       "            <td>398646</td>\n",
       "            <td>7</td>\n",
       "            <td>2</td>\n",
       "            <td>99</td>\n",
       "        </tr>\n",
       "        <tr>\n",
       "            <td>421677</td>\n",
       "            <td>9</td>\n",
       "            <td>1</td>\n",
       "            <td>96</td>\n",
       "        </tr>\n",
       "        <tr>\n",
       "            <td>420526</td>\n",
       "            <td>6</td>\n",
       "            <td>1</td>\n",
       "            <td>92</td>\n",
       "        </tr>\n",
       "        <tr>\n",
       "            <td>400317</td>\n",
       "            <td>5</td>\n",
       "            <td>0</td>\n",
       "            <td>72</td>\n",
       "        </tr>\n",
       "        <tr>\n",
       "            <td>388582</td>\n",
       "            <td>5</td>\n",
       "            <td>0</td>\n",
       "            <td>69</td>\n",
       "        </tr>\n",
       "    </tbody>\n",
       "</table>"
      ],
      "text/plain": [
       "[(394118, 24, 0, 306),\n",
       " (394128, 15, 0, 169),\n",
       " (388578, 11, 3, 141),\n",
       " (398653, 15, 1, 111),\n",
       " (388566, 15, 0, 101),\n",
       " (398646, 7, 2, 99),\n",
       " (421677, 9, 1, 96),\n",
       " (420526, 6, 1, 92),\n",
       " (400317, 5, 0, 72),\n",
       " (388582, 5, 0, 69)]"
      ]
     },
     "execution_count": 56,
     "metadata": {},
     "output_type": "execute_result"
    }
   ],
   "source": [
    "%%sql\n",
    "select posts.Id,count(*) N ,comments.Score as comment_score,sum(comments.Score)+ posts.Score as cumm_score from posts,comments\n",
    "where comments.PostId =posts.Id\n",
    "group by posts.Id,posts.Score\n",
    "order by cumm_score DESC\n",
    "LIMIT 10"
   ]
  },
  {
   "cell_type": "code",
   "execution_count": 66,
   "metadata": {
    "id": "h4x7LWsIiALo"
   },
   "outputs": [],
   "source": [
    "sql=\"\"\"\n",
    "select posts.Id,count(*) N ,comments.Score as comment_score,sum(comments.Score)+ posts.Score as cumm_score from posts,comments\n",
    "where comments.PostId =posts.Id\n",
    "group by posts.Id,posts.Score\n",
    "order by cumm_score DESC\n",
    "LIMIT 10\n",
    "\"\"\"\n",
    "store_query(\"Task 3\",\"What are the Top 10 posts which have the highest cummulative (post score + comment score) score?\",sql)"
   ]
  },
  {
   "cell_type": "markdown",
   "metadata": {
    "id": "WIM6b9ODYFlW"
   },
   "source": [
    "**Who are the top 10 users who comment the most?**   \n",
    "\n",
    "\n"
   ]
  },
  {
   "cell_type": "code",
   "execution_count": null,
   "metadata": {
    "id": "BuHo2TY-nGAt"
   },
   "outputs": [],
   "source": [
    "%%sql\n",
    "select users.Id,count(comments.Id) as com_count , users.Reputation from users,comments\n",
    "WHERE users.Id = comments.UserId\n",
    "group by users.Id, users.Reputation\n",
    "order by count(comments.Id) desc\n",
    "limit 10"
   ]
  },
  {
   "cell_type": "code",
   "execution_count": 65,
   "metadata": {
    "id": "_zBVrq5iF-Ie"
   },
   "outputs": [],
   "source": [
    "sql=\"\"\"\n",
    "select users.Id,count(comments.Id) as com_count , users.Reputation from users,comments\n",
    "WHERE users.Id = comments.UserId\n",
    "group by users.Id, users.Reputation\n",
    "order by count(comments.Id) desc\n",
    "limit 10\n",
    "\"\"\"\n",
    "store_query(\"Task 3\",\"Who are the top 10 users who comment the most?\",sql)"
   ]
  },
  {
   "cell_type": "markdown",
   "metadata": {
    "id": "YJwps4hObfZw"
   },
   "source": [
    "**Who are the top 10 users who post the most?**\n"
   ]
  },
  {
   "cell_type": "code",
   "execution_count": null,
   "metadata": {
    "id": "9XprD8hbYGoC"
   },
   "outputs": [],
   "source": [
    "%%sql\n",
    "select posts.OwnerUserId,count(posts.Id) as post_count , users.Reputation from users,posts\n",
    "WHERE users.Id = posts.OwnerUserId\n",
    "group by posts.OwnerUserId, users.Reputation\n",
    "order by users.Reputation desc\n",
    "limit 10"
   ]
  },
  {
   "cell_type": "code",
   "execution_count": 64,
   "metadata": {
    "id": "9uA7H0pfYGul"
   },
   "outputs": [],
   "source": [
    "sql=\"\"\"\n",
    "select posts.OwnerUserId,count(posts.Id) as post_count , users.Reputation from users,posts\n",
    "WHERE users.Id = posts.OwnerUserId\n",
    "group by posts.OwnerUserId, users.Reputation\n",
    "order by users.Reputation desc\n",
    "limit 10\n",
    "\"\"\"\n",
    "store_query(\"Task 3\",\"Who are the top 10 users who post the most?\",sql)"
   ]
  },
  {
   "cell_type": "code",
   "execution_count": null,
   "metadata": {
    "id": "5VM9MrU3CLO5"
   },
   "outputs": [],
   "source": [
    "%sql SELECT * FROM queries"
   ]
  },
  {
   "cell_type": "code",
   "execution_count": null,
   "metadata": {
    "id": "-SfyWV7lCLO6"
   },
   "outputs": [],
   "source": [
    "# Read the queries table into pandas\n",
    "sql = 'SELECT * FROM queries'\n",
    "queries = pd.read_sql(sql, con)\n",
    "\n",
    "# Drop duplicates\n",
    "queries.drop_duplicates(inplace = True) # drop duplicates"
   ]
  },
  {
   "cell_type": "code",
   "execution_count": null,
   "metadata": {
    "id": "2ztyndTLCLO7"
   },
   "outputs": [],
   "source": [
    "for col in queries.columns:\n",
    "    queries[col] = queries[col].str.upper()\n",
    "    \n",
    "queries"
   ]
  },
  {
   "cell_type": "code",
   "execution_count": null,
   "metadata": {
    "id": "TLDGq9-YCLO7"
   },
   "outputs": [],
   "source": [
    "# Write the now deduped uppercase dataframe back to sqlite and replace the table\n",
    "queries.to_sql('queries', con, if_exists='replace', index=False)"
   ]
  },
  {
   "cell_type": "code",
   "execution_count": 63,
   "metadata": {
    "colab": {
     "base_uri": "https://localhost:8080/",
     "height": 309
    },
    "id": "29EVdFheCLO8",
    "outputId": "27188096-b96f-4ab6-97cd-6dfc2dddc1e5"
   },
   "outputs": [
    {
     "name": "stdout",
     "output_type": "stream",
     "text": [
      " * sqlite:///chatdata.db\n",
      "Done.\n"
     ]
    },
    {
     "data": {
      "text/html": [
       "<table>\n",
       "    <thead>\n",
       "        <tr>\n",
       "            <th>query</th>\n",
       "        </tr>\n",
       "    </thead>\n",
       "    <tbody>\n",
       "        <tr>\n",
       "            <td><br>SELECT Id, SUM(Views) AS TotalViews<br>    FROM Users<br>        GROUP BY Id<br>            ORDER BY TotalViews DESC<br>                LIMIT 5<br>                </td>\n",
       "        </tr>\n",
       "        <tr>\n",
       "            <td><br>select Score, Count(Score) AS Count_score<br><br> from posts<br> group by Score<br> order by Count_score Desc<br> Limit 5<br> </td>\n",
       "        </tr>\n",
       "    </tbody>\n",
       "</table>"
      ],
      "text/plain": [
       "[('\\nSELECT Id, SUM(Views) AS TotalViews\\n    FROM Users\\n        GROUP BY Id\\n            ORDER BY TotalViews DESC\\n                LIMIT 5\\n                ',),\n",
       " ('\\nselect Score, Count(Score) AS Count_score\\n\\n from posts\\n group by Score\\n order by Count_score Desc\\n Limit 5\\n ',)]"
      ]
     },
     "execution_count": 63,
     "metadata": {},
     "output_type": "execute_result"
    }
   ],
   "source": [
    "%%sql\n",
    "SELECT query\n",
    "    FROM queries\n",
    "        WHERE query LIKE '%GROUP BY%'"
   ]
  },
  {
   "cell_type": "code",
   "execution_count": null,
   "metadata": {
    "id": "nvjaDKYJCLO9"
   },
   "outputs": [],
   "source": [
    "%%sql\n",
    "SELECT query\n",
    "    FROM queries\n",
    "        WHERE query LIKE '%DISTINCT%'"
   ]
  },
  {
   "cell_type": "code",
   "execution_count": null,
   "metadata": {
    "id": "Yu6TlsRdCLO9"
   },
   "outputs": [],
   "source": [
    "con.close()"
   ]
  }
 ],
 "metadata": {
  "colab": {
   "provenance": []
  },
  "kernelspec": {
   "display_name": "Python 3 (ipykernel)",
   "language": "python",
   "name": "python3"
  },
  "language_info": {
   "codemirror_mode": {
    "name": "ipython",
    "version": 3
   },
   "file_extension": ".py",
   "mimetype": "text/x-python",
   "name": "python",
   "nbconvert_exporter": "python",
   "pygments_lexer": "ipython3",
   "version": "3.9.13"
  },
  "toc": {
   "base_numbering": 1,
   "nav_menu": {},
   "number_sections": true,
   "sideBar": true,
   "skip_h1_title": false,
   "title_cell": "Table of Contents",
   "title_sidebar": "Contents",
   "toc_cell": false,
   "toc_position": {
    "height": "calc(100% - 180px)",
    "left": "10px",
    "top": "150px",
    "width": "293.993px"
   },
   "toc_section_display": true,
   "toc_window_display": true
  }
 },
 "nbformat": 4,
 "nbformat_minor": 1
}
